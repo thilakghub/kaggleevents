{
 "cells": [
  {
   "cell_type": "code",
   "execution_count": 1,
   "metadata": {},
   "outputs": [],
   "source": [
    "import numpy as np\n",
    "import pandas as pd\n",
    "import datetime as dt\n",
    "from sklearn.metrics import r2_score\n",
    "from sklearn.model_selection import train_test_split\n",
    "import matplotlib.pyplot as plt\n",
    "from sklearn.linear_model import LinearRegression"
   ]
  },
  {
   "cell_type": "code",
   "execution_count": 2,
   "metadata": {},
   "outputs": [],
   "source": [
    "from scipy import stats"
   ]
  },
  {
   "cell_type": "code",
   "execution_count": 3,
   "metadata": {},
   "outputs": [],
   "source": [
    "train = pd.read_csv(\"train.csv\")"
   ]
  },
  {
   "cell_type": "code",
   "execution_count": 4,
   "metadata": {},
   "outputs": [],
   "source": [
    "lockdown_dates = pd.read_csv(\"lockdown_dates.csv\")"
   ]
  },
  {
   "cell_type": "code",
   "execution_count": 5,
   "metadata": {},
   "outputs": [],
   "source": [
    "train['Country_State'] = train['Country_Region'].str.cat(train.Province_State.fillna(''),sep=\" \")"
   ]
  },
  {
   "cell_type": "code",
   "execution_count": 6,
   "metadata": {},
   "outputs": [],
   "source": [
    "lockdown_dates['Country_State'] = lockdown_dates['Country_Region'].str.cat(lockdown_dates.Province_State.fillna(''),sep=\" \")\n"
   ]
  },
  {
   "cell_type": "code",
   "execution_count": 7,
   "metadata": {},
   "outputs": [
    {
     "data": {
      "text/html": [
       "<div>\n",
       "<style scoped>\n",
       "    .dataframe tbody tr th:only-of-type {\n",
       "        vertical-align: middle;\n",
       "    }\n",
       "\n",
       "    .dataframe tbody tr th {\n",
       "        vertical-align: top;\n",
       "    }\n",
       "\n",
       "    .dataframe thead th {\n",
       "        text-align: right;\n",
       "    }\n",
       "</style>\n",
       "<table border=\"1\" class=\"dataframe\">\n",
       "  <thead>\n",
       "    <tr style=\"text-align: right;\">\n",
       "      <th></th>\n",
       "      <th>Id</th>\n",
       "      <th>Province_State</th>\n",
       "      <th>Country_Region</th>\n",
       "      <th>Date</th>\n",
       "      <th>ConfirmedCases</th>\n",
       "      <th>Fatalities</th>\n",
       "      <th>Country_State</th>\n",
       "    </tr>\n",
       "  </thead>\n",
       "  <tbody>\n",
       "    <tr>\n",
       "      <th>0</th>\n",
       "      <td>1</td>\n",
       "      <td>NaN</td>\n",
       "      <td>Afghanistan</td>\n",
       "      <td>2020-01-22</td>\n",
       "      <td>0.0</td>\n",
       "      <td>0.0</td>\n",
       "      <td>Afghanistan</td>\n",
       "    </tr>\n",
       "    <tr>\n",
       "      <th>1</th>\n",
       "      <td>2</td>\n",
       "      <td>NaN</td>\n",
       "      <td>Afghanistan</td>\n",
       "      <td>2020-01-23</td>\n",
       "      <td>0.0</td>\n",
       "      <td>0.0</td>\n",
       "      <td>Afghanistan</td>\n",
       "    </tr>\n",
       "    <tr>\n",
       "      <th>2</th>\n",
       "      <td>3</td>\n",
       "      <td>NaN</td>\n",
       "      <td>Afghanistan</td>\n",
       "      <td>2020-01-24</td>\n",
       "      <td>0.0</td>\n",
       "      <td>0.0</td>\n",
       "      <td>Afghanistan</td>\n",
       "    </tr>\n",
       "    <tr>\n",
       "      <th>3</th>\n",
       "      <td>4</td>\n",
       "      <td>NaN</td>\n",
       "      <td>Afghanistan</td>\n",
       "      <td>2020-01-25</td>\n",
       "      <td>0.0</td>\n",
       "      <td>0.0</td>\n",
       "      <td>Afghanistan</td>\n",
       "    </tr>\n",
       "    <tr>\n",
       "      <th>4</th>\n",
       "      <td>5</td>\n",
       "      <td>NaN</td>\n",
       "      <td>Afghanistan</td>\n",
       "      <td>2020-01-26</td>\n",
       "      <td>0.0</td>\n",
       "      <td>0.0</td>\n",
       "      <td>Afghanistan</td>\n",
       "    </tr>\n",
       "  </tbody>\n",
       "</table>\n",
       "</div>"
      ],
      "text/plain": [
       "   Id Province_State Country_Region        Date  ConfirmedCases  Fatalities  \\\n",
       "0   1            NaN    Afghanistan  2020-01-22             0.0         0.0   \n",
       "1   2            NaN    Afghanistan  2020-01-23             0.0         0.0   \n",
       "2   3            NaN    Afghanistan  2020-01-24             0.0         0.0   \n",
       "3   4            NaN    Afghanistan  2020-01-25             0.0         0.0   \n",
       "4   5            NaN    Afghanistan  2020-01-26             0.0         0.0   \n",
       "\n",
       "  Country_State  \n",
       "0  Afghanistan   \n",
       "1  Afghanistan   \n",
       "2  Afghanistan   \n",
       "3  Afghanistan   \n",
       "4  Afghanistan   "
      ]
     },
     "execution_count": 7,
     "metadata": {},
     "output_type": "execute_result"
    }
   ],
   "source": [
    "train.head()"
   ]
  },
  {
   "cell_type": "code",
   "execution_count": 8,
   "metadata": {},
   "outputs": [],
   "source": [
    "train_use = train[train['Country_State'] == 'China Hubei']"
   ]
  },
  {
   "cell_type": "code",
   "execution_count": 9,
   "metadata": {},
   "outputs": [],
   "source": [
    "st_dt = train_use['Date'][train_use['ConfirmedCases'] > 0].min()"
   ]
  },
  {
   "cell_type": "code",
   "execution_count": 10,
   "metadata": {},
   "outputs": [
    {
     "name": "stderr",
     "output_type": "stream",
     "text": [
      "/Users/z001t72/anaconda3/lib/python3.6/site-packages/ipykernel_launcher.py:1: SettingWithCopyWarning: \n",
      "A value is trying to be set on a copy of a slice from a DataFrame.\n",
      "Try using .loc[row_indexer,col_indexer] = value instead\n",
      "\n",
      "See the caveats in the documentation: http://pandas.pydata.org/pandas-docs/stable/indexing.html#indexing-view-versus-copy\n",
      "  \"\"\"Entry point for launching an IPython kernel.\n"
     ]
    }
   ],
   "source": [
    "train_use['Date_diff'] = (((pd.to_datetime(train_use['Date']) - pd.to_datetime(st_dt)).dt.days) + 1)"
   ]
  },
  {
   "cell_type": "code",
   "execution_count": 11,
   "metadata": {},
   "outputs": [],
   "source": [
    "train_use = train_use[train_use['Date_diff'] > 0]"
   ]
  },
  {
   "cell_type": "code",
   "execution_count": 12,
   "metadata": {},
   "outputs": [],
   "source": [
    "ld_dt = lockdown_dates['Lockdown_date'][lockdown_dates['Country_State'] == 'China Hubei'][0]"
   ]
  },
  {
   "cell_type": "code",
   "execution_count": 150,
   "metadata": {},
   "outputs": [
    {
     "data": {
      "text/plain": [
       "'2020-01-23'"
      ]
     },
     "execution_count": 150,
     "metadata": {},
     "output_type": "execute_result"
    }
   ],
   "source": [
    "ld_dt"
   ]
  },
  {
   "cell_type": "code",
   "execution_count": 14,
   "metadata": {},
   "outputs": [],
   "source": [
    "train_use['Date_diff_ld1'] = (((pd.to_datetime(train_use['Date']) - pd.to_datetime(ld_dt)).dt.days) - 14)"
   ]
  },
  {
   "cell_type": "code",
   "execution_count": 15,
   "metadata": {},
   "outputs": [],
   "source": [
    "train_use['Date_diff_ld2'] = (((pd.to_datetime(train_use['Date']) - pd.to_datetime(ld_dt)).dt.days) - 28)"
   ]
  },
  {
   "cell_type": "code",
   "execution_count": 16,
   "metadata": {},
   "outputs": [],
   "source": [
    "train_use['ConfirmedCases_inc'] = train_use['ConfirmedCases'] - train_use['ConfirmedCases'].shift(periods=1).fillna(0)"
   ]
  },
  {
   "cell_type": "code",
   "execution_count": 17,
   "metadata": {},
   "outputs": [
    {
     "data": {
      "text/html": [
       "<div>\n",
       "<style scoped>\n",
       "    .dataframe tbody tr th:only-of-type {\n",
       "        vertical-align: middle;\n",
       "    }\n",
       "\n",
       "    .dataframe tbody tr th {\n",
       "        vertical-align: top;\n",
       "    }\n",
       "\n",
       "    .dataframe thead th {\n",
       "        text-align: right;\n",
       "    }\n",
       "</style>\n",
       "<table border=\"1\" class=\"dataframe\">\n",
       "  <thead>\n",
       "    <tr style=\"text-align: right;\">\n",
       "      <th></th>\n",
       "      <th>Id</th>\n",
       "      <th>Province_State</th>\n",
       "      <th>Country_Region</th>\n",
       "      <th>Date</th>\n",
       "      <th>ConfirmedCases</th>\n",
       "      <th>Fatalities</th>\n",
       "      <th>Country_State</th>\n",
       "      <th>Date_diff</th>\n",
       "      <th>Date_diff_ld1</th>\n",
       "      <th>Date_diff_ld2</th>\n",
       "      <th>ConfirmedCases_inc</th>\n",
       "    </tr>\n",
       "  </thead>\n",
       "  <tbody>\n",
       "    <tr>\n",
       "      <th>4824</th>\n",
       "      <td>7170</td>\n",
       "      <td>Hubei</td>\n",
       "      <td>China</td>\n",
       "      <td>2020-01-22</td>\n",
       "      <td>444.0</td>\n",
       "      <td>17.0</td>\n",
       "      <td>China Hubei</td>\n",
       "      <td>1</td>\n",
       "      <td>-15</td>\n",
       "      <td>-29</td>\n",
       "      <td>444.0</td>\n",
       "    </tr>\n",
       "    <tr>\n",
       "      <th>4825</th>\n",
       "      <td>7171</td>\n",
       "      <td>Hubei</td>\n",
       "      <td>China</td>\n",
       "      <td>2020-01-23</td>\n",
       "      <td>444.0</td>\n",
       "      <td>17.0</td>\n",
       "      <td>China Hubei</td>\n",
       "      <td>2</td>\n",
       "      <td>-14</td>\n",
       "      <td>-28</td>\n",
       "      <td>0.0</td>\n",
       "    </tr>\n",
       "    <tr>\n",
       "      <th>4826</th>\n",
       "      <td>7172</td>\n",
       "      <td>Hubei</td>\n",
       "      <td>China</td>\n",
       "      <td>2020-01-24</td>\n",
       "      <td>549.0</td>\n",
       "      <td>24.0</td>\n",
       "      <td>China Hubei</td>\n",
       "      <td>3</td>\n",
       "      <td>-13</td>\n",
       "      <td>-27</td>\n",
       "      <td>105.0</td>\n",
       "    </tr>\n",
       "    <tr>\n",
       "      <th>4827</th>\n",
       "      <td>7173</td>\n",
       "      <td>Hubei</td>\n",
       "      <td>China</td>\n",
       "      <td>2020-01-25</td>\n",
       "      <td>761.0</td>\n",
       "      <td>40.0</td>\n",
       "      <td>China Hubei</td>\n",
       "      <td>4</td>\n",
       "      <td>-12</td>\n",
       "      <td>-26</td>\n",
       "      <td>212.0</td>\n",
       "    </tr>\n",
       "    <tr>\n",
       "      <th>4828</th>\n",
       "      <td>7174</td>\n",
       "      <td>Hubei</td>\n",
       "      <td>China</td>\n",
       "      <td>2020-01-26</td>\n",
       "      <td>1058.0</td>\n",
       "      <td>52.0</td>\n",
       "      <td>China Hubei</td>\n",
       "      <td>5</td>\n",
       "      <td>-11</td>\n",
       "      <td>-25</td>\n",
       "      <td>297.0</td>\n",
       "    </tr>\n",
       "  </tbody>\n",
       "</table>\n",
       "</div>"
      ],
      "text/plain": [
       "        Id Province_State Country_Region        Date  ConfirmedCases  \\\n",
       "4824  7170          Hubei          China  2020-01-22           444.0   \n",
       "4825  7171          Hubei          China  2020-01-23           444.0   \n",
       "4826  7172          Hubei          China  2020-01-24           549.0   \n",
       "4827  7173          Hubei          China  2020-01-25           761.0   \n",
       "4828  7174          Hubei          China  2020-01-26          1058.0   \n",
       "\n",
       "      Fatalities Country_State  Date_diff  Date_diff_ld1  Date_diff_ld2  \\\n",
       "4824        17.0   China Hubei          1            -15            -29   \n",
       "4825        17.0   China Hubei          2            -14            -28   \n",
       "4826        24.0   China Hubei          3            -13            -27   \n",
       "4827        40.0   China Hubei          4            -12            -26   \n",
       "4828        52.0   China Hubei          5            -11            -25   \n",
       "\n",
       "      ConfirmedCases_inc  \n",
       "4824               444.0  \n",
       "4825                 0.0  \n",
       "4826               105.0  \n",
       "4827               212.0  \n",
       "4828               297.0  "
      ]
     },
     "execution_count": 17,
     "metadata": {},
     "output_type": "execute_result"
    }
   ],
   "source": [
    "train_use.head()"
   ]
  },
  {
   "cell_type": "code",
   "execution_count": 18,
   "metadata": {},
   "outputs": [],
   "source": [
    "train_use['ConfirmedCases_inc_sm'] = train_use['ConfirmedCases_inc'].rolling(window=5,center=True,min_periods=1).mean()"
   ]
  },
  {
   "cell_type": "code",
   "execution_count": 19,
   "metadata": {},
   "outputs": [
    {
     "data": {
      "text/html": [
       "<div>\n",
       "<style scoped>\n",
       "    .dataframe tbody tr th:only-of-type {\n",
       "        vertical-align: middle;\n",
       "    }\n",
       "\n",
       "    .dataframe tbody tr th {\n",
       "        vertical-align: top;\n",
       "    }\n",
       "\n",
       "    .dataframe thead th {\n",
       "        text-align: right;\n",
       "    }\n",
       "</style>\n",
       "<table border=\"1\" class=\"dataframe\">\n",
       "  <thead>\n",
       "    <tr style=\"text-align: right;\">\n",
       "      <th></th>\n",
       "      <th>Id</th>\n",
       "      <th>Province_State</th>\n",
       "      <th>Country_Region</th>\n",
       "      <th>Date</th>\n",
       "      <th>ConfirmedCases</th>\n",
       "      <th>Fatalities</th>\n",
       "      <th>Country_State</th>\n",
       "      <th>Date_diff</th>\n",
       "      <th>Date_diff_ld1</th>\n",
       "      <th>Date_diff_ld2</th>\n",
       "      <th>ConfirmedCases_inc</th>\n",
       "      <th>ConfirmedCases_inc_sm</th>\n",
       "    </tr>\n",
       "  </thead>\n",
       "  <tbody>\n",
       "    <tr>\n",
       "      <th>4824</th>\n",
       "      <td>7170</td>\n",
       "      <td>Hubei</td>\n",
       "      <td>China</td>\n",
       "      <td>2020-01-22</td>\n",
       "      <td>444.0</td>\n",
       "      <td>17.0</td>\n",
       "      <td>China Hubei</td>\n",
       "      <td>1</td>\n",
       "      <td>-15</td>\n",
       "      <td>-29</td>\n",
       "      <td>444.0</td>\n",
       "      <td>183.00</td>\n",
       "    </tr>\n",
       "    <tr>\n",
       "      <th>4825</th>\n",
       "      <td>7171</td>\n",
       "      <td>Hubei</td>\n",
       "      <td>China</td>\n",
       "      <td>2020-01-23</td>\n",
       "      <td>444.0</td>\n",
       "      <td>17.0</td>\n",
       "      <td>China Hubei</td>\n",
       "      <td>2</td>\n",
       "      <td>-14</td>\n",
       "      <td>-28</td>\n",
       "      <td>0.0</td>\n",
       "      <td>190.25</td>\n",
       "    </tr>\n",
       "    <tr>\n",
       "      <th>4826</th>\n",
       "      <td>7172</td>\n",
       "      <td>Hubei</td>\n",
       "      <td>China</td>\n",
       "      <td>2020-01-24</td>\n",
       "      <td>549.0</td>\n",
       "      <td>24.0</td>\n",
       "      <td>China Hubei</td>\n",
       "      <td>3</td>\n",
       "      <td>-13</td>\n",
       "      <td>-27</td>\n",
       "      <td>105.0</td>\n",
       "      <td>211.60</td>\n",
       "    </tr>\n",
       "    <tr>\n",
       "      <th>4827</th>\n",
       "      <td>7173</td>\n",
       "      <td>Hubei</td>\n",
       "      <td>China</td>\n",
       "      <td>2020-01-25</td>\n",
       "      <td>761.0</td>\n",
       "      <td>40.0</td>\n",
       "      <td>China Hubei</td>\n",
       "      <td>4</td>\n",
       "      <td>-12</td>\n",
       "      <td>-26</td>\n",
       "      <td>212.0</td>\n",
       "      <td>195.80</td>\n",
       "    </tr>\n",
       "    <tr>\n",
       "      <th>4828</th>\n",
       "      <td>7174</td>\n",
       "      <td>Hubei</td>\n",
       "      <td>China</td>\n",
       "      <td>2020-01-26</td>\n",
       "      <td>1058.0</td>\n",
       "      <td>52.0</td>\n",
       "      <td>China Hubei</td>\n",
       "      <td>5</td>\n",
       "      <td>-11</td>\n",
       "      <td>-25</td>\n",
       "      <td>297.0</td>\n",
       "      <td>622.00</td>\n",
       "    </tr>\n",
       "  </tbody>\n",
       "</table>\n",
       "</div>"
      ],
      "text/plain": [
       "        Id Province_State Country_Region        Date  ConfirmedCases  \\\n",
       "4824  7170          Hubei          China  2020-01-22           444.0   \n",
       "4825  7171          Hubei          China  2020-01-23           444.0   \n",
       "4826  7172          Hubei          China  2020-01-24           549.0   \n",
       "4827  7173          Hubei          China  2020-01-25           761.0   \n",
       "4828  7174          Hubei          China  2020-01-26          1058.0   \n",
       "\n",
       "      Fatalities Country_State  Date_diff  Date_diff_ld1  Date_diff_ld2  \\\n",
       "4824        17.0   China Hubei          1            -15            -29   \n",
       "4825        17.0   China Hubei          2            -14            -28   \n",
       "4826        24.0   China Hubei          3            -13            -27   \n",
       "4827        40.0   China Hubei          4            -12            -26   \n",
       "4828        52.0   China Hubei          5            -11            -25   \n",
       "\n",
       "      ConfirmedCases_inc  ConfirmedCases_inc_sm  \n",
       "4824               444.0                 183.00  \n",
       "4825                 0.0                 190.25  \n",
       "4826               105.0                 211.60  \n",
       "4827               212.0                 195.80  \n",
       "4828               297.0                 622.00  "
      ]
     },
     "execution_count": 19,
     "metadata": {},
     "output_type": "execute_result"
    }
   ],
   "source": [
    "train_use.head()"
   ]
  },
  {
   "cell_type": "code",
   "execution_count": 20,
   "metadata": {},
   "outputs": [],
   "source": [
    "# cap_upper = train_use['ConfirmedCases_inc'].mean() + 2*(train_use['ConfirmedCases_inc'].std())\n",
    "# cap_lower = train_use['ConfirmedCases_inc'].mean() - 2*(train_use['ConfirmedCases_inc'].std())"
   ]
  },
  {
   "cell_type": "code",
   "execution_count": 21,
   "metadata": {},
   "outputs": [],
   "source": [
    "# cap_upper, cap_lower"
   ]
  },
  {
   "cell_type": "code",
   "execution_count": 22,
   "metadata": {},
   "outputs": [],
   "source": [
    "# train_use['ConfirmedCases_inc'] = train_use['ConfirmedCases_inc'].clip(lower=cap_lower, upper=cap_upper)"
   ]
  },
  {
   "cell_type": "code",
   "execution_count": 23,
   "metadata": {},
   "outputs": [],
   "source": [
    "#train_use['ConfirmedCases_inc_zscore'] = stats.zscore(np.abs(train_use['ConfirmedCases_inc']))"
   ]
  },
  {
   "cell_type": "code",
   "execution_count": 24,
   "metadata": {},
   "outputs": [],
   "source": [
    "#train_use[train_use['ConfirmedCases_inc_zscore'] > 2]"
   ]
  },
  {
   "cell_type": "code",
   "execution_count": 25,
   "metadata": {},
   "outputs": [],
   "source": [
    "#train_use = train_use[train_use['ConfirmedCases_inc_zscore'] < 2]"
   ]
  },
  {
   "cell_type": "code",
   "execution_count": 26,
   "metadata": {},
   "outputs": [
    {
     "data": {
      "text/html": [
       "<div>\n",
       "<style scoped>\n",
       "    .dataframe tbody tr th:only-of-type {\n",
       "        vertical-align: middle;\n",
       "    }\n",
       "\n",
       "    .dataframe tbody tr th {\n",
       "        vertical-align: top;\n",
       "    }\n",
       "\n",
       "    .dataframe thead th {\n",
       "        text-align: right;\n",
       "    }\n",
       "</style>\n",
       "<table border=\"1\" class=\"dataframe\">\n",
       "  <thead>\n",
       "    <tr style=\"text-align: right;\">\n",
       "      <th></th>\n",
       "      <th>Id</th>\n",
       "      <th>Province_State</th>\n",
       "      <th>Country_Region</th>\n",
       "      <th>Date</th>\n",
       "      <th>ConfirmedCases</th>\n",
       "      <th>Fatalities</th>\n",
       "      <th>Country_State</th>\n",
       "      <th>Date_diff</th>\n",
       "      <th>Date_diff_ld1</th>\n",
       "      <th>Date_diff_ld2</th>\n",
       "      <th>ConfirmedCases_inc</th>\n",
       "      <th>ConfirmedCases_inc_sm</th>\n",
       "    </tr>\n",
       "  </thead>\n",
       "  <tbody>\n",
       "    <tr>\n",
       "      <th>4824</th>\n",
       "      <td>7170</td>\n",
       "      <td>Hubei</td>\n",
       "      <td>China</td>\n",
       "      <td>2020-01-22</td>\n",
       "      <td>444.0</td>\n",
       "      <td>17.0</td>\n",
       "      <td>China Hubei</td>\n",
       "      <td>1</td>\n",
       "      <td>-15</td>\n",
       "      <td>-29</td>\n",
       "      <td>444.0</td>\n",
       "      <td>183.000000</td>\n",
       "    </tr>\n",
       "    <tr>\n",
       "      <th>4825</th>\n",
       "      <td>7171</td>\n",
       "      <td>Hubei</td>\n",
       "      <td>China</td>\n",
       "      <td>2020-01-23</td>\n",
       "      <td>444.0</td>\n",
       "      <td>17.0</td>\n",
       "      <td>China Hubei</td>\n",
       "      <td>2</td>\n",
       "      <td>-14</td>\n",
       "      <td>-28</td>\n",
       "      <td>0.0</td>\n",
       "      <td>190.250000</td>\n",
       "    </tr>\n",
       "    <tr>\n",
       "      <th>4826</th>\n",
       "      <td>7172</td>\n",
       "      <td>Hubei</td>\n",
       "      <td>China</td>\n",
       "      <td>2020-01-24</td>\n",
       "      <td>549.0</td>\n",
       "      <td>24.0</td>\n",
       "      <td>China Hubei</td>\n",
       "      <td>3</td>\n",
       "      <td>-13</td>\n",
       "      <td>-27</td>\n",
       "      <td>105.0</td>\n",
       "      <td>211.600000</td>\n",
       "    </tr>\n",
       "    <tr>\n",
       "      <th>4827</th>\n",
       "      <td>7173</td>\n",
       "      <td>Hubei</td>\n",
       "      <td>China</td>\n",
       "      <td>2020-01-25</td>\n",
       "      <td>761.0</td>\n",
       "      <td>40.0</td>\n",
       "      <td>China Hubei</td>\n",
       "      <td>4</td>\n",
       "      <td>-12</td>\n",
       "      <td>-26</td>\n",
       "      <td>212.0</td>\n",
       "      <td>195.800000</td>\n",
       "    </tr>\n",
       "    <tr>\n",
       "      <th>4828</th>\n",
       "      <td>7174</td>\n",
       "      <td>Hubei</td>\n",
       "      <td>China</td>\n",
       "      <td>2020-01-26</td>\n",
       "      <td>1058.0</td>\n",
       "      <td>52.0</td>\n",
       "      <td>China Hubei</td>\n",
       "      <td>5</td>\n",
       "      <td>-11</td>\n",
       "      <td>-25</td>\n",
       "      <td>297.0</td>\n",
       "      <td>622.000000</td>\n",
       "    </tr>\n",
       "    <tr>\n",
       "      <th>4829</th>\n",
       "      <td>7175</td>\n",
       "      <td>Hubei</td>\n",
       "      <td>China</td>\n",
       "      <td>2020-01-27</td>\n",
       "      <td>1423.0</td>\n",
       "      <td>76.0</td>\n",
       "      <td>China Hubei</td>\n",
       "      <td>6</td>\n",
       "      <td>-10</td>\n",
       "      <td>-24</td>\n",
       "      <td>365.0</td>\n",
       "      <td>601.000000</td>\n",
       "    </tr>\n",
       "    <tr>\n",
       "      <th>4830</th>\n",
       "      <td>7176</td>\n",
       "      <td>Hubei</td>\n",
       "      <td>China</td>\n",
       "      <td>2020-01-28</td>\n",
       "      <td>3554.0</td>\n",
       "      <td>125.0</td>\n",
       "      <td>China Hubei</td>\n",
       "      <td>7</td>\n",
       "      <td>-9</td>\n",
       "      <td>-23</td>\n",
       "      <td>2131.0</td>\n",
       "      <td>828.400000</td>\n",
       "    </tr>\n",
       "    <tr>\n",
       "      <th>4831</th>\n",
       "      <td>7177</td>\n",
       "      <td>Hubei</td>\n",
       "      <td>China</td>\n",
       "      <td>2020-01-29</td>\n",
       "      <td>3554.0</td>\n",
       "      <td>125.0</td>\n",
       "      <td>China Hubei</td>\n",
       "      <td>8</td>\n",
       "      <td>-8</td>\n",
       "      <td>-22</td>\n",
       "      <td>0.0</td>\n",
       "      <td>949.600000</td>\n",
       "    </tr>\n",
       "    <tr>\n",
       "      <th>4832</th>\n",
       "      <td>7178</td>\n",
       "      <td>Hubei</td>\n",
       "      <td>China</td>\n",
       "      <td>2020-01-30</td>\n",
       "      <td>4903.0</td>\n",
       "      <td>162.0</td>\n",
       "      <td>China Hubei</td>\n",
       "      <td>9</td>\n",
       "      <td>-7</td>\n",
       "      <td>-21</td>\n",
       "      <td>1349.0</td>\n",
       "      <td>1146.000000</td>\n",
       "    </tr>\n",
       "    <tr>\n",
       "      <th>4833</th>\n",
       "      <td>7179</td>\n",
       "      <td>Hubei</td>\n",
       "      <td>China</td>\n",
       "      <td>2020-01-31</td>\n",
       "      <td>5806.0</td>\n",
       "      <td>204.0</td>\n",
       "      <td>China Hubei</td>\n",
       "      <td>10</td>\n",
       "      <td>-6</td>\n",
       "      <td>-20</td>\n",
       "      <td>903.0</td>\n",
       "      <td>1524.600000</td>\n",
       "    </tr>\n",
       "    <tr>\n",
       "      <th>4834</th>\n",
       "      <td>7180</td>\n",
       "      <td>Hubei</td>\n",
       "      <td>China</td>\n",
       "      <td>2020-02-01</td>\n",
       "      <td>7153.0</td>\n",
       "      <td>249.0</td>\n",
       "      <td>China Hubei</td>\n",
       "      <td>11</td>\n",
       "      <td>-5</td>\n",
       "      <td>-19</td>\n",
       "      <td>1347.0</td>\n",
       "      <td>1993.600000</td>\n",
       "    </tr>\n",
       "    <tr>\n",
       "      <th>4835</th>\n",
       "      <td>7181</td>\n",
       "      <td>Hubei</td>\n",
       "      <td>China</td>\n",
       "      <td>2020-02-02</td>\n",
       "      <td>11177.0</td>\n",
       "      <td>350.0</td>\n",
       "      <td>China Hubei</td>\n",
       "      <td>12</td>\n",
       "      <td>-4</td>\n",
       "      <td>-18</td>\n",
       "      <td>4024.0</td>\n",
       "      <td>2355.000000</td>\n",
       "    </tr>\n",
       "    <tr>\n",
       "      <th>4836</th>\n",
       "      <td>7182</td>\n",
       "      <td>Hubei</td>\n",
       "      <td>China</td>\n",
       "      <td>2020-02-03</td>\n",
       "      <td>13522.0</td>\n",
       "      <td>414.0</td>\n",
       "      <td>China Hubei</td>\n",
       "      <td>13</td>\n",
       "      <td>-3</td>\n",
       "      <td>-17</td>\n",
       "      <td>2345.0</td>\n",
       "      <td>2771.800000</td>\n",
       "    </tr>\n",
       "    <tr>\n",
       "      <th>4837</th>\n",
       "      <td>7183</td>\n",
       "      <td>Hubei</td>\n",
       "      <td>China</td>\n",
       "      <td>2020-02-04</td>\n",
       "      <td>16678.0</td>\n",
       "      <td>479.0</td>\n",
       "      <td>China Hubei</td>\n",
       "      <td>14</td>\n",
       "      <td>-2</td>\n",
       "      <td>-16</td>\n",
       "      <td>3156.0</td>\n",
       "      <td>2991.800000</td>\n",
       "    </tr>\n",
       "    <tr>\n",
       "      <th>4838</th>\n",
       "      <td>7184</td>\n",
       "      <td>Hubei</td>\n",
       "      <td>China</td>\n",
       "      <td>2020-02-05</td>\n",
       "      <td>19665.0</td>\n",
       "      <td>549.0</td>\n",
       "      <td>China Hubei</td>\n",
       "      <td>15</td>\n",
       "      <td>-1</td>\n",
       "      <td>-15</td>\n",
       "      <td>2987.0</td>\n",
       "      <td>2755.200000</td>\n",
       "    </tr>\n",
       "    <tr>\n",
       "      <th>4839</th>\n",
       "      <td>7185</td>\n",
       "      <td>Hubei</td>\n",
       "      <td>China</td>\n",
       "      <td>2020-02-06</td>\n",
       "      <td>22112.0</td>\n",
       "      <td>618.0</td>\n",
       "      <td>China Hubei</td>\n",
       "      <td>16</td>\n",
       "      <td>0</td>\n",
       "      <td>-14</td>\n",
       "      <td>2447.0</td>\n",
       "      <td>2715.600000</td>\n",
       "    </tr>\n",
       "    <tr>\n",
       "      <th>4840</th>\n",
       "      <td>7186</td>\n",
       "      <td>Hubei</td>\n",
       "      <td>China</td>\n",
       "      <td>2020-02-07</td>\n",
       "      <td>24953.0</td>\n",
       "      <td>699.0</td>\n",
       "      <td>China Hubei</td>\n",
       "      <td>17</td>\n",
       "      <td>1</td>\n",
       "      <td>-13</td>\n",
       "      <td>2841.0</td>\n",
       "      <td>2590.600000</td>\n",
       "    </tr>\n",
       "    <tr>\n",
       "      <th>4841</th>\n",
       "      <td>7187</td>\n",
       "      <td>Hubei</td>\n",
       "      <td>China</td>\n",
       "      <td>2020-02-08</td>\n",
       "      <td>27100.0</td>\n",
       "      <td>780.0</td>\n",
       "      <td>China Hubei</td>\n",
       "      <td>18</td>\n",
       "      <td>2</td>\n",
       "      <td>-12</td>\n",
       "      <td>2147.0</td>\n",
       "      <td>2412.600000</td>\n",
       "    </tr>\n",
       "    <tr>\n",
       "      <th>4842</th>\n",
       "      <td>7188</td>\n",
       "      <td>Hubei</td>\n",
       "      <td>China</td>\n",
       "      <td>2020-02-09</td>\n",
       "      <td>29631.0</td>\n",
       "      <td>871.0</td>\n",
       "      <td>China Hubei</td>\n",
       "      <td>19</td>\n",
       "      <td>3</td>\n",
       "      <td>-11</td>\n",
       "      <td>2531.0</td>\n",
       "      <td>2250.800000</td>\n",
       "    </tr>\n",
       "    <tr>\n",
       "      <th>4843</th>\n",
       "      <td>7189</td>\n",
       "      <td>Hubei</td>\n",
       "      <td>China</td>\n",
       "      <td>2020-02-10</td>\n",
       "      <td>31728.0</td>\n",
       "      <td>974.0</td>\n",
       "      <td>China Hubei</td>\n",
       "      <td>20</td>\n",
       "      <td>4</td>\n",
       "      <td>-10</td>\n",
       "      <td>2097.0</td>\n",
       "      <td>1682.600000</td>\n",
       "    </tr>\n",
       "    <tr>\n",
       "      <th>4844</th>\n",
       "      <td>7190</td>\n",
       "      <td>Hubei</td>\n",
       "      <td>China</td>\n",
       "      <td>2020-02-11</td>\n",
       "      <td>33366.0</td>\n",
       "      <td>1068.0</td>\n",
       "      <td>China Hubei</td>\n",
       "      <td>21</td>\n",
       "      <td>5</td>\n",
       "      <td>-9</td>\n",
       "      <td>1638.0</td>\n",
       "      <td>4221.200000</td>\n",
       "    </tr>\n",
       "    <tr>\n",
       "      <th>4845</th>\n",
       "      <td>7191</td>\n",
       "      <td>Hubei</td>\n",
       "      <td>China</td>\n",
       "      <td>2020-02-12</td>\n",
       "      <td>33366.0</td>\n",
       "      <td>1068.0</td>\n",
       "      <td>China Hubei</td>\n",
       "      <td>22</td>\n",
       "      <td>6</td>\n",
       "      <td>-8</td>\n",
       "      <td>0.0</td>\n",
       "      <td>4955.000000</td>\n",
       "    </tr>\n",
       "    <tr>\n",
       "      <th>4846</th>\n",
       "      <td>7192</td>\n",
       "      <td>Hubei</td>\n",
       "      <td>China</td>\n",
       "      <td>2020-02-13</td>\n",
       "      <td>48206.0</td>\n",
       "      <td>1310.0</td>\n",
       "      <td>China Hubei</td>\n",
       "      <td>23</td>\n",
       "      <td>7</td>\n",
       "      <td>-7</td>\n",
       "      <td>14840.0</td>\n",
       "      <td>4904.200000</td>\n",
       "    </tr>\n",
       "    <tr>\n",
       "      <th>4847</th>\n",
       "      <td>7193</td>\n",
       "      <td>Hubei</td>\n",
       "      <td>China</td>\n",
       "      <td>2020-02-14</td>\n",
       "      <td>54406.0</td>\n",
       "      <td>1457.0</td>\n",
       "      <td>China Hubei</td>\n",
       "      <td>24</td>\n",
       "      <td>8</td>\n",
       "      <td>-6</td>\n",
       "      <td>6200.0</td>\n",
       "      <td>4963.200000</td>\n",
       "    </tr>\n",
       "    <tr>\n",
       "      <th>4848</th>\n",
       "      <td>7194</td>\n",
       "      <td>Hubei</td>\n",
       "      <td>China</td>\n",
       "      <td>2020-02-15</td>\n",
       "      <td>56249.0</td>\n",
       "      <td>1596.0</td>\n",
       "      <td>China Hubei</td>\n",
       "      <td>25</td>\n",
       "      <td>9</td>\n",
       "      <td>-5</td>\n",
       "      <td>1843.0</td>\n",
       "      <td>5324.600000</td>\n",
       "    </tr>\n",
       "    <tr>\n",
       "      <th>4849</th>\n",
       "      <td>7195</td>\n",
       "      <td>Hubei</td>\n",
       "      <td>China</td>\n",
       "      <td>2020-02-16</td>\n",
       "      <td>58182.0</td>\n",
       "      <td>1696.0</td>\n",
       "      <td>China Hubei</td>\n",
       "      <td>26</td>\n",
       "      <td>10</td>\n",
       "      <td>-4</td>\n",
       "      <td>1933.0</td>\n",
       "      <td>2695.200000</td>\n",
       "    </tr>\n",
       "    <tr>\n",
       "      <th>4850</th>\n",
       "      <td>7196</td>\n",
       "      <td>Hubei</td>\n",
       "      <td>China</td>\n",
       "      <td>2020-02-17</td>\n",
       "      <td>59989.0</td>\n",
       "      <td>1789.0</td>\n",
       "      <td>China Hubei</td>\n",
       "      <td>27</td>\n",
       "      <td>11</td>\n",
       "      <td>-3</td>\n",
       "      <td>1807.0</td>\n",
       "      <td>1525.000000</td>\n",
       "    </tr>\n",
       "    <tr>\n",
       "      <th>4851</th>\n",
       "      <td>7197</td>\n",
       "      <td>Hubei</td>\n",
       "      <td>China</td>\n",
       "      <td>2020-02-18</td>\n",
       "      <td>61682.0</td>\n",
       "      <td>1921.0</td>\n",
       "      <td>China Hubei</td>\n",
       "      <td>28</td>\n",
       "      <td>12</td>\n",
       "      <td>-2</td>\n",
       "      <td>1693.0</td>\n",
       "      <td>1238.600000</td>\n",
       "    </tr>\n",
       "    <tr>\n",
       "      <th>4852</th>\n",
       "      <td>7198</td>\n",
       "      <td>Hubei</td>\n",
       "      <td>China</td>\n",
       "      <td>2020-02-19</td>\n",
       "      <td>62031.0</td>\n",
       "      <td>2029.0</td>\n",
       "      <td>China Hubei</td>\n",
       "      <td>29</td>\n",
       "      <td>13</td>\n",
       "      <td>-1</td>\n",
       "      <td>349.0</td>\n",
       "      <td>896.000000</td>\n",
       "    </tr>\n",
       "    <tr>\n",
       "      <th>4853</th>\n",
       "      <td>7199</td>\n",
       "      <td>Hubei</td>\n",
       "      <td>China</td>\n",
       "      <td>2020-02-20</td>\n",
       "      <td>62442.0</td>\n",
       "      <td>2144.0</td>\n",
       "      <td>China Hubei</td>\n",
       "      <td>30</td>\n",
       "      <td>14</td>\n",
       "      <td>0</td>\n",
       "      <td>411.0</td>\n",
       "      <td>819.000000</td>\n",
       "    </tr>\n",
       "    <tr>\n",
       "      <th>...</th>\n",
       "      <td>...</td>\n",
       "      <td>...</td>\n",
       "      <td>...</td>\n",
       "      <td>...</td>\n",
       "      <td>...</td>\n",
       "      <td>...</td>\n",
       "      <td>...</td>\n",
       "      <td>...</td>\n",
       "      <td>...</td>\n",
       "      <td>...</td>\n",
       "      <td>...</td>\n",
       "      <td>...</td>\n",
       "    </tr>\n",
       "    <tr>\n",
       "      <th>4866</th>\n",
       "      <td>7212</td>\n",
       "      <td>Hubei</td>\n",
       "      <td>China</td>\n",
       "      <td>2020-03-04</td>\n",
       "      <td>67332.0</td>\n",
       "      <td>2871.0</td>\n",
       "      <td>China Hubei</td>\n",
       "      <td>43</td>\n",
       "      <td>27</td>\n",
       "      <td>13</td>\n",
       "      <td>115.0</td>\n",
       "      <td>137.000000</td>\n",
       "    </tr>\n",
       "    <tr>\n",
       "      <th>4867</th>\n",
       "      <td>7213</td>\n",
       "      <td>Hubei</td>\n",
       "      <td>China</td>\n",
       "      <td>2020-03-05</td>\n",
       "      <td>67466.0</td>\n",
       "      <td>2902.0</td>\n",
       "      <td>China Hubei</td>\n",
       "      <td>44</td>\n",
       "      <td>28</td>\n",
       "      <td>14</td>\n",
       "      <td>134.0</td>\n",
       "      <td>112.600000</td>\n",
       "    </tr>\n",
       "    <tr>\n",
       "      <th>4868</th>\n",
       "      <td>7214</td>\n",
       "      <td>Hubei</td>\n",
       "      <td>China</td>\n",
       "      <td>2020-03-06</td>\n",
       "      <td>67592.0</td>\n",
       "      <td>2931.0</td>\n",
       "      <td>China Hubei</td>\n",
       "      <td>45</td>\n",
       "      <td>29</td>\n",
       "      <td>15</td>\n",
       "      <td>126.0</td>\n",
       "      <td>98.000000</td>\n",
       "    </tr>\n",
       "    <tr>\n",
       "      <th>4869</th>\n",
       "      <td>7215</td>\n",
       "      <td>Hubei</td>\n",
       "      <td>China</td>\n",
       "      <td>2020-03-07</td>\n",
       "      <td>67666.0</td>\n",
       "      <td>2959.0</td>\n",
       "      <td>China Hubei</td>\n",
       "      <td>46</td>\n",
       "      <td>30</td>\n",
       "      <td>16</td>\n",
       "      <td>74.0</td>\n",
       "      <td>82.200000</td>\n",
       "    </tr>\n",
       "    <tr>\n",
       "      <th>4870</th>\n",
       "      <td>7216</td>\n",
       "      <td>Hubei</td>\n",
       "      <td>China</td>\n",
       "      <td>2020-03-08</td>\n",
       "      <td>67707.0</td>\n",
       "      <td>2986.0</td>\n",
       "      <td>China Hubei</td>\n",
       "      <td>47</td>\n",
       "      <td>31</td>\n",
       "      <td>17</td>\n",
       "      <td>41.0</td>\n",
       "      <td>58.800000</td>\n",
       "    </tr>\n",
       "    <tr>\n",
       "      <th>4871</th>\n",
       "      <td>7217</td>\n",
       "      <td>Hubei</td>\n",
       "      <td>China</td>\n",
       "      <td>2020-03-09</td>\n",
       "      <td>67743.0</td>\n",
       "      <td>3008.0</td>\n",
       "      <td>China Hubei</td>\n",
       "      <td>48</td>\n",
       "      <td>32</td>\n",
       "      <td>18</td>\n",
       "      <td>36.0</td>\n",
       "      <td>36.200000</td>\n",
       "    </tr>\n",
       "    <tr>\n",
       "      <th>4872</th>\n",
       "      <td>7218</td>\n",
       "      <td>Hubei</td>\n",
       "      <td>China</td>\n",
       "      <td>2020-03-10</td>\n",
       "      <td>67760.0</td>\n",
       "      <td>3024.0</td>\n",
       "      <td>China Hubei</td>\n",
       "      <td>49</td>\n",
       "      <td>33</td>\n",
       "      <td>19</td>\n",
       "      <td>17.0</td>\n",
       "      <td>23.000000</td>\n",
       "    </tr>\n",
       "    <tr>\n",
       "      <th>4873</th>\n",
       "      <td>7219</td>\n",
       "      <td>Hubei</td>\n",
       "      <td>China</td>\n",
       "      <td>2020-03-11</td>\n",
       "      <td>67773.0</td>\n",
       "      <td>3046.0</td>\n",
       "      <td>China Hubei</td>\n",
       "      <td>50</td>\n",
       "      <td>34</td>\n",
       "      <td>20</td>\n",
       "      <td>13.0</td>\n",
       "      <td>15.800000</td>\n",
       "    </tr>\n",
       "    <tr>\n",
       "      <th>4874</th>\n",
       "      <td>7220</td>\n",
       "      <td>Hubei</td>\n",
       "      <td>China</td>\n",
       "      <td>2020-03-12</td>\n",
       "      <td>67781.0</td>\n",
       "      <td>3056.0</td>\n",
       "      <td>China Hubei</td>\n",
       "      <td>51</td>\n",
       "      <td>35</td>\n",
       "      <td>21</td>\n",
       "      <td>8.0</td>\n",
       "      <td>9.400000</td>\n",
       "    </tr>\n",
       "    <tr>\n",
       "      <th>4875</th>\n",
       "      <td>7221</td>\n",
       "      <td>Hubei</td>\n",
       "      <td>China</td>\n",
       "      <td>2020-03-13</td>\n",
       "      <td>67786.0</td>\n",
       "      <td>3062.0</td>\n",
       "      <td>China Hubei</td>\n",
       "      <td>52</td>\n",
       "      <td>36</td>\n",
       "      <td>22</td>\n",
       "      <td>5.0</td>\n",
       "      <td>6.800000</td>\n",
       "    </tr>\n",
       "    <tr>\n",
       "      <th>4876</th>\n",
       "      <td>7222</td>\n",
       "      <td>Hubei</td>\n",
       "      <td>China</td>\n",
       "      <td>2020-03-14</td>\n",
       "      <td>67790.0</td>\n",
       "      <td>3075.0</td>\n",
       "      <td>China Hubei</td>\n",
       "      <td>53</td>\n",
       "      <td>37</td>\n",
       "      <td>23</td>\n",
       "      <td>4.0</td>\n",
       "      <td>5.000000</td>\n",
       "    </tr>\n",
       "    <tr>\n",
       "      <th>4877</th>\n",
       "      <td>7223</td>\n",
       "      <td>Hubei</td>\n",
       "      <td>China</td>\n",
       "      <td>2020-03-15</td>\n",
       "      <td>67794.0</td>\n",
       "      <td>3085.0</td>\n",
       "      <td>China Hubei</td>\n",
       "      <td>54</td>\n",
       "      <td>38</td>\n",
       "      <td>24</td>\n",
       "      <td>4.0</td>\n",
       "      <td>3.600000</td>\n",
       "    </tr>\n",
       "    <tr>\n",
       "      <th>4878</th>\n",
       "      <td>7224</td>\n",
       "      <td>Hubei</td>\n",
       "      <td>China</td>\n",
       "      <td>2020-03-16</td>\n",
       "      <td>67798.0</td>\n",
       "      <td>3099.0</td>\n",
       "      <td>China Hubei</td>\n",
       "      <td>55</td>\n",
       "      <td>39</td>\n",
       "      <td>25</td>\n",
       "      <td>4.0</td>\n",
       "      <td>2.800000</td>\n",
       "    </tr>\n",
       "    <tr>\n",
       "      <th>4879</th>\n",
       "      <td>7225</td>\n",
       "      <td>Hubei</td>\n",
       "      <td>China</td>\n",
       "      <td>2020-03-17</td>\n",
       "      <td>67799.0</td>\n",
       "      <td>3111.0</td>\n",
       "      <td>China Hubei</td>\n",
       "      <td>56</td>\n",
       "      <td>40</td>\n",
       "      <td>26</td>\n",
       "      <td>1.0</td>\n",
       "      <td>2.000000</td>\n",
       "    </tr>\n",
       "    <tr>\n",
       "      <th>4880</th>\n",
       "      <td>7226</td>\n",
       "      <td>Hubei</td>\n",
       "      <td>China</td>\n",
       "      <td>2020-03-18</td>\n",
       "      <td>67800.0</td>\n",
       "      <td>3122.0</td>\n",
       "      <td>China Hubei</td>\n",
       "      <td>57</td>\n",
       "      <td>41</td>\n",
       "      <td>27</td>\n",
       "      <td>1.0</td>\n",
       "      <td>1.200000</td>\n",
       "    </tr>\n",
       "    <tr>\n",
       "      <th>4881</th>\n",
       "      <td>7227</td>\n",
       "      <td>Hubei</td>\n",
       "      <td>China</td>\n",
       "      <td>2020-03-19</td>\n",
       "      <td>67800.0</td>\n",
       "      <td>3130.0</td>\n",
       "      <td>China Hubei</td>\n",
       "      <td>58</td>\n",
       "      <td>42</td>\n",
       "      <td>28</td>\n",
       "      <td>0.0</td>\n",
       "      <td>0.400000</td>\n",
       "    </tr>\n",
       "    <tr>\n",
       "      <th>4882</th>\n",
       "      <td>7228</td>\n",
       "      <td>Hubei</td>\n",
       "      <td>China</td>\n",
       "      <td>2020-03-20</td>\n",
       "      <td>67800.0</td>\n",
       "      <td>3133.0</td>\n",
       "      <td>China Hubei</td>\n",
       "      <td>59</td>\n",
       "      <td>43</td>\n",
       "      <td>29</td>\n",
       "      <td>0.0</td>\n",
       "      <td>0.200000</td>\n",
       "    </tr>\n",
       "    <tr>\n",
       "      <th>4883</th>\n",
       "      <td>7229</td>\n",
       "      <td>Hubei</td>\n",
       "      <td>China</td>\n",
       "      <td>2020-03-21</td>\n",
       "      <td>67800.0</td>\n",
       "      <td>3139.0</td>\n",
       "      <td>China Hubei</td>\n",
       "      <td>60</td>\n",
       "      <td>44</td>\n",
       "      <td>30</td>\n",
       "      <td>0.0</td>\n",
       "      <td>0.000000</td>\n",
       "    </tr>\n",
       "    <tr>\n",
       "      <th>4884</th>\n",
       "      <td>7230</td>\n",
       "      <td>Hubei</td>\n",
       "      <td>China</td>\n",
       "      <td>2020-03-22</td>\n",
       "      <td>67800.0</td>\n",
       "      <td>3153.0</td>\n",
       "      <td>China Hubei</td>\n",
       "      <td>61</td>\n",
       "      <td>45</td>\n",
       "      <td>31</td>\n",
       "      <td>0.0</td>\n",
       "      <td>0.200000</td>\n",
       "    </tr>\n",
       "    <tr>\n",
       "      <th>4885</th>\n",
       "      <td>7231</td>\n",
       "      <td>Hubei</td>\n",
       "      <td>China</td>\n",
       "      <td>2020-03-23</td>\n",
       "      <td>67800.0</td>\n",
       "      <td>3153.0</td>\n",
       "      <td>China Hubei</td>\n",
       "      <td>62</td>\n",
       "      <td>46</td>\n",
       "      <td>32</td>\n",
       "      <td>0.0</td>\n",
       "      <td>0.200000</td>\n",
       "    </tr>\n",
       "    <tr>\n",
       "      <th>4886</th>\n",
       "      <td>7232</td>\n",
       "      <td>Hubei</td>\n",
       "      <td>China</td>\n",
       "      <td>2020-03-24</td>\n",
       "      <td>67801.0</td>\n",
       "      <td>3160.0</td>\n",
       "      <td>China Hubei</td>\n",
       "      <td>63</td>\n",
       "      <td>47</td>\n",
       "      <td>33</td>\n",
       "      <td>1.0</td>\n",
       "      <td>0.200000</td>\n",
       "    </tr>\n",
       "    <tr>\n",
       "      <th>4887</th>\n",
       "      <td>7233</td>\n",
       "      <td>Hubei</td>\n",
       "      <td>China</td>\n",
       "      <td>2020-03-25</td>\n",
       "      <td>67801.0</td>\n",
       "      <td>3163.0</td>\n",
       "      <td>China Hubei</td>\n",
       "      <td>64</td>\n",
       "      <td>48</td>\n",
       "      <td>34</td>\n",
       "      <td>0.0</td>\n",
       "      <td>0.200000</td>\n",
       "    </tr>\n",
       "    <tr>\n",
       "      <th>4888</th>\n",
       "      <td>7234</td>\n",
       "      <td>Hubei</td>\n",
       "      <td>China</td>\n",
       "      <td>2020-03-26</td>\n",
       "      <td>67801.0</td>\n",
       "      <td>3169.0</td>\n",
       "      <td>China Hubei</td>\n",
       "      <td>65</td>\n",
       "      <td>49</td>\n",
       "      <td>35</td>\n",
       "      <td>0.0</td>\n",
       "      <td>0.200000</td>\n",
       "    </tr>\n",
       "    <tr>\n",
       "      <th>4889</th>\n",
       "      <td>7235</td>\n",
       "      <td>Hubei</td>\n",
       "      <td>China</td>\n",
       "      <td>2020-03-27</td>\n",
       "      <td>67801.0</td>\n",
       "      <td>3174.0</td>\n",
       "      <td>China Hubei</td>\n",
       "      <td>66</td>\n",
       "      <td>50</td>\n",
       "      <td>36</td>\n",
       "      <td>0.0</td>\n",
       "      <td>0.000000</td>\n",
       "    </tr>\n",
       "    <tr>\n",
       "      <th>4890</th>\n",
       "      <td>7236</td>\n",
       "      <td>Hubei</td>\n",
       "      <td>China</td>\n",
       "      <td>2020-03-28</td>\n",
       "      <td>67801.0</td>\n",
       "      <td>3177.0</td>\n",
       "      <td>China Hubei</td>\n",
       "      <td>67</td>\n",
       "      <td>51</td>\n",
       "      <td>37</td>\n",
       "      <td>0.0</td>\n",
       "      <td>0.000000</td>\n",
       "    </tr>\n",
       "    <tr>\n",
       "      <th>4891</th>\n",
       "      <td>7237</td>\n",
       "      <td>Hubei</td>\n",
       "      <td>China</td>\n",
       "      <td>2020-03-29</td>\n",
       "      <td>67801.0</td>\n",
       "      <td>3182.0</td>\n",
       "      <td>China Hubei</td>\n",
       "      <td>68</td>\n",
       "      <td>52</td>\n",
       "      <td>38</td>\n",
       "      <td>0.0</td>\n",
       "      <td>0.000000</td>\n",
       "    </tr>\n",
       "    <tr>\n",
       "      <th>4892</th>\n",
       "      <td>7238</td>\n",
       "      <td>Hubei</td>\n",
       "      <td>China</td>\n",
       "      <td>2020-03-30</td>\n",
       "      <td>67801.0</td>\n",
       "      <td>3186.0</td>\n",
       "      <td>China Hubei</td>\n",
       "      <td>69</td>\n",
       "      <td>53</td>\n",
       "      <td>39</td>\n",
       "      <td>0.0</td>\n",
       "      <td>0.200000</td>\n",
       "    </tr>\n",
       "    <tr>\n",
       "      <th>4893</th>\n",
       "      <td>7239</td>\n",
       "      <td>Hubei</td>\n",
       "      <td>China</td>\n",
       "      <td>2020-03-31</td>\n",
       "      <td>67801.0</td>\n",
       "      <td>3187.0</td>\n",
       "      <td>China Hubei</td>\n",
       "      <td>70</td>\n",
       "      <td>54</td>\n",
       "      <td>40</td>\n",
       "      <td>0.0</td>\n",
       "      <td>0.200000</td>\n",
       "    </tr>\n",
       "    <tr>\n",
       "      <th>4894</th>\n",
       "      <td>7240</td>\n",
       "      <td>Hubei</td>\n",
       "      <td>China</td>\n",
       "      <td>2020-04-01</td>\n",
       "      <td>67802.0</td>\n",
       "      <td>3193.0</td>\n",
       "      <td>China Hubei</td>\n",
       "      <td>71</td>\n",
       "      <td>55</td>\n",
       "      <td>41</td>\n",
       "      <td>1.0</td>\n",
       "      <td>0.250000</td>\n",
       "    </tr>\n",
       "    <tr>\n",
       "      <th>4895</th>\n",
       "      <td>7241</td>\n",
       "      <td>Hubei</td>\n",
       "      <td>China</td>\n",
       "      <td>2020-04-02</td>\n",
       "      <td>67802.0</td>\n",
       "      <td>3199.0</td>\n",
       "      <td>China Hubei</td>\n",
       "      <td>72</td>\n",
       "      <td>56</td>\n",
       "      <td>42</td>\n",
       "      <td>0.0</td>\n",
       "      <td>0.333333</td>\n",
       "    </tr>\n",
       "  </tbody>\n",
       "</table>\n",
       "<p>72 rows × 12 columns</p>\n",
       "</div>"
      ],
      "text/plain": [
       "        Id Province_State Country_Region        Date  ConfirmedCases  \\\n",
       "4824  7170          Hubei          China  2020-01-22           444.0   \n",
       "4825  7171          Hubei          China  2020-01-23           444.0   \n",
       "4826  7172          Hubei          China  2020-01-24           549.0   \n",
       "4827  7173          Hubei          China  2020-01-25           761.0   \n",
       "4828  7174          Hubei          China  2020-01-26          1058.0   \n",
       "4829  7175          Hubei          China  2020-01-27          1423.0   \n",
       "4830  7176          Hubei          China  2020-01-28          3554.0   \n",
       "4831  7177          Hubei          China  2020-01-29          3554.0   \n",
       "4832  7178          Hubei          China  2020-01-30          4903.0   \n",
       "4833  7179          Hubei          China  2020-01-31          5806.0   \n",
       "4834  7180          Hubei          China  2020-02-01          7153.0   \n",
       "4835  7181          Hubei          China  2020-02-02         11177.0   \n",
       "4836  7182          Hubei          China  2020-02-03         13522.0   \n",
       "4837  7183          Hubei          China  2020-02-04         16678.0   \n",
       "4838  7184          Hubei          China  2020-02-05         19665.0   \n",
       "4839  7185          Hubei          China  2020-02-06         22112.0   \n",
       "4840  7186          Hubei          China  2020-02-07         24953.0   \n",
       "4841  7187          Hubei          China  2020-02-08         27100.0   \n",
       "4842  7188          Hubei          China  2020-02-09         29631.0   \n",
       "4843  7189          Hubei          China  2020-02-10         31728.0   \n",
       "4844  7190          Hubei          China  2020-02-11         33366.0   \n",
       "4845  7191          Hubei          China  2020-02-12         33366.0   \n",
       "4846  7192          Hubei          China  2020-02-13         48206.0   \n",
       "4847  7193          Hubei          China  2020-02-14         54406.0   \n",
       "4848  7194          Hubei          China  2020-02-15         56249.0   \n",
       "4849  7195          Hubei          China  2020-02-16         58182.0   \n",
       "4850  7196          Hubei          China  2020-02-17         59989.0   \n",
       "4851  7197          Hubei          China  2020-02-18         61682.0   \n",
       "4852  7198          Hubei          China  2020-02-19         62031.0   \n",
       "4853  7199          Hubei          China  2020-02-20         62442.0   \n",
       "...    ...            ...            ...         ...             ...   \n",
       "4866  7212          Hubei          China  2020-03-04         67332.0   \n",
       "4867  7213          Hubei          China  2020-03-05         67466.0   \n",
       "4868  7214          Hubei          China  2020-03-06         67592.0   \n",
       "4869  7215          Hubei          China  2020-03-07         67666.0   \n",
       "4870  7216          Hubei          China  2020-03-08         67707.0   \n",
       "4871  7217          Hubei          China  2020-03-09         67743.0   \n",
       "4872  7218          Hubei          China  2020-03-10         67760.0   \n",
       "4873  7219          Hubei          China  2020-03-11         67773.0   \n",
       "4874  7220          Hubei          China  2020-03-12         67781.0   \n",
       "4875  7221          Hubei          China  2020-03-13         67786.0   \n",
       "4876  7222          Hubei          China  2020-03-14         67790.0   \n",
       "4877  7223          Hubei          China  2020-03-15         67794.0   \n",
       "4878  7224          Hubei          China  2020-03-16         67798.0   \n",
       "4879  7225          Hubei          China  2020-03-17         67799.0   \n",
       "4880  7226          Hubei          China  2020-03-18         67800.0   \n",
       "4881  7227          Hubei          China  2020-03-19         67800.0   \n",
       "4882  7228          Hubei          China  2020-03-20         67800.0   \n",
       "4883  7229          Hubei          China  2020-03-21         67800.0   \n",
       "4884  7230          Hubei          China  2020-03-22         67800.0   \n",
       "4885  7231          Hubei          China  2020-03-23         67800.0   \n",
       "4886  7232          Hubei          China  2020-03-24         67801.0   \n",
       "4887  7233          Hubei          China  2020-03-25         67801.0   \n",
       "4888  7234          Hubei          China  2020-03-26         67801.0   \n",
       "4889  7235          Hubei          China  2020-03-27         67801.0   \n",
       "4890  7236          Hubei          China  2020-03-28         67801.0   \n",
       "4891  7237          Hubei          China  2020-03-29         67801.0   \n",
       "4892  7238          Hubei          China  2020-03-30         67801.0   \n",
       "4893  7239          Hubei          China  2020-03-31         67801.0   \n",
       "4894  7240          Hubei          China  2020-04-01         67802.0   \n",
       "4895  7241          Hubei          China  2020-04-02         67802.0   \n",
       "\n",
       "      Fatalities Country_State  Date_diff  Date_diff_ld1  Date_diff_ld2  \\\n",
       "4824        17.0   China Hubei          1            -15            -29   \n",
       "4825        17.0   China Hubei          2            -14            -28   \n",
       "4826        24.0   China Hubei          3            -13            -27   \n",
       "4827        40.0   China Hubei          4            -12            -26   \n",
       "4828        52.0   China Hubei          5            -11            -25   \n",
       "4829        76.0   China Hubei          6            -10            -24   \n",
       "4830       125.0   China Hubei          7             -9            -23   \n",
       "4831       125.0   China Hubei          8             -8            -22   \n",
       "4832       162.0   China Hubei          9             -7            -21   \n",
       "4833       204.0   China Hubei         10             -6            -20   \n",
       "4834       249.0   China Hubei         11             -5            -19   \n",
       "4835       350.0   China Hubei         12             -4            -18   \n",
       "4836       414.0   China Hubei         13             -3            -17   \n",
       "4837       479.0   China Hubei         14             -2            -16   \n",
       "4838       549.0   China Hubei         15             -1            -15   \n",
       "4839       618.0   China Hubei         16              0            -14   \n",
       "4840       699.0   China Hubei         17              1            -13   \n",
       "4841       780.0   China Hubei         18              2            -12   \n",
       "4842       871.0   China Hubei         19              3            -11   \n",
       "4843       974.0   China Hubei         20              4            -10   \n",
       "4844      1068.0   China Hubei         21              5             -9   \n",
       "4845      1068.0   China Hubei         22              6             -8   \n",
       "4846      1310.0   China Hubei         23              7             -7   \n",
       "4847      1457.0   China Hubei         24              8             -6   \n",
       "4848      1596.0   China Hubei         25              9             -5   \n",
       "4849      1696.0   China Hubei         26             10             -4   \n",
       "4850      1789.0   China Hubei         27             11             -3   \n",
       "4851      1921.0   China Hubei         28             12             -2   \n",
       "4852      2029.0   China Hubei         29             13             -1   \n",
       "4853      2144.0   China Hubei         30             14              0   \n",
       "...          ...           ...        ...            ...            ...   \n",
       "4866      2871.0   China Hubei         43             27             13   \n",
       "4867      2902.0   China Hubei         44             28             14   \n",
       "4868      2931.0   China Hubei         45             29             15   \n",
       "4869      2959.0   China Hubei         46             30             16   \n",
       "4870      2986.0   China Hubei         47             31             17   \n",
       "4871      3008.0   China Hubei         48             32             18   \n",
       "4872      3024.0   China Hubei         49             33             19   \n",
       "4873      3046.0   China Hubei         50             34             20   \n",
       "4874      3056.0   China Hubei         51             35             21   \n",
       "4875      3062.0   China Hubei         52             36             22   \n",
       "4876      3075.0   China Hubei         53             37             23   \n",
       "4877      3085.0   China Hubei         54             38             24   \n",
       "4878      3099.0   China Hubei         55             39             25   \n",
       "4879      3111.0   China Hubei         56             40             26   \n",
       "4880      3122.0   China Hubei         57             41             27   \n",
       "4881      3130.0   China Hubei         58             42             28   \n",
       "4882      3133.0   China Hubei         59             43             29   \n",
       "4883      3139.0   China Hubei         60             44             30   \n",
       "4884      3153.0   China Hubei         61             45             31   \n",
       "4885      3153.0   China Hubei         62             46             32   \n",
       "4886      3160.0   China Hubei         63             47             33   \n",
       "4887      3163.0   China Hubei         64             48             34   \n",
       "4888      3169.0   China Hubei         65             49             35   \n",
       "4889      3174.0   China Hubei         66             50             36   \n",
       "4890      3177.0   China Hubei         67             51             37   \n",
       "4891      3182.0   China Hubei         68             52             38   \n",
       "4892      3186.0   China Hubei         69             53             39   \n",
       "4893      3187.0   China Hubei         70             54             40   \n",
       "4894      3193.0   China Hubei         71             55             41   \n",
       "4895      3199.0   China Hubei         72             56             42   \n",
       "\n",
       "      ConfirmedCases_inc  ConfirmedCases_inc_sm  \n",
       "4824               444.0             183.000000  \n",
       "4825                 0.0             190.250000  \n",
       "4826               105.0             211.600000  \n",
       "4827               212.0             195.800000  \n",
       "4828               297.0             622.000000  \n",
       "4829               365.0             601.000000  \n",
       "4830              2131.0             828.400000  \n",
       "4831                 0.0             949.600000  \n",
       "4832              1349.0            1146.000000  \n",
       "4833               903.0            1524.600000  \n",
       "4834              1347.0            1993.600000  \n",
       "4835              4024.0            2355.000000  \n",
       "4836              2345.0            2771.800000  \n",
       "4837              3156.0            2991.800000  \n",
       "4838              2987.0            2755.200000  \n",
       "4839              2447.0            2715.600000  \n",
       "4840              2841.0            2590.600000  \n",
       "4841              2147.0            2412.600000  \n",
       "4842              2531.0            2250.800000  \n",
       "4843              2097.0            1682.600000  \n",
       "4844              1638.0            4221.200000  \n",
       "4845                 0.0            4955.000000  \n",
       "4846             14840.0            4904.200000  \n",
       "4847              6200.0            4963.200000  \n",
       "4848              1843.0            5324.600000  \n",
       "4849              1933.0            2695.200000  \n",
       "4850              1807.0            1525.000000  \n",
       "4851              1693.0            1238.600000  \n",
       "4852               349.0             896.000000  \n",
       "4853               411.0             819.000000  \n",
       "...                  ...                    ...  \n",
       "4866               115.0             137.000000  \n",
       "4867               134.0             112.600000  \n",
       "4868               126.0              98.000000  \n",
       "4869                74.0              82.200000  \n",
       "4870                41.0              58.800000  \n",
       "4871                36.0              36.200000  \n",
       "4872                17.0              23.000000  \n",
       "4873                13.0              15.800000  \n",
       "4874                 8.0               9.400000  \n",
       "4875                 5.0               6.800000  \n",
       "4876                 4.0               5.000000  \n",
       "4877                 4.0               3.600000  \n",
       "4878                 4.0               2.800000  \n",
       "4879                 1.0               2.000000  \n",
       "4880                 1.0               1.200000  \n",
       "4881                 0.0               0.400000  \n",
       "4882                 0.0               0.200000  \n",
       "4883                 0.0               0.000000  \n",
       "4884                 0.0               0.200000  \n",
       "4885                 0.0               0.200000  \n",
       "4886                 1.0               0.200000  \n",
       "4887                 0.0               0.200000  \n",
       "4888                 0.0               0.200000  \n",
       "4889                 0.0               0.000000  \n",
       "4890                 0.0               0.000000  \n",
       "4891                 0.0               0.000000  \n",
       "4892                 0.0               0.200000  \n",
       "4893                 0.0               0.200000  \n",
       "4894                 1.0               0.250000  \n",
       "4895                 0.0               0.333333  \n",
       "\n",
       "[72 rows x 12 columns]"
      ]
     },
     "execution_count": 26,
     "metadata": {},
     "output_type": "execute_result"
    }
   ],
   "source": [
    "train_use"
   ]
  },
  {
   "cell_type": "code",
   "execution_count": 27,
   "metadata": {},
   "outputs": [],
   "source": [
    "train_use['Date_diff_p2'] = train_use['Date_diff']**2\n",
    "train_use['Date_diff_p3'] = train_use['Date_diff']**3\n",
    "# train_use['Date_diff_p4'] = train_use['Date_diff']**4"
   ]
  },
  {
   "cell_type": "code",
   "execution_count": 28,
   "metadata": {},
   "outputs": [],
   "source": [
    "train_use['Date_diff_ld1_p2'] = train_use['Date_diff_ld1']**2\n",
    "train_use['Date_diff_ld1_p3'] = train_use['Date_diff_ld1']**3"
   ]
  },
  {
   "cell_type": "code",
   "execution_count": 29,
   "metadata": {},
   "outputs": [],
   "source": [
    "train_use['Date_diff_ld2_p2'] = train_use['Date_diff_ld2']**2\n",
    "train_use['Date_diff_ld2_p3'] = train_use['Date_diff_ld2']**3"
   ]
  },
  {
   "cell_type": "code",
   "execution_count": 179,
   "metadata": {},
   "outputs": [],
   "source": [
    "train_use_1 = train_use[train_use['Date_diff_ld1'] < 1]\n",
    "train_use_2 = train_use[(train_use['Date_diff_ld1'] >= -1) & (train_use['Date_diff_ld2'] < 1)]\n",
    "train_use_3 = train_use[train_use['Date_diff_ld2'] >= -1]"
   ]
  },
  {
   "cell_type": "code",
   "execution_count": 31,
   "metadata": {},
   "outputs": [
    {
     "data": {
      "text/plain": [
       "76"
      ]
     },
     "execution_count": 31,
     "metadata": {},
     "output_type": "execute_result"
    }
   ],
   "source": [
    "len(train_use_1)+len(train_use_2)+len(train_use_3)"
   ]
  },
  {
   "cell_type": "code",
   "execution_count": 32,
   "metadata": {},
   "outputs": [],
   "source": [
    "input_columns = ['Date_diff','Date_diff_p2','Date_diff_p3']"
   ]
  },
  {
   "cell_type": "code",
   "execution_count": 33,
   "metadata": {},
   "outputs": [],
   "source": [
    "reg_1 = LinearRegression().fit(train_use_1[input_columns], train_use_1['ConfirmedCases_inc_sm'])"
   ]
  },
  {
   "cell_type": "code",
   "execution_count": 34,
   "metadata": {},
   "outputs": [
    {
     "data": {
      "text/plain": [
       "0.9771132422423866"
      ]
     },
     "execution_count": 34,
     "metadata": {},
     "output_type": "execute_result"
    }
   ],
   "source": [
    "reg_1.score(train_use_1[input_columns], train_use_1['ConfirmedCases_inc_sm'])"
   ]
  },
  {
   "cell_type": "code",
   "execution_count": 35,
   "metadata": {},
   "outputs": [
    {
     "data": {
      "text/plain": [
       "(array([-317.8705816 ,   67.42521802,   -2.40560633]), 555.726098901227)"
      ]
     },
     "execution_count": 35,
     "metadata": {},
     "output_type": "execute_result"
    }
   ],
   "source": [
    "reg_1.coef_, reg_1.intercept_"
   ]
  },
  {
   "cell_type": "code",
   "execution_count": 36,
   "metadata": {},
   "outputs": [
    {
     "name": "stderr",
     "output_type": "stream",
     "text": [
      "/Users/z001t72/anaconda3/lib/python3.6/site-packages/ipykernel_launcher.py:1: SettingWithCopyWarning: \n",
      "A value is trying to be set on a copy of a slice from a DataFrame.\n",
      "Try using .loc[row_indexer,col_indexer] = value instead\n",
      "\n",
      "See the caveats in the documentation: http://pandas.pydata.org/pandas-docs/stable/indexing.html#indexing-view-versus-copy\n",
      "  \"\"\"Entry point for launching an IPython kernel.\n"
     ]
    }
   ],
   "source": [
    "train_use_1['ConfirmedCases_pred'] = reg_1.predict(train_use_1[input_columns])"
   ]
  },
  {
   "cell_type": "code",
   "execution_count": 181,
   "metadata": {},
   "outputs": [],
   "source": [
    "input_columns = ['Date_diff_ld1','Date_diff_ld1_p2','Date_diff_ld1_p3']"
   ]
  },
  {
   "cell_type": "code",
   "execution_count": 182,
   "metadata": {},
   "outputs": [],
   "source": [
    "reg_2 = LinearRegression().fit(train_use_2[input_columns], train_use_2['ConfirmedCases_inc_sm'])"
   ]
  },
  {
   "cell_type": "code",
   "execution_count": 183,
   "metadata": {},
   "outputs": [
    {
     "data": {
      "text/plain": [
       "0.595241310802514"
      ]
     },
     "execution_count": 183,
     "metadata": {},
     "output_type": "execute_result"
    }
   ],
   "source": [
    "reg_2.score(train_use_2[input_columns], train_use_2['ConfirmedCases_inc_sm'])"
   ]
  },
  {
   "cell_type": "code",
   "execution_count": 184,
   "metadata": {},
   "outputs": [
    {
     "data": {
      "text/plain": [
       "(array([64.30649843, 66.51585582, -6.10178812]), 2434.220433436517)"
      ]
     },
     "execution_count": 184,
     "metadata": {},
     "output_type": "execute_result"
    }
   ],
   "source": [
    "reg_2.coef_, reg_2.intercept_"
   ]
  },
  {
   "cell_type": "code",
   "execution_count": 41,
   "metadata": {},
   "outputs": [
    {
     "name": "stderr",
     "output_type": "stream",
     "text": [
      "/Users/z001t72/anaconda3/lib/python3.6/site-packages/ipykernel_launcher.py:1: SettingWithCopyWarning: \n",
      "A value is trying to be set on a copy of a slice from a DataFrame.\n",
      "Try using .loc[row_indexer,col_indexer] = value instead\n",
      "\n",
      "See the caveats in the documentation: http://pandas.pydata.org/pandas-docs/stable/indexing.html#indexing-view-versus-copy\n",
      "  \"\"\"Entry point for launching an IPython kernel.\n"
     ]
    }
   ],
   "source": [
    "train_use_2['ConfirmedCases_pred'] = reg_2.predict(train_use_2[input_columns])"
   ]
  },
  {
   "cell_type": "code",
   "execution_count": 42,
   "metadata": {},
   "outputs": [],
   "source": [
    "input_columns = ['Date_diff_ld2','Date_diff_ld2_p2','Date_diff_ld2_p3']"
   ]
  },
  {
   "cell_type": "code",
   "execution_count": 43,
   "metadata": {},
   "outputs": [],
   "source": [
    "reg_3 = LinearRegression().fit(train_use_3[input_columns], train_use_3['ConfirmedCases_inc_sm'])"
   ]
  },
  {
   "cell_type": "code",
   "execution_count": 44,
   "metadata": {},
   "outputs": [
    {
     "data": {
      "text/plain": [
       "0.9376254294057428"
      ]
     },
     "execution_count": 44,
     "metadata": {},
     "output_type": "execute_result"
    }
   ],
   "source": [
    "reg_3.score(train_use_3[input_columns], train_use_3['ConfirmedCases_inc_sm'])"
   ]
  },
  {
   "cell_type": "code",
   "execution_count": 170,
   "metadata": {},
   "outputs": [
    {
     "data": {
      "text/plain": [
       "(array([-6.17016599e+01,  1.74202443e+00, -1.59441705e-02]), 705.0283558863738)"
      ]
     },
     "execution_count": 170,
     "metadata": {},
     "output_type": "execute_result"
    }
   ],
   "source": [
    "reg_3.coef_, reg_3.intercept_"
   ]
  },
  {
   "cell_type": "code",
   "execution_count": 46,
   "metadata": {},
   "outputs": [
    {
     "name": "stderr",
     "output_type": "stream",
     "text": [
      "/Users/z001t72/anaconda3/lib/python3.6/site-packages/ipykernel_launcher.py:1: SettingWithCopyWarning: \n",
      "A value is trying to be set on a copy of a slice from a DataFrame.\n",
      "Try using .loc[row_indexer,col_indexer] = value instead\n",
      "\n",
      "See the caveats in the documentation: http://pandas.pydata.org/pandas-docs/stable/indexing.html#indexing-view-versus-copy\n",
      "  \"\"\"Entry point for launching an IPython kernel.\n"
     ]
    }
   ],
   "source": [
    "train_use_3['ConfirmedCases_pred'] = reg_3.predict(train_use_3[input_columns])"
   ]
  },
  {
   "cell_type": "code",
   "execution_count": 47,
   "metadata": {},
   "outputs": [],
   "source": [
    "train_use_f = train_use_1.append(train_use_2).append(train_use_3)"
   ]
  },
  {
   "cell_type": "code",
   "execution_count": 48,
   "metadata": {},
   "outputs": [
    {
     "data": {
      "text/html": [
       "<div>\n",
       "<style scoped>\n",
       "    .dataframe tbody tr th:only-of-type {\n",
       "        vertical-align: middle;\n",
       "    }\n",
       "\n",
       "    .dataframe tbody tr th {\n",
       "        vertical-align: top;\n",
       "    }\n",
       "\n",
       "    .dataframe thead th {\n",
       "        text-align: right;\n",
       "    }\n",
       "</style>\n",
       "<table border=\"1\" class=\"dataframe\">\n",
       "  <thead>\n",
       "    <tr style=\"text-align: right;\">\n",
       "      <th></th>\n",
       "      <th>Id</th>\n",
       "      <th>Province_State</th>\n",
       "      <th>Country_Region</th>\n",
       "      <th>Date</th>\n",
       "      <th>ConfirmedCases</th>\n",
       "      <th>Fatalities</th>\n",
       "      <th>Country_State</th>\n",
       "      <th>Date_diff</th>\n",
       "      <th>Date_diff_ld1</th>\n",
       "      <th>Date_diff_ld2</th>\n",
       "      <th>ConfirmedCases_inc</th>\n",
       "      <th>ConfirmedCases_inc_sm</th>\n",
       "      <th>Date_diff_p2</th>\n",
       "      <th>Date_diff_p3</th>\n",
       "      <th>Date_diff_ld1_p2</th>\n",
       "      <th>Date_diff_ld1_p3</th>\n",
       "      <th>Date_diff_ld2_p2</th>\n",
       "      <th>Date_diff_ld2_p3</th>\n",
       "      <th>ConfirmedCases_pred</th>\n",
       "    </tr>\n",
       "  </thead>\n",
       "  <tbody>\n",
       "    <tr>\n",
       "      <th>4824</th>\n",
       "      <td>7170</td>\n",
       "      <td>Hubei</td>\n",
       "      <td>China</td>\n",
       "      <td>2020-01-22</td>\n",
       "      <td>444.0</td>\n",
       "      <td>17.0</td>\n",
       "      <td>China Hubei</td>\n",
       "      <td>1</td>\n",
       "      <td>-15</td>\n",
       "      <td>-29</td>\n",
       "      <td>444.0</td>\n",
       "      <td>183.000000</td>\n",
       "      <td>1</td>\n",
       "      <td>1</td>\n",
       "      <td>225</td>\n",
       "      <td>-3375</td>\n",
       "      <td>841</td>\n",
       "      <td>-24389</td>\n",
       "      <td>302.875129</td>\n",
       "    </tr>\n",
       "    <tr>\n",
       "      <th>4825</th>\n",
       "      <td>7171</td>\n",
       "      <td>Hubei</td>\n",
       "      <td>China</td>\n",
       "      <td>2020-01-23</td>\n",
       "      <td>444.0</td>\n",
       "      <td>17.0</td>\n",
       "      <td>China Hubei</td>\n",
       "      <td>2</td>\n",
       "      <td>-14</td>\n",
       "      <td>-28</td>\n",
       "      <td>0.0</td>\n",
       "      <td>190.250000</td>\n",
       "      <td>4</td>\n",
       "      <td>8</td>\n",
       "      <td>196</td>\n",
       "      <td>-2744</td>\n",
       "      <td>784</td>\n",
       "      <td>-21952</td>\n",
       "      <td>170.440957</td>\n",
       "    </tr>\n",
       "    <tr>\n",
       "      <th>4826</th>\n",
       "      <td>7172</td>\n",
       "      <td>Hubei</td>\n",
       "      <td>China</td>\n",
       "      <td>2020-01-24</td>\n",
       "      <td>549.0</td>\n",
       "      <td>24.0</td>\n",
       "      <td>China Hubei</td>\n",
       "      <td>3</td>\n",
       "      <td>-13</td>\n",
       "      <td>-27</td>\n",
       "      <td>105.0</td>\n",
       "      <td>211.600000</td>\n",
       "      <td>9</td>\n",
       "      <td>27</td>\n",
       "      <td>169</td>\n",
       "      <td>-2197</td>\n",
       "      <td>729</td>\n",
       "      <td>-19683</td>\n",
       "      <td>143.989945</td>\n",
       "    </tr>\n",
       "    <tr>\n",
       "      <th>4827</th>\n",
       "      <td>7173</td>\n",
       "      <td>Hubei</td>\n",
       "      <td>China</td>\n",
       "      <td>2020-01-25</td>\n",
       "      <td>761.0</td>\n",
       "      <td>40.0</td>\n",
       "      <td>China Hubei</td>\n",
       "      <td>4</td>\n",
       "      <td>-12</td>\n",
       "      <td>-26</td>\n",
       "      <td>212.0</td>\n",
       "      <td>195.800000</td>\n",
       "      <td>16</td>\n",
       "      <td>64</td>\n",
       "      <td>144</td>\n",
       "      <td>-1728</td>\n",
       "      <td>676</td>\n",
       "      <td>-17576</td>\n",
       "      <td>209.088456</td>\n",
       "    </tr>\n",
       "    <tr>\n",
       "      <th>4828</th>\n",
       "      <td>7174</td>\n",
       "      <td>Hubei</td>\n",
       "      <td>China</td>\n",
       "      <td>2020-01-26</td>\n",
       "      <td>1058.0</td>\n",
       "      <td>52.0</td>\n",
       "      <td>China Hubei</td>\n",
       "      <td>5</td>\n",
       "      <td>-11</td>\n",
       "      <td>-25</td>\n",
       "      <td>297.0</td>\n",
       "      <td>622.000000</td>\n",
       "      <td>25</td>\n",
       "      <td>125</td>\n",
       "      <td>121</td>\n",
       "      <td>-1331</td>\n",
       "      <td>625</td>\n",
       "      <td>-15625</td>\n",
       "      <td>351.302850</td>\n",
       "    </tr>\n",
       "    <tr>\n",
       "      <th>4829</th>\n",
       "      <td>7175</td>\n",
       "      <td>Hubei</td>\n",
       "      <td>China</td>\n",
       "      <td>2020-01-27</td>\n",
       "      <td>1423.0</td>\n",
       "      <td>76.0</td>\n",
       "      <td>China Hubei</td>\n",
       "      <td>6</td>\n",
       "      <td>-10</td>\n",
       "      <td>-24</td>\n",
       "      <td>365.0</td>\n",
       "      <td>601.000000</td>\n",
       "      <td>36</td>\n",
       "      <td>216</td>\n",
       "      <td>100</td>\n",
       "      <td>-1000</td>\n",
       "      <td>576</td>\n",
       "      <td>-13824</td>\n",
       "      <td>556.199491</td>\n",
       "    </tr>\n",
       "    <tr>\n",
       "      <th>4830</th>\n",
       "      <td>7176</td>\n",
       "      <td>Hubei</td>\n",
       "      <td>China</td>\n",
       "      <td>2020-01-28</td>\n",
       "      <td>3554.0</td>\n",
       "      <td>125.0</td>\n",
       "      <td>China Hubei</td>\n",
       "      <td>7</td>\n",
       "      <td>-9</td>\n",
       "      <td>-23</td>\n",
       "      <td>2131.0</td>\n",
       "      <td>828.400000</td>\n",
       "      <td>49</td>\n",
       "      <td>343</td>\n",
       "      <td>81</td>\n",
       "      <td>-729</td>\n",
       "      <td>529</td>\n",
       "      <td>-12167</td>\n",
       "      <td>809.344740</td>\n",
       "    </tr>\n",
       "    <tr>\n",
       "      <th>4831</th>\n",
       "      <td>7177</td>\n",
       "      <td>Hubei</td>\n",
       "      <td>China</td>\n",
       "      <td>2020-01-29</td>\n",
       "      <td>3554.0</td>\n",
       "      <td>125.0</td>\n",
       "      <td>China Hubei</td>\n",
       "      <td>8</td>\n",
       "      <td>-8</td>\n",
       "      <td>-22</td>\n",
       "      <td>0.0</td>\n",
       "      <td>949.600000</td>\n",
       "      <td>64</td>\n",
       "      <td>512</td>\n",
       "      <td>64</td>\n",
       "      <td>-512</td>\n",
       "      <td>484</td>\n",
       "      <td>-10648</td>\n",
       "      <td>1096.304960</td>\n",
       "    </tr>\n",
       "    <tr>\n",
       "      <th>4832</th>\n",
       "      <td>7178</td>\n",
       "      <td>Hubei</td>\n",
       "      <td>China</td>\n",
       "      <td>2020-01-30</td>\n",
       "      <td>4903.0</td>\n",
       "      <td>162.0</td>\n",
       "      <td>China Hubei</td>\n",
       "      <td>9</td>\n",
       "      <td>-7</td>\n",
       "      <td>-21</td>\n",
       "      <td>1349.0</td>\n",
       "      <td>1146.000000</td>\n",
       "      <td>81</td>\n",
       "      <td>729</td>\n",
       "      <td>49</td>\n",
       "      <td>-343</td>\n",
       "      <td>441</td>\n",
       "      <td>-9261</td>\n",
       "      <td>1402.646511</td>\n",
       "    </tr>\n",
       "    <tr>\n",
       "      <th>4833</th>\n",
       "      <td>7179</td>\n",
       "      <td>Hubei</td>\n",
       "      <td>China</td>\n",
       "      <td>2020-01-31</td>\n",
       "      <td>5806.0</td>\n",
       "      <td>204.0</td>\n",
       "      <td>China Hubei</td>\n",
       "      <td>10</td>\n",
       "      <td>-6</td>\n",
       "      <td>-20</td>\n",
       "      <td>903.0</td>\n",
       "      <td>1524.600000</td>\n",
       "      <td>100</td>\n",
       "      <td>1000</td>\n",
       "      <td>36</td>\n",
       "      <td>-216</td>\n",
       "      <td>400</td>\n",
       "      <td>-8000</td>\n",
       "      <td>1713.935757</td>\n",
       "    </tr>\n",
       "    <tr>\n",
       "      <th>4834</th>\n",
       "      <td>7180</td>\n",
       "      <td>Hubei</td>\n",
       "      <td>China</td>\n",
       "      <td>2020-02-01</td>\n",
       "      <td>7153.0</td>\n",
       "      <td>249.0</td>\n",
       "      <td>China Hubei</td>\n",
       "      <td>11</td>\n",
       "      <td>-5</td>\n",
       "      <td>-19</td>\n",
       "      <td>1347.0</td>\n",
       "      <td>1993.600000</td>\n",
       "      <td>121</td>\n",
       "      <td>1331</td>\n",
       "      <td>25</td>\n",
       "      <td>-125</td>\n",
       "      <td>361</td>\n",
       "      <td>-6859</td>\n",
       "      <td>2015.739059</td>\n",
       "    </tr>\n",
       "    <tr>\n",
       "      <th>4835</th>\n",
       "      <td>7181</td>\n",
       "      <td>Hubei</td>\n",
       "      <td>China</td>\n",
       "      <td>2020-02-02</td>\n",
       "      <td>11177.0</td>\n",
       "      <td>350.0</td>\n",
       "      <td>China Hubei</td>\n",
       "      <td>12</td>\n",
       "      <td>-4</td>\n",
       "      <td>-18</td>\n",
       "      <td>4024.0</td>\n",
       "      <td>2355.000000</td>\n",
       "      <td>144</td>\n",
       "      <td>1728</td>\n",
       "      <td>16</td>\n",
       "      <td>-64</td>\n",
       "      <td>324</td>\n",
       "      <td>-5832</td>\n",
       "      <td>2293.622780</td>\n",
       "    </tr>\n",
       "    <tr>\n",
       "      <th>4836</th>\n",
       "      <td>7182</td>\n",
       "      <td>Hubei</td>\n",
       "      <td>China</td>\n",
       "      <td>2020-02-03</td>\n",
       "      <td>13522.0</td>\n",
       "      <td>414.0</td>\n",
       "      <td>China Hubei</td>\n",
       "      <td>13</td>\n",
       "      <td>-3</td>\n",
       "      <td>-17</td>\n",
       "      <td>2345.0</td>\n",
       "      <td>2771.800000</td>\n",
       "      <td>169</td>\n",
       "      <td>2197</td>\n",
       "      <td>9</td>\n",
       "      <td>-27</td>\n",
       "      <td>289</td>\n",
       "      <td>-4913</td>\n",
       "      <td>2533.153281</td>\n",
       "    </tr>\n",
       "    <tr>\n",
       "      <th>4837</th>\n",
       "      <td>7183</td>\n",
       "      <td>Hubei</td>\n",
       "      <td>China</td>\n",
       "      <td>2020-02-04</td>\n",
       "      <td>16678.0</td>\n",
       "      <td>479.0</td>\n",
       "      <td>China Hubei</td>\n",
       "      <td>14</td>\n",
       "      <td>-2</td>\n",
       "      <td>-16</td>\n",
       "      <td>3156.0</td>\n",
       "      <td>2991.800000</td>\n",
       "      <td>196</td>\n",
       "      <td>2744</td>\n",
       "      <td>4</td>\n",
       "      <td>-8</td>\n",
       "      <td>256</td>\n",
       "      <td>-4096</td>\n",
       "      <td>2719.896924</td>\n",
       "    </tr>\n",
       "    <tr>\n",
       "      <th>4838</th>\n",
       "      <td>7184</td>\n",
       "      <td>Hubei</td>\n",
       "      <td>China</td>\n",
       "      <td>2020-02-05</td>\n",
       "      <td>19665.0</td>\n",
       "      <td>549.0</td>\n",
       "      <td>China Hubei</td>\n",
       "      <td>15</td>\n",
       "      <td>-1</td>\n",
       "      <td>-15</td>\n",
       "      <td>2987.0</td>\n",
       "      <td>2755.200000</td>\n",
       "      <td>225</td>\n",
       "      <td>3375</td>\n",
       "      <td>1</td>\n",
       "      <td>-1</td>\n",
       "      <td>225</td>\n",
       "      <td>-3375</td>\n",
       "      <td>2839.420072</td>\n",
       "    </tr>\n",
       "    <tr>\n",
       "      <th>4839</th>\n",
       "      <td>7185</td>\n",
       "      <td>Hubei</td>\n",
       "      <td>China</td>\n",
       "      <td>2020-02-06</td>\n",
       "      <td>22112.0</td>\n",
       "      <td>618.0</td>\n",
       "      <td>China Hubei</td>\n",
       "      <td>16</td>\n",
       "      <td>0</td>\n",
       "      <td>-14</td>\n",
       "      <td>2447.0</td>\n",
       "      <td>2715.600000</td>\n",
       "      <td>256</td>\n",
       "      <td>4096</td>\n",
       "      <td>0</td>\n",
       "      <td>0</td>\n",
       "      <td>196</td>\n",
       "      <td>-2744</td>\n",
       "      <td>2877.289087</td>\n",
       "    </tr>\n",
       "    <tr>\n",
       "      <th>4838</th>\n",
       "      <td>7184</td>\n",
       "      <td>Hubei</td>\n",
       "      <td>China</td>\n",
       "      <td>2020-02-05</td>\n",
       "      <td>19665.0</td>\n",
       "      <td>549.0</td>\n",
       "      <td>China Hubei</td>\n",
       "      <td>15</td>\n",
       "      <td>-1</td>\n",
       "      <td>-15</td>\n",
       "      <td>2987.0</td>\n",
       "      <td>2755.200000</td>\n",
       "      <td>225</td>\n",
       "      <td>3375</td>\n",
       "      <td>1</td>\n",
       "      <td>-1</td>\n",
       "      <td>225</td>\n",
       "      <td>-3375</td>\n",
       "      <td>2442.531579</td>\n",
       "    </tr>\n",
       "    <tr>\n",
       "      <th>4839</th>\n",
       "      <td>7185</td>\n",
       "      <td>Hubei</td>\n",
       "      <td>China</td>\n",
       "      <td>2020-02-06</td>\n",
       "      <td>22112.0</td>\n",
       "      <td>618.0</td>\n",
       "      <td>China Hubei</td>\n",
       "      <td>16</td>\n",
       "      <td>0</td>\n",
       "      <td>-14</td>\n",
       "      <td>2447.0</td>\n",
       "      <td>2715.600000</td>\n",
       "      <td>256</td>\n",
       "      <td>4096</td>\n",
       "      <td>0</td>\n",
       "      <td>0</td>\n",
       "      <td>196</td>\n",
       "      <td>-2744</td>\n",
       "      <td>2434.220433</td>\n",
       "    </tr>\n",
       "    <tr>\n",
       "      <th>4840</th>\n",
       "      <td>7186</td>\n",
       "      <td>Hubei</td>\n",
       "      <td>China</td>\n",
       "      <td>2020-02-07</td>\n",
       "      <td>24953.0</td>\n",
       "      <td>699.0</td>\n",
       "      <td>China Hubei</td>\n",
       "      <td>17</td>\n",
       "      <td>1</td>\n",
       "      <td>-13</td>\n",
       "      <td>2841.0</td>\n",
       "      <td>2590.600000</td>\n",
       "      <td>289</td>\n",
       "      <td>4913</td>\n",
       "      <td>1</td>\n",
       "      <td>1</td>\n",
       "      <td>169</td>\n",
       "      <td>-2197</td>\n",
       "      <td>2558.941000</td>\n",
       "    </tr>\n",
       "    <tr>\n",
       "      <th>4841</th>\n",
       "      <td>7187</td>\n",
       "      <td>Hubei</td>\n",
       "      <td>China</td>\n",
       "      <td>2020-02-08</td>\n",
       "      <td>27100.0</td>\n",
       "      <td>780.0</td>\n",
       "      <td>China Hubei</td>\n",
       "      <td>18</td>\n",
       "      <td>2</td>\n",
       "      <td>-12</td>\n",
       "      <td>2147.0</td>\n",
       "      <td>2412.600000</td>\n",
       "      <td>324</td>\n",
       "      <td>5832</td>\n",
       "      <td>4</td>\n",
       "      <td>8</td>\n",
       "      <td>144</td>\n",
       "      <td>-1728</td>\n",
       "      <td>2780.082549</td>\n",
       "    </tr>\n",
       "    <tr>\n",
       "      <th>4842</th>\n",
       "      <td>7188</td>\n",
       "      <td>Hubei</td>\n",
       "      <td>China</td>\n",
       "      <td>2020-02-09</td>\n",
       "      <td>29631.0</td>\n",
       "      <td>871.0</td>\n",
       "      <td>China Hubei</td>\n",
       "      <td>19</td>\n",
       "      <td>3</td>\n",
       "      <td>-11</td>\n",
       "      <td>2531.0</td>\n",
       "      <td>2250.800000</td>\n",
       "      <td>361</td>\n",
       "      <td>6859</td>\n",
       "      <td>9</td>\n",
       "      <td>27</td>\n",
       "      <td>121</td>\n",
       "      <td>-1331</td>\n",
       "      <td>3061.034352</td>\n",
       "    </tr>\n",
       "    <tr>\n",
       "      <th>4843</th>\n",
       "      <td>7189</td>\n",
       "      <td>Hubei</td>\n",
       "      <td>China</td>\n",
       "      <td>2020-02-10</td>\n",
       "      <td>31728.0</td>\n",
       "      <td>974.0</td>\n",
       "      <td>China Hubei</td>\n",
       "      <td>20</td>\n",
       "      <td>4</td>\n",
       "      <td>-10</td>\n",
       "      <td>2097.0</td>\n",
       "      <td>1682.600000</td>\n",
       "      <td>400</td>\n",
       "      <td>8000</td>\n",
       "      <td>16</td>\n",
       "      <td>64</td>\n",
       "      <td>100</td>\n",
       "      <td>-1000</td>\n",
       "      <td>3365.185680</td>\n",
       "    </tr>\n",
       "    <tr>\n",
       "      <th>4844</th>\n",
       "      <td>7190</td>\n",
       "      <td>Hubei</td>\n",
       "      <td>China</td>\n",
       "      <td>2020-02-11</td>\n",
       "      <td>33366.0</td>\n",
       "      <td>1068.0</td>\n",
       "      <td>China Hubei</td>\n",
       "      <td>21</td>\n",
       "      <td>5</td>\n",
       "      <td>-9</td>\n",
       "      <td>1638.0</td>\n",
       "      <td>4221.200000</td>\n",
       "      <td>441</td>\n",
       "      <td>9261</td>\n",
       "      <td>25</td>\n",
       "      <td>125</td>\n",
       "      <td>81</td>\n",
       "      <td>-729</td>\n",
       "      <td>3655.925805</td>\n",
       "    </tr>\n",
       "    <tr>\n",
       "      <th>4845</th>\n",
       "      <td>7191</td>\n",
       "      <td>Hubei</td>\n",
       "      <td>China</td>\n",
       "      <td>2020-02-12</td>\n",
       "      <td>33366.0</td>\n",
       "      <td>1068.0</td>\n",
       "      <td>China Hubei</td>\n",
       "      <td>22</td>\n",
       "      <td>6</td>\n",
       "      <td>-8</td>\n",
       "      <td>0.0</td>\n",
       "      <td>4955.000000</td>\n",
       "      <td>484</td>\n",
       "      <td>10648</td>\n",
       "      <td>36</td>\n",
       "      <td>216</td>\n",
       "      <td>64</td>\n",
       "      <td>-512</td>\n",
       "      <td>3896.643999</td>\n",
       "    </tr>\n",
       "    <tr>\n",
       "      <th>4846</th>\n",
       "      <td>7192</td>\n",
       "      <td>Hubei</td>\n",
       "      <td>China</td>\n",
       "      <td>2020-02-13</td>\n",
       "      <td>48206.0</td>\n",
       "      <td>1310.0</td>\n",
       "      <td>China Hubei</td>\n",
       "      <td>23</td>\n",
       "      <td>7</td>\n",
       "      <td>-7</td>\n",
       "      <td>14840.0</td>\n",
       "      <td>4904.200000</td>\n",
       "      <td>529</td>\n",
       "      <td>12167</td>\n",
       "      <td>49</td>\n",
       "      <td>343</td>\n",
       "      <td>49</td>\n",
       "      <td>-343</td>\n",
       "      <td>4050.729531</td>\n",
       "    </tr>\n",
       "    <tr>\n",
       "      <th>4847</th>\n",
       "      <td>7193</td>\n",
       "      <td>Hubei</td>\n",
       "      <td>China</td>\n",
       "      <td>2020-02-14</td>\n",
       "      <td>54406.0</td>\n",
       "      <td>1457.0</td>\n",
       "      <td>China Hubei</td>\n",
       "      <td>24</td>\n",
       "      <td>8</td>\n",
       "      <td>-6</td>\n",
       "      <td>6200.0</td>\n",
       "      <td>4963.200000</td>\n",
       "      <td>576</td>\n",
       "      <td>13824</td>\n",
       "      <td>64</td>\n",
       "      <td>512</td>\n",
       "      <td>36</td>\n",
       "      <td>-216</td>\n",
       "      <td>4081.571674</td>\n",
       "    </tr>\n",
       "    <tr>\n",
       "      <th>4848</th>\n",
       "      <td>7194</td>\n",
       "      <td>Hubei</td>\n",
       "      <td>China</td>\n",
       "      <td>2020-02-15</td>\n",
       "      <td>56249.0</td>\n",
       "      <td>1596.0</td>\n",
       "      <td>China Hubei</td>\n",
       "      <td>25</td>\n",
       "      <td>9</td>\n",
       "      <td>-5</td>\n",
       "      <td>1843.0</td>\n",
       "      <td>5324.600000</td>\n",
       "      <td>625</td>\n",
       "      <td>15625</td>\n",
       "      <td>81</td>\n",
       "      <td>729</td>\n",
       "      <td>25</td>\n",
       "      <td>-125</td>\n",
       "      <td>3952.559698</td>\n",
       "    </tr>\n",
       "    <tr>\n",
       "      <th>4849</th>\n",
       "      <td>7195</td>\n",
       "      <td>Hubei</td>\n",
       "      <td>China</td>\n",
       "      <td>2020-02-16</td>\n",
       "      <td>58182.0</td>\n",
       "      <td>1696.0</td>\n",
       "      <td>China Hubei</td>\n",
       "      <td>26</td>\n",
       "      <td>10</td>\n",
       "      <td>-4</td>\n",
       "      <td>1933.0</td>\n",
       "      <td>2695.200000</td>\n",
       "      <td>676</td>\n",
       "      <td>17576</td>\n",
       "      <td>100</td>\n",
       "      <td>1000</td>\n",
       "      <td>16</td>\n",
       "      <td>-64</td>\n",
       "      <td>3627.082875</td>\n",
       "    </tr>\n",
       "    <tr>\n",
       "      <th>4850</th>\n",
       "      <td>7196</td>\n",
       "      <td>Hubei</td>\n",
       "      <td>China</td>\n",
       "      <td>2020-02-17</td>\n",
       "      <td>59989.0</td>\n",
       "      <td>1789.0</td>\n",
       "      <td>China Hubei</td>\n",
       "      <td>27</td>\n",
       "      <td>11</td>\n",
       "      <td>-3</td>\n",
       "      <td>1807.0</td>\n",
       "      <td>1525.000000</td>\n",
       "      <td>729</td>\n",
       "      <td>19683</td>\n",
       "      <td>121</td>\n",
       "      <td>1331</td>\n",
       "      <td>9</td>\n",
       "      <td>-27</td>\n",
       "      <td>3068.530477</td>\n",
       "    </tr>\n",
       "    <tr>\n",
       "      <th>4851</th>\n",
       "      <td>7197</td>\n",
       "      <td>Hubei</td>\n",
       "      <td>China</td>\n",
       "      <td>2020-02-18</td>\n",
       "      <td>61682.0</td>\n",
       "      <td>1921.0</td>\n",
       "      <td>China Hubei</td>\n",
       "      <td>28</td>\n",
       "      <td>12</td>\n",
       "      <td>-2</td>\n",
       "      <td>1693.0</td>\n",
       "      <td>1238.600000</td>\n",
       "      <td>784</td>\n",
       "      <td>21952</td>\n",
       "      <td>144</td>\n",
       "      <td>1728</td>\n",
       "      <td>4</td>\n",
       "      <td>-8</td>\n",
       "      <td>2240.291774</td>\n",
       "    </tr>\n",
       "    <tr>\n",
       "      <th>...</th>\n",
       "      <td>...</td>\n",
       "      <td>...</td>\n",
       "      <td>...</td>\n",
       "      <td>...</td>\n",
       "      <td>...</td>\n",
       "      <td>...</td>\n",
       "      <td>...</td>\n",
       "      <td>...</td>\n",
       "      <td>...</td>\n",
       "      <td>...</td>\n",
       "      <td>...</td>\n",
       "      <td>...</td>\n",
       "      <td>...</td>\n",
       "      <td>...</td>\n",
       "      <td>...</td>\n",
       "      <td>...</td>\n",
       "      <td>...</td>\n",
       "      <td>...</td>\n",
       "      <td>...</td>\n",
       "    </tr>\n",
       "    <tr>\n",
       "      <th>4866</th>\n",
       "      <td>7212</td>\n",
       "      <td>Hubei</td>\n",
       "      <td>China</td>\n",
       "      <td>2020-03-04</td>\n",
       "      <td>67332.0</td>\n",
       "      <td>2871.0</td>\n",
       "      <td>China Hubei</td>\n",
       "      <td>43</td>\n",
       "      <td>27</td>\n",
       "      <td>13</td>\n",
       "      <td>115.0</td>\n",
       "      <td>137.000000</td>\n",
       "      <td>1849</td>\n",
       "      <td>79507</td>\n",
       "      <td>729</td>\n",
       "      <td>19683</td>\n",
       "      <td>169</td>\n",
       "      <td>2197</td>\n",
       "      <td>162.279563</td>\n",
       "    </tr>\n",
       "    <tr>\n",
       "      <th>4867</th>\n",
       "      <td>7213</td>\n",
       "      <td>Hubei</td>\n",
       "      <td>China</td>\n",
       "      <td>2020-03-05</td>\n",
       "      <td>67466.0</td>\n",
       "      <td>2902.0</td>\n",
       "      <td>China Hubei</td>\n",
       "      <td>44</td>\n",
       "      <td>28</td>\n",
       "      <td>14</td>\n",
       "      <td>134.0</td>\n",
       "      <td>112.600000</td>\n",
       "      <td>1936</td>\n",
       "      <td>85184</td>\n",
       "      <td>784</td>\n",
       "      <td>21952</td>\n",
       "      <td>196</td>\n",
       "      <td>2744</td>\n",
       "      <td>138.891102</td>\n",
       "    </tr>\n",
       "    <tr>\n",
       "      <th>4868</th>\n",
       "      <td>7214</td>\n",
       "      <td>Hubei</td>\n",
       "      <td>China</td>\n",
       "      <td>2020-03-06</td>\n",
       "      <td>67592.0</td>\n",
       "      <td>2931.0</td>\n",
       "      <td>China Hubei</td>\n",
       "      <td>45</td>\n",
       "      <td>29</td>\n",
       "      <td>15</td>\n",
       "      <td>126.0</td>\n",
       "      <td>98.000000</td>\n",
       "      <td>2025</td>\n",
       "      <td>91125</td>\n",
       "      <td>841</td>\n",
       "      <td>24389</td>\n",
       "      <td>225</td>\n",
       "      <td>3375</td>\n",
       "      <td>117.647379</td>\n",
       "    </tr>\n",
       "    <tr>\n",
       "      <th>4869</th>\n",
       "      <td>7215</td>\n",
       "      <td>Hubei</td>\n",
       "      <td>China</td>\n",
       "      <td>2020-03-07</td>\n",
       "      <td>67666.0</td>\n",
       "      <td>2959.0</td>\n",
       "      <td>China Hubei</td>\n",
       "      <td>46</td>\n",
       "      <td>30</td>\n",
       "      <td>16</td>\n",
       "      <td>74.0</td>\n",
       "      <td>82.200000</td>\n",
       "      <td>2116</td>\n",
       "      <td>97336</td>\n",
       "      <td>900</td>\n",
       "      <td>27000</td>\n",
       "      <td>256</td>\n",
       "      <td>4096</td>\n",
       "      <td>98.452729</td>\n",
       "    </tr>\n",
       "    <tr>\n",
       "      <th>4870</th>\n",
       "      <td>7216</td>\n",
       "      <td>Hubei</td>\n",
       "      <td>China</td>\n",
       "      <td>2020-03-08</td>\n",
       "      <td>67707.0</td>\n",
       "      <td>2986.0</td>\n",
       "      <td>China Hubei</td>\n",
       "      <td>47</td>\n",
       "      <td>31</td>\n",
       "      <td>17</td>\n",
       "      <td>41.0</td>\n",
       "      <td>58.800000</td>\n",
       "      <td>2209</td>\n",
       "      <td>103823</td>\n",
       "      <td>961</td>\n",
       "      <td>29791</td>\n",
       "      <td>289</td>\n",
       "      <td>4913</td>\n",
       "      <td>81.211488</td>\n",
       "    </tr>\n",
       "    <tr>\n",
       "      <th>4871</th>\n",
       "      <td>7217</td>\n",
       "      <td>Hubei</td>\n",
       "      <td>China</td>\n",
       "      <td>2020-03-09</td>\n",
       "      <td>67743.0</td>\n",
       "      <td>3008.0</td>\n",
       "      <td>China Hubei</td>\n",
       "      <td>48</td>\n",
       "      <td>32</td>\n",
       "      <td>18</td>\n",
       "      <td>36.0</td>\n",
       "      <td>36.200000</td>\n",
       "      <td>2304</td>\n",
       "      <td>110592</td>\n",
       "      <td>1024</td>\n",
       "      <td>32768</td>\n",
       "      <td>324</td>\n",
       "      <td>5832</td>\n",
       "      <td>65.827991</td>\n",
       "    </tr>\n",
       "    <tr>\n",
       "      <th>4872</th>\n",
       "      <td>7218</td>\n",
       "      <td>Hubei</td>\n",
       "      <td>China</td>\n",
       "      <td>2020-03-10</td>\n",
       "      <td>67760.0</td>\n",
       "      <td>3024.0</td>\n",
       "      <td>China Hubei</td>\n",
       "      <td>49</td>\n",
       "      <td>33</td>\n",
       "      <td>19</td>\n",
       "      <td>17.0</td>\n",
       "      <td>23.000000</td>\n",
       "      <td>2401</td>\n",
       "      <td>117649</td>\n",
       "      <td>1089</td>\n",
       "      <td>35937</td>\n",
       "      <td>361</td>\n",
       "      <td>6859</td>\n",
       "      <td>52.206572</td>\n",
       "    </tr>\n",
       "    <tr>\n",
       "      <th>4873</th>\n",
       "      <td>7219</td>\n",
       "      <td>Hubei</td>\n",
       "      <td>China</td>\n",
       "      <td>2020-03-11</td>\n",
       "      <td>67773.0</td>\n",
       "      <td>3046.0</td>\n",
       "      <td>China Hubei</td>\n",
       "      <td>50</td>\n",
       "      <td>34</td>\n",
       "      <td>20</td>\n",
       "      <td>13.0</td>\n",
       "      <td>15.800000</td>\n",
       "      <td>2500</td>\n",
       "      <td>125000</td>\n",
       "      <td>1156</td>\n",
       "      <td>39304</td>\n",
       "      <td>400</td>\n",
       "      <td>8000</td>\n",
       "      <td>40.251566</td>\n",
       "    </tr>\n",
       "    <tr>\n",
       "      <th>4874</th>\n",
       "      <td>7220</td>\n",
       "      <td>Hubei</td>\n",
       "      <td>China</td>\n",
       "      <td>2020-03-12</td>\n",
       "      <td>67781.0</td>\n",
       "      <td>3056.0</td>\n",
       "      <td>China Hubei</td>\n",
       "      <td>51</td>\n",
       "      <td>35</td>\n",
       "      <td>21</td>\n",
       "      <td>8.0</td>\n",
       "      <td>9.400000</td>\n",
       "      <td>2601</td>\n",
       "      <td>132651</td>\n",
       "      <td>1225</td>\n",
       "      <td>42875</td>\n",
       "      <td>441</td>\n",
       "      <td>9261</td>\n",
       "      <td>29.867309</td>\n",
       "    </tr>\n",
       "    <tr>\n",
       "      <th>4875</th>\n",
       "      <td>7221</td>\n",
       "      <td>Hubei</td>\n",
       "      <td>China</td>\n",
       "      <td>2020-03-13</td>\n",
       "      <td>67786.0</td>\n",
       "      <td>3062.0</td>\n",
       "      <td>China Hubei</td>\n",
       "      <td>52</td>\n",
       "      <td>36</td>\n",
       "      <td>22</td>\n",
       "      <td>5.0</td>\n",
       "      <td>6.800000</td>\n",
       "      <td>2704</td>\n",
       "      <td>140608</td>\n",
       "      <td>1296</td>\n",
       "      <td>46656</td>\n",
       "      <td>484</td>\n",
       "      <td>10648</td>\n",
       "      <td>20.958135</td>\n",
       "    </tr>\n",
       "    <tr>\n",
       "      <th>4876</th>\n",
       "      <td>7222</td>\n",
       "      <td>Hubei</td>\n",
       "      <td>China</td>\n",
       "      <td>2020-03-14</td>\n",
       "      <td>67790.0</td>\n",
       "      <td>3075.0</td>\n",
       "      <td>China Hubei</td>\n",
       "      <td>53</td>\n",
       "      <td>37</td>\n",
       "      <td>23</td>\n",
       "      <td>4.0</td>\n",
       "      <td>5.000000</td>\n",
       "      <td>2809</td>\n",
       "      <td>148877</td>\n",
       "      <td>1369</td>\n",
       "      <td>50653</td>\n",
       "      <td>529</td>\n",
       "      <td>12167</td>\n",
       "      <td>13.428379</td>\n",
       "    </tr>\n",
       "    <tr>\n",
       "      <th>4877</th>\n",
       "      <td>7223</td>\n",
       "      <td>Hubei</td>\n",
       "      <td>China</td>\n",
       "      <td>2020-03-15</td>\n",
       "      <td>67794.0</td>\n",
       "      <td>3085.0</td>\n",
       "      <td>China Hubei</td>\n",
       "      <td>54</td>\n",
       "      <td>38</td>\n",
       "      <td>24</td>\n",
       "      <td>4.0</td>\n",
       "      <td>3.600000</td>\n",
       "      <td>2916</td>\n",
       "      <td>157464</td>\n",
       "      <td>1444</td>\n",
       "      <td>54872</td>\n",
       "      <td>576</td>\n",
       "      <td>13824</td>\n",
       "      <td>7.182377</td>\n",
       "    </tr>\n",
       "    <tr>\n",
       "      <th>4878</th>\n",
       "      <td>7224</td>\n",
       "      <td>Hubei</td>\n",
       "      <td>China</td>\n",
       "      <td>2020-03-16</td>\n",
       "      <td>67798.0</td>\n",
       "      <td>3099.0</td>\n",
       "      <td>China Hubei</td>\n",
       "      <td>55</td>\n",
       "      <td>39</td>\n",
       "      <td>25</td>\n",
       "      <td>4.0</td>\n",
       "      <td>2.800000</td>\n",
       "      <td>3025</td>\n",
       "      <td>166375</td>\n",
       "      <td>1521</td>\n",
       "      <td>59319</td>\n",
       "      <td>625</td>\n",
       "      <td>15625</td>\n",
       "      <td>2.124463</td>\n",
       "    </tr>\n",
       "    <tr>\n",
       "      <th>4879</th>\n",
       "      <td>7225</td>\n",
       "      <td>Hubei</td>\n",
       "      <td>China</td>\n",
       "      <td>2020-03-17</td>\n",
       "      <td>67799.0</td>\n",
       "      <td>3111.0</td>\n",
       "      <td>China Hubei</td>\n",
       "      <td>56</td>\n",
       "      <td>40</td>\n",
       "      <td>26</td>\n",
       "      <td>1.0</td>\n",
       "      <td>2.000000</td>\n",
       "      <td>3136</td>\n",
       "      <td>175616</td>\n",
       "      <td>1600</td>\n",
       "      <td>64000</td>\n",
       "      <td>676</td>\n",
       "      <td>17576</td>\n",
       "      <td>-1.841027</td>\n",
       "    </tr>\n",
       "    <tr>\n",
       "      <th>4880</th>\n",
       "      <td>7226</td>\n",
       "      <td>Hubei</td>\n",
       "      <td>China</td>\n",
       "      <td>2020-03-18</td>\n",
       "      <td>67800.0</td>\n",
       "      <td>3122.0</td>\n",
       "      <td>China Hubei</td>\n",
       "      <td>57</td>\n",
       "      <td>41</td>\n",
       "      <td>27</td>\n",
       "      <td>1.0</td>\n",
       "      <td>1.200000</td>\n",
       "      <td>3249</td>\n",
       "      <td>185193</td>\n",
       "      <td>1681</td>\n",
       "      <td>68921</td>\n",
       "      <td>729</td>\n",
       "      <td>19683</td>\n",
       "      <td>-4.809760</td>\n",
       "    </tr>\n",
       "    <tr>\n",
       "      <th>4881</th>\n",
       "      <td>7227</td>\n",
       "      <td>Hubei</td>\n",
       "      <td>China</td>\n",
       "      <td>2020-03-19</td>\n",
       "      <td>67800.0</td>\n",
       "      <td>3130.0</td>\n",
       "      <td>China Hubei</td>\n",
       "      <td>58</td>\n",
       "      <td>42</td>\n",
       "      <td>28</td>\n",
       "      <td>0.0</td>\n",
       "      <td>0.400000</td>\n",
       "      <td>3364</td>\n",
       "      <td>195112</td>\n",
       "      <td>1764</td>\n",
       "      <td>74088</td>\n",
       "      <td>784</td>\n",
       "      <td>21952</td>\n",
       "      <td>-6.877399</td>\n",
       "    </tr>\n",
       "    <tr>\n",
       "      <th>4882</th>\n",
       "      <td>7228</td>\n",
       "      <td>Hubei</td>\n",
       "      <td>China</td>\n",
       "      <td>2020-03-20</td>\n",
       "      <td>67800.0</td>\n",
       "      <td>3133.0</td>\n",
       "      <td>China Hubei</td>\n",
       "      <td>59</td>\n",
       "      <td>43</td>\n",
       "      <td>29</td>\n",
       "      <td>0.0</td>\n",
       "      <td>0.200000</td>\n",
       "      <td>3481</td>\n",
       "      <td>205379</td>\n",
       "      <td>1849</td>\n",
       "      <td>79507</td>\n",
       "      <td>841</td>\n",
       "      <td>24389</td>\n",
       "      <td>-8.139609</td>\n",
       "    </tr>\n",
       "    <tr>\n",
       "      <th>4883</th>\n",
       "      <td>7229</td>\n",
       "      <td>Hubei</td>\n",
       "      <td>China</td>\n",
       "      <td>2020-03-21</td>\n",
       "      <td>67800.0</td>\n",
       "      <td>3139.0</td>\n",
       "      <td>China Hubei</td>\n",
       "      <td>60</td>\n",
       "      <td>44</td>\n",
       "      <td>30</td>\n",
       "      <td>0.0</td>\n",
       "      <td>0.000000</td>\n",
       "      <td>3600</td>\n",
       "      <td>216000</td>\n",
       "      <td>1936</td>\n",
       "      <td>85184</td>\n",
       "      <td>900</td>\n",
       "      <td>27000</td>\n",
       "      <td>-8.692057</td>\n",
       "    </tr>\n",
       "    <tr>\n",
       "      <th>4884</th>\n",
       "      <td>7230</td>\n",
       "      <td>Hubei</td>\n",
       "      <td>China</td>\n",
       "      <td>2020-03-22</td>\n",
       "      <td>67800.0</td>\n",
       "      <td>3153.0</td>\n",
       "      <td>China Hubei</td>\n",
       "      <td>61</td>\n",
       "      <td>45</td>\n",
       "      <td>31</td>\n",
       "      <td>0.0</td>\n",
       "      <td>0.200000</td>\n",
       "      <td>3721</td>\n",
       "      <td>226981</td>\n",
       "      <td>2025</td>\n",
       "      <td>91125</td>\n",
       "      <td>961</td>\n",
       "      <td>29791</td>\n",
       "      <td>-8.630407</td>\n",
       "    </tr>\n",
       "    <tr>\n",
       "      <th>4885</th>\n",
       "      <td>7231</td>\n",
       "      <td>Hubei</td>\n",
       "      <td>China</td>\n",
       "      <td>2020-03-23</td>\n",
       "      <td>67800.0</td>\n",
       "      <td>3153.0</td>\n",
       "      <td>China Hubei</td>\n",
       "      <td>62</td>\n",
       "      <td>46</td>\n",
       "      <td>32</td>\n",
       "      <td>0.0</td>\n",
       "      <td>0.200000</td>\n",
       "      <td>3844</td>\n",
       "      <td>238328</td>\n",
       "      <td>2116</td>\n",
       "      <td>97336</td>\n",
       "      <td>1024</td>\n",
       "      <td>32768</td>\n",
       "      <td>-8.050323</td>\n",
       "    </tr>\n",
       "    <tr>\n",
       "      <th>4886</th>\n",
       "      <td>7232</td>\n",
       "      <td>Hubei</td>\n",
       "      <td>China</td>\n",
       "      <td>2020-03-24</td>\n",
       "      <td>67801.0</td>\n",
       "      <td>3160.0</td>\n",
       "      <td>China Hubei</td>\n",
       "      <td>63</td>\n",
       "      <td>47</td>\n",
       "      <td>33</td>\n",
       "      <td>1.0</td>\n",
       "      <td>0.200000</td>\n",
       "      <td>3969</td>\n",
       "      <td>250047</td>\n",
       "      <td>2209</td>\n",
       "      <td>103823</td>\n",
       "      <td>1089</td>\n",
       "      <td>35937</td>\n",
       "      <td>-7.047471</td>\n",
       "    </tr>\n",
       "    <tr>\n",
       "      <th>4887</th>\n",
       "      <td>7233</td>\n",
       "      <td>Hubei</td>\n",
       "      <td>China</td>\n",
       "      <td>2020-03-25</td>\n",
       "      <td>67801.0</td>\n",
       "      <td>3163.0</td>\n",
       "      <td>China Hubei</td>\n",
       "      <td>64</td>\n",
       "      <td>48</td>\n",
       "      <td>34</td>\n",
       "      <td>0.0</td>\n",
       "      <td>0.200000</td>\n",
       "      <td>4096</td>\n",
       "      <td>262144</td>\n",
       "      <td>2304</td>\n",
       "      <td>110592</td>\n",
       "      <td>1156</td>\n",
       "      <td>39304</td>\n",
       "      <td>-5.717516</td>\n",
       "    </tr>\n",
       "    <tr>\n",
       "      <th>4888</th>\n",
       "      <td>7234</td>\n",
       "      <td>Hubei</td>\n",
       "      <td>China</td>\n",
       "      <td>2020-03-26</td>\n",
       "      <td>67801.0</td>\n",
       "      <td>3169.0</td>\n",
       "      <td>China Hubei</td>\n",
       "      <td>65</td>\n",
       "      <td>49</td>\n",
       "      <td>35</td>\n",
       "      <td>0.0</td>\n",
       "      <td>0.200000</td>\n",
       "      <td>4225</td>\n",
       "      <td>274625</td>\n",
       "      <td>2401</td>\n",
       "      <td>117649</td>\n",
       "      <td>1225</td>\n",
       "      <td>42875</td>\n",
       "      <td>-4.156123</td>\n",
       "    </tr>\n",
       "    <tr>\n",
       "      <th>4889</th>\n",
       "      <td>7235</td>\n",
       "      <td>Hubei</td>\n",
       "      <td>China</td>\n",
       "      <td>2020-03-27</td>\n",
       "      <td>67801.0</td>\n",
       "      <td>3174.0</td>\n",
       "      <td>China Hubei</td>\n",
       "      <td>66</td>\n",
       "      <td>50</td>\n",
       "      <td>36</td>\n",
       "      <td>0.0</td>\n",
       "      <td>0.000000</td>\n",
       "      <td>4356</td>\n",
       "      <td>287496</td>\n",
       "      <td>2500</td>\n",
       "      <td>125000</td>\n",
       "      <td>1296</td>\n",
       "      <td>46656</td>\n",
       "      <td>-2.458957</td>\n",
       "    </tr>\n",
       "    <tr>\n",
       "      <th>4890</th>\n",
       "      <td>7236</td>\n",
       "      <td>Hubei</td>\n",
       "      <td>China</td>\n",
       "      <td>2020-03-28</td>\n",
       "      <td>67801.0</td>\n",
       "      <td>3177.0</td>\n",
       "      <td>China Hubei</td>\n",
       "      <td>67</td>\n",
       "      <td>51</td>\n",
       "      <td>37</td>\n",
       "      <td>0.0</td>\n",
       "      <td>0.000000</td>\n",
       "      <td>4489</td>\n",
       "      <td>300763</td>\n",
       "      <td>2601</td>\n",
       "      <td>132651</td>\n",
       "      <td>1369</td>\n",
       "      <td>50653</td>\n",
       "      <td>-0.721683</td>\n",
       "    </tr>\n",
       "    <tr>\n",
       "      <th>4891</th>\n",
       "      <td>7237</td>\n",
       "      <td>Hubei</td>\n",
       "      <td>China</td>\n",
       "      <td>2020-03-29</td>\n",
       "      <td>67801.0</td>\n",
       "      <td>3182.0</td>\n",
       "      <td>China Hubei</td>\n",
       "      <td>68</td>\n",
       "      <td>52</td>\n",
       "      <td>38</td>\n",
       "      <td>0.0</td>\n",
       "      <td>0.000000</td>\n",
       "      <td>4624</td>\n",
       "      <td>314432</td>\n",
       "      <td>2704</td>\n",
       "      <td>140608</td>\n",
       "      <td>1444</td>\n",
       "      <td>54872</td>\n",
       "      <td>0.960034</td>\n",
       "    </tr>\n",
       "    <tr>\n",
       "      <th>4892</th>\n",
       "      <td>7238</td>\n",
       "      <td>Hubei</td>\n",
       "      <td>China</td>\n",
       "      <td>2020-03-30</td>\n",
       "      <td>67801.0</td>\n",
       "      <td>3186.0</td>\n",
       "      <td>China Hubei</td>\n",
       "      <td>69</td>\n",
       "      <td>53</td>\n",
       "      <td>39</td>\n",
       "      <td>0.0</td>\n",
       "      <td>0.200000</td>\n",
       "      <td>4761</td>\n",
       "      <td>328509</td>\n",
       "      <td>2809</td>\n",
       "      <td>148877</td>\n",
       "      <td>1521</td>\n",
       "      <td>59319</td>\n",
       "      <td>2.490529</td>\n",
       "    </tr>\n",
       "    <tr>\n",
       "      <th>4893</th>\n",
       "      <td>7239</td>\n",
       "      <td>Hubei</td>\n",
       "      <td>China</td>\n",
       "      <td>2020-03-31</td>\n",
       "      <td>67801.0</td>\n",
       "      <td>3187.0</td>\n",
       "      <td>China Hubei</td>\n",
       "      <td>70</td>\n",
       "      <td>54</td>\n",
       "      <td>40</td>\n",
       "      <td>0.0</td>\n",
       "      <td>0.200000</td>\n",
       "      <td>4900</td>\n",
       "      <td>343000</td>\n",
       "      <td>2916</td>\n",
       "      <td>157464</td>\n",
       "      <td>1600</td>\n",
       "      <td>64000</td>\n",
       "      <td>3.774137</td>\n",
       "    </tr>\n",
       "    <tr>\n",
       "      <th>4894</th>\n",
       "      <td>7240</td>\n",
       "      <td>Hubei</td>\n",
       "      <td>China</td>\n",
       "      <td>2020-04-01</td>\n",
       "      <td>67802.0</td>\n",
       "      <td>3193.0</td>\n",
       "      <td>China Hubei</td>\n",
       "      <td>71</td>\n",
       "      <td>55</td>\n",
       "      <td>41</td>\n",
       "      <td>1.0</td>\n",
       "      <td>0.250000</td>\n",
       "      <td>5041</td>\n",
       "      <td>357911</td>\n",
       "      <td>3025</td>\n",
       "      <td>166375</td>\n",
       "      <td>1681</td>\n",
       "      <td>68921</td>\n",
       "      <td>4.715193</td>\n",
       "    </tr>\n",
       "    <tr>\n",
       "      <th>4895</th>\n",
       "      <td>7241</td>\n",
       "      <td>Hubei</td>\n",
       "      <td>China</td>\n",
       "      <td>2020-04-02</td>\n",
       "      <td>67802.0</td>\n",
       "      <td>3199.0</td>\n",
       "      <td>China Hubei</td>\n",
       "      <td>72</td>\n",
       "      <td>56</td>\n",
       "      <td>42</td>\n",
       "      <td>0.0</td>\n",
       "      <td>0.333333</td>\n",
       "      <td>5184</td>\n",
       "      <td>373248</td>\n",
       "      <td>3136</td>\n",
       "      <td>175616</td>\n",
       "      <td>1764</td>\n",
       "      <td>74088</td>\n",
       "      <td>5.218032</td>\n",
       "    </tr>\n",
       "  </tbody>\n",
       "</table>\n",
       "<p>76 rows × 19 columns</p>\n",
       "</div>"
      ],
      "text/plain": [
       "        Id Province_State Country_Region        Date  ConfirmedCases  \\\n",
       "4824  7170          Hubei          China  2020-01-22           444.0   \n",
       "4825  7171          Hubei          China  2020-01-23           444.0   \n",
       "4826  7172          Hubei          China  2020-01-24           549.0   \n",
       "4827  7173          Hubei          China  2020-01-25           761.0   \n",
       "4828  7174          Hubei          China  2020-01-26          1058.0   \n",
       "4829  7175          Hubei          China  2020-01-27          1423.0   \n",
       "4830  7176          Hubei          China  2020-01-28          3554.0   \n",
       "4831  7177          Hubei          China  2020-01-29          3554.0   \n",
       "4832  7178          Hubei          China  2020-01-30          4903.0   \n",
       "4833  7179          Hubei          China  2020-01-31          5806.0   \n",
       "4834  7180          Hubei          China  2020-02-01          7153.0   \n",
       "4835  7181          Hubei          China  2020-02-02         11177.0   \n",
       "4836  7182          Hubei          China  2020-02-03         13522.0   \n",
       "4837  7183          Hubei          China  2020-02-04         16678.0   \n",
       "4838  7184          Hubei          China  2020-02-05         19665.0   \n",
       "4839  7185          Hubei          China  2020-02-06         22112.0   \n",
       "4838  7184          Hubei          China  2020-02-05         19665.0   \n",
       "4839  7185          Hubei          China  2020-02-06         22112.0   \n",
       "4840  7186          Hubei          China  2020-02-07         24953.0   \n",
       "4841  7187          Hubei          China  2020-02-08         27100.0   \n",
       "4842  7188          Hubei          China  2020-02-09         29631.0   \n",
       "4843  7189          Hubei          China  2020-02-10         31728.0   \n",
       "4844  7190          Hubei          China  2020-02-11         33366.0   \n",
       "4845  7191          Hubei          China  2020-02-12         33366.0   \n",
       "4846  7192          Hubei          China  2020-02-13         48206.0   \n",
       "4847  7193          Hubei          China  2020-02-14         54406.0   \n",
       "4848  7194          Hubei          China  2020-02-15         56249.0   \n",
       "4849  7195          Hubei          China  2020-02-16         58182.0   \n",
       "4850  7196          Hubei          China  2020-02-17         59989.0   \n",
       "4851  7197          Hubei          China  2020-02-18         61682.0   \n",
       "...    ...            ...            ...         ...             ...   \n",
       "4866  7212          Hubei          China  2020-03-04         67332.0   \n",
       "4867  7213          Hubei          China  2020-03-05         67466.0   \n",
       "4868  7214          Hubei          China  2020-03-06         67592.0   \n",
       "4869  7215          Hubei          China  2020-03-07         67666.0   \n",
       "4870  7216          Hubei          China  2020-03-08         67707.0   \n",
       "4871  7217          Hubei          China  2020-03-09         67743.0   \n",
       "4872  7218          Hubei          China  2020-03-10         67760.0   \n",
       "4873  7219          Hubei          China  2020-03-11         67773.0   \n",
       "4874  7220          Hubei          China  2020-03-12         67781.0   \n",
       "4875  7221          Hubei          China  2020-03-13         67786.0   \n",
       "4876  7222          Hubei          China  2020-03-14         67790.0   \n",
       "4877  7223          Hubei          China  2020-03-15         67794.0   \n",
       "4878  7224          Hubei          China  2020-03-16         67798.0   \n",
       "4879  7225          Hubei          China  2020-03-17         67799.0   \n",
       "4880  7226          Hubei          China  2020-03-18         67800.0   \n",
       "4881  7227          Hubei          China  2020-03-19         67800.0   \n",
       "4882  7228          Hubei          China  2020-03-20         67800.0   \n",
       "4883  7229          Hubei          China  2020-03-21         67800.0   \n",
       "4884  7230          Hubei          China  2020-03-22         67800.0   \n",
       "4885  7231          Hubei          China  2020-03-23         67800.0   \n",
       "4886  7232          Hubei          China  2020-03-24         67801.0   \n",
       "4887  7233          Hubei          China  2020-03-25         67801.0   \n",
       "4888  7234          Hubei          China  2020-03-26         67801.0   \n",
       "4889  7235          Hubei          China  2020-03-27         67801.0   \n",
       "4890  7236          Hubei          China  2020-03-28         67801.0   \n",
       "4891  7237          Hubei          China  2020-03-29         67801.0   \n",
       "4892  7238          Hubei          China  2020-03-30         67801.0   \n",
       "4893  7239          Hubei          China  2020-03-31         67801.0   \n",
       "4894  7240          Hubei          China  2020-04-01         67802.0   \n",
       "4895  7241          Hubei          China  2020-04-02         67802.0   \n",
       "\n",
       "      Fatalities Country_State  Date_diff  Date_diff_ld1  Date_diff_ld2  \\\n",
       "4824        17.0   China Hubei          1            -15            -29   \n",
       "4825        17.0   China Hubei          2            -14            -28   \n",
       "4826        24.0   China Hubei          3            -13            -27   \n",
       "4827        40.0   China Hubei          4            -12            -26   \n",
       "4828        52.0   China Hubei          5            -11            -25   \n",
       "4829        76.0   China Hubei          6            -10            -24   \n",
       "4830       125.0   China Hubei          7             -9            -23   \n",
       "4831       125.0   China Hubei          8             -8            -22   \n",
       "4832       162.0   China Hubei          9             -7            -21   \n",
       "4833       204.0   China Hubei         10             -6            -20   \n",
       "4834       249.0   China Hubei         11             -5            -19   \n",
       "4835       350.0   China Hubei         12             -4            -18   \n",
       "4836       414.0   China Hubei         13             -3            -17   \n",
       "4837       479.0   China Hubei         14             -2            -16   \n",
       "4838       549.0   China Hubei         15             -1            -15   \n",
       "4839       618.0   China Hubei         16              0            -14   \n",
       "4838       549.0   China Hubei         15             -1            -15   \n",
       "4839       618.0   China Hubei         16              0            -14   \n",
       "4840       699.0   China Hubei         17              1            -13   \n",
       "4841       780.0   China Hubei         18              2            -12   \n",
       "4842       871.0   China Hubei         19              3            -11   \n",
       "4843       974.0   China Hubei         20              4            -10   \n",
       "4844      1068.0   China Hubei         21              5             -9   \n",
       "4845      1068.0   China Hubei         22              6             -8   \n",
       "4846      1310.0   China Hubei         23              7             -7   \n",
       "4847      1457.0   China Hubei         24              8             -6   \n",
       "4848      1596.0   China Hubei         25              9             -5   \n",
       "4849      1696.0   China Hubei         26             10             -4   \n",
       "4850      1789.0   China Hubei         27             11             -3   \n",
       "4851      1921.0   China Hubei         28             12             -2   \n",
       "...          ...           ...        ...            ...            ...   \n",
       "4866      2871.0   China Hubei         43             27             13   \n",
       "4867      2902.0   China Hubei         44             28             14   \n",
       "4868      2931.0   China Hubei         45             29             15   \n",
       "4869      2959.0   China Hubei         46             30             16   \n",
       "4870      2986.0   China Hubei         47             31             17   \n",
       "4871      3008.0   China Hubei         48             32             18   \n",
       "4872      3024.0   China Hubei         49             33             19   \n",
       "4873      3046.0   China Hubei         50             34             20   \n",
       "4874      3056.0   China Hubei         51             35             21   \n",
       "4875      3062.0   China Hubei         52             36             22   \n",
       "4876      3075.0   China Hubei         53             37             23   \n",
       "4877      3085.0   China Hubei         54             38             24   \n",
       "4878      3099.0   China Hubei         55             39             25   \n",
       "4879      3111.0   China Hubei         56             40             26   \n",
       "4880      3122.0   China Hubei         57             41             27   \n",
       "4881      3130.0   China Hubei         58             42             28   \n",
       "4882      3133.0   China Hubei         59             43             29   \n",
       "4883      3139.0   China Hubei         60             44             30   \n",
       "4884      3153.0   China Hubei         61             45             31   \n",
       "4885      3153.0   China Hubei         62             46             32   \n",
       "4886      3160.0   China Hubei         63             47             33   \n",
       "4887      3163.0   China Hubei         64             48             34   \n",
       "4888      3169.0   China Hubei         65             49             35   \n",
       "4889      3174.0   China Hubei         66             50             36   \n",
       "4890      3177.0   China Hubei         67             51             37   \n",
       "4891      3182.0   China Hubei         68             52             38   \n",
       "4892      3186.0   China Hubei         69             53             39   \n",
       "4893      3187.0   China Hubei         70             54             40   \n",
       "4894      3193.0   China Hubei         71             55             41   \n",
       "4895      3199.0   China Hubei         72             56             42   \n",
       "\n",
       "      ConfirmedCases_inc  ConfirmedCases_inc_sm  Date_diff_p2  Date_diff_p3  \\\n",
       "4824               444.0             183.000000             1             1   \n",
       "4825                 0.0             190.250000             4             8   \n",
       "4826               105.0             211.600000             9            27   \n",
       "4827               212.0             195.800000            16            64   \n",
       "4828               297.0             622.000000            25           125   \n",
       "4829               365.0             601.000000            36           216   \n",
       "4830              2131.0             828.400000            49           343   \n",
       "4831                 0.0             949.600000            64           512   \n",
       "4832              1349.0            1146.000000            81           729   \n",
       "4833               903.0            1524.600000           100          1000   \n",
       "4834              1347.0            1993.600000           121          1331   \n",
       "4835              4024.0            2355.000000           144          1728   \n",
       "4836              2345.0            2771.800000           169          2197   \n",
       "4837              3156.0            2991.800000           196          2744   \n",
       "4838              2987.0            2755.200000           225          3375   \n",
       "4839              2447.0            2715.600000           256          4096   \n",
       "4838              2987.0            2755.200000           225          3375   \n",
       "4839              2447.0            2715.600000           256          4096   \n",
       "4840              2841.0            2590.600000           289          4913   \n",
       "4841              2147.0            2412.600000           324          5832   \n",
       "4842              2531.0            2250.800000           361          6859   \n",
       "4843              2097.0            1682.600000           400          8000   \n",
       "4844              1638.0            4221.200000           441          9261   \n",
       "4845                 0.0            4955.000000           484         10648   \n",
       "4846             14840.0            4904.200000           529         12167   \n",
       "4847              6200.0            4963.200000           576         13824   \n",
       "4848              1843.0            5324.600000           625         15625   \n",
       "4849              1933.0            2695.200000           676         17576   \n",
       "4850              1807.0            1525.000000           729         19683   \n",
       "4851              1693.0            1238.600000           784         21952   \n",
       "...                  ...                    ...           ...           ...   \n",
       "4866               115.0             137.000000          1849         79507   \n",
       "4867               134.0             112.600000          1936         85184   \n",
       "4868               126.0              98.000000          2025         91125   \n",
       "4869                74.0              82.200000          2116         97336   \n",
       "4870                41.0              58.800000          2209        103823   \n",
       "4871                36.0              36.200000          2304        110592   \n",
       "4872                17.0              23.000000          2401        117649   \n",
       "4873                13.0              15.800000          2500        125000   \n",
       "4874                 8.0               9.400000          2601        132651   \n",
       "4875                 5.0               6.800000          2704        140608   \n",
       "4876                 4.0               5.000000          2809        148877   \n",
       "4877                 4.0               3.600000          2916        157464   \n",
       "4878                 4.0               2.800000          3025        166375   \n",
       "4879                 1.0               2.000000          3136        175616   \n",
       "4880                 1.0               1.200000          3249        185193   \n",
       "4881                 0.0               0.400000          3364        195112   \n",
       "4882                 0.0               0.200000          3481        205379   \n",
       "4883                 0.0               0.000000          3600        216000   \n",
       "4884                 0.0               0.200000          3721        226981   \n",
       "4885                 0.0               0.200000          3844        238328   \n",
       "4886                 1.0               0.200000          3969        250047   \n",
       "4887                 0.0               0.200000          4096        262144   \n",
       "4888                 0.0               0.200000          4225        274625   \n",
       "4889                 0.0               0.000000          4356        287496   \n",
       "4890                 0.0               0.000000          4489        300763   \n",
       "4891                 0.0               0.000000          4624        314432   \n",
       "4892                 0.0               0.200000          4761        328509   \n",
       "4893                 0.0               0.200000          4900        343000   \n",
       "4894                 1.0               0.250000          5041        357911   \n",
       "4895                 0.0               0.333333          5184        373248   \n",
       "\n",
       "      Date_diff_ld1_p2  Date_diff_ld1_p3  Date_diff_ld2_p2  Date_diff_ld2_p3  \\\n",
       "4824               225             -3375               841            -24389   \n",
       "4825               196             -2744               784            -21952   \n",
       "4826               169             -2197               729            -19683   \n",
       "4827               144             -1728               676            -17576   \n",
       "4828               121             -1331               625            -15625   \n",
       "4829               100             -1000               576            -13824   \n",
       "4830                81              -729               529            -12167   \n",
       "4831                64              -512               484            -10648   \n",
       "4832                49              -343               441             -9261   \n",
       "4833                36              -216               400             -8000   \n",
       "4834                25              -125               361             -6859   \n",
       "4835                16               -64               324             -5832   \n",
       "4836                 9               -27               289             -4913   \n",
       "4837                 4                -8               256             -4096   \n",
       "4838                 1                -1               225             -3375   \n",
       "4839                 0                 0               196             -2744   \n",
       "4838                 1                -1               225             -3375   \n",
       "4839                 0                 0               196             -2744   \n",
       "4840                 1                 1               169             -2197   \n",
       "4841                 4                 8               144             -1728   \n",
       "4842                 9                27               121             -1331   \n",
       "4843                16                64               100             -1000   \n",
       "4844                25               125                81              -729   \n",
       "4845                36               216                64              -512   \n",
       "4846                49               343                49              -343   \n",
       "4847                64               512                36              -216   \n",
       "4848                81               729                25              -125   \n",
       "4849               100              1000                16               -64   \n",
       "4850               121              1331                 9               -27   \n",
       "4851               144              1728                 4                -8   \n",
       "...                ...               ...               ...               ...   \n",
       "4866               729             19683               169              2197   \n",
       "4867               784             21952               196              2744   \n",
       "4868               841             24389               225              3375   \n",
       "4869               900             27000               256              4096   \n",
       "4870               961             29791               289              4913   \n",
       "4871              1024             32768               324              5832   \n",
       "4872              1089             35937               361              6859   \n",
       "4873              1156             39304               400              8000   \n",
       "4874              1225             42875               441              9261   \n",
       "4875              1296             46656               484             10648   \n",
       "4876              1369             50653               529             12167   \n",
       "4877              1444             54872               576             13824   \n",
       "4878              1521             59319               625             15625   \n",
       "4879              1600             64000               676             17576   \n",
       "4880              1681             68921               729             19683   \n",
       "4881              1764             74088               784             21952   \n",
       "4882              1849             79507               841             24389   \n",
       "4883              1936             85184               900             27000   \n",
       "4884              2025             91125               961             29791   \n",
       "4885              2116             97336              1024             32768   \n",
       "4886              2209            103823              1089             35937   \n",
       "4887              2304            110592              1156             39304   \n",
       "4888              2401            117649              1225             42875   \n",
       "4889              2500            125000              1296             46656   \n",
       "4890              2601            132651              1369             50653   \n",
       "4891              2704            140608              1444             54872   \n",
       "4892              2809            148877              1521             59319   \n",
       "4893              2916            157464              1600             64000   \n",
       "4894              3025            166375              1681             68921   \n",
       "4895              3136            175616              1764             74088   \n",
       "\n",
       "      ConfirmedCases_pred  \n",
       "4824           302.875129  \n",
       "4825           170.440957  \n",
       "4826           143.989945  \n",
       "4827           209.088456  \n",
       "4828           351.302850  \n",
       "4829           556.199491  \n",
       "4830           809.344740  \n",
       "4831          1096.304960  \n",
       "4832          1402.646511  \n",
       "4833          1713.935757  \n",
       "4834          2015.739059  \n",
       "4835          2293.622780  \n",
       "4836          2533.153281  \n",
       "4837          2719.896924  \n",
       "4838          2839.420072  \n",
       "4839          2877.289087  \n",
       "4838          2442.531579  \n",
       "4839          2434.220433  \n",
       "4840          2558.941000  \n",
       "4841          2780.082549  \n",
       "4842          3061.034352  \n",
       "4843          3365.185680  \n",
       "4844          3655.925805  \n",
       "4845          3896.643999  \n",
       "4846          4050.729531  \n",
       "4847          4081.571674  \n",
       "4848          3952.559698  \n",
       "4849          3627.082875  \n",
       "4850          3068.530477  \n",
       "4851          2240.291774  \n",
       "...                   ...  \n",
       "4866           162.279563  \n",
       "4867           138.891102  \n",
       "4868           117.647379  \n",
       "4869            98.452729  \n",
       "4870            81.211488  \n",
       "4871            65.827991  \n",
       "4872            52.206572  \n",
       "4873            40.251566  \n",
       "4874            29.867309  \n",
       "4875            20.958135  \n",
       "4876            13.428379  \n",
       "4877             7.182377  \n",
       "4878             2.124463  \n",
       "4879            -1.841027  \n",
       "4880            -4.809760  \n",
       "4881            -6.877399  \n",
       "4882            -8.139609  \n",
       "4883            -8.692057  \n",
       "4884            -8.630407  \n",
       "4885            -8.050323  \n",
       "4886            -7.047471  \n",
       "4887            -5.717516  \n",
       "4888            -4.156123  \n",
       "4889            -2.458957  \n",
       "4890            -0.721683  \n",
       "4891             0.960034  \n",
       "4892             2.490529  \n",
       "4893             3.774137  \n",
       "4894             4.715193  \n",
       "4895             5.218032  \n",
       "\n",
       "[76 rows x 19 columns]"
      ]
     },
     "execution_count": 48,
     "metadata": {},
     "output_type": "execute_result"
    }
   ],
   "source": [
    "train_use_f"
   ]
  },
  {
   "cell_type": "code",
   "execution_count": 49,
   "metadata": {
    "scrolled": false
   },
   "outputs": [
    {
     "data": {
      "text/plain": [
       "[<matplotlib.lines.Line2D at 0x1245faac8>]"
      ]
     },
     "execution_count": 49,
     "metadata": {},
     "output_type": "execute_result"
    },
    {
     "data": {
      "image/png": "[encoded data removed]",
      "text/plain": [
       "<Figure size 1332x756 with 1 Axes>"
      ]
     },
     "metadata": {
      "needs_background": "light"
     },
     "output_type": "display_data"
    }
   ],
   "source": [
    "fig = plt.figure()\n",
    "plt.ioff()\n",
    "fig.set_size_inches(18.5, 10.5)\n",
    "plt.plot(train_use_1['Date_diff'], train_use_1['ConfirmedCases_inc'], marker='o', color='lightgreen')\n",
    "plt.plot(train_use_1['Date_diff'], train_use_1['ConfirmedCases_inc_sm'], marker='s', color='darkgreen')\n",
    "plt.plot(train_use_1['Date_diff'], train_use_1['ConfirmedCases_pred'], color='r')\n",
    "plt.plot(train_use_2['Date_diff'], train_use_2['ConfirmedCases_inc'], marker='o', color='lightgreen')\n",
    "plt.plot(train_use_2['Date_diff'], train_use_2['ConfirmedCases_inc_sm'], marker='s', color='darkgreen')\n",
    "plt.plot(train_use_2['Date_diff'], train_use_2['ConfirmedCases_pred'], color='r')\n",
    "plt.plot(train_use_3['Date_diff'], train_use_3['ConfirmedCases_inc'], marker='o', color='lightgreen')\n",
    "plt.plot(train_use_3['Date_diff'], train_use_3['ConfirmedCases_inc_sm'], marker='s', color='darkgreen')\n",
    "plt.plot(train_use_3['Date_diff'], train_use_3['ConfirmedCases_pred'], color='r')\n",
    "# fig.suptitle(Country_State, fontsize=20)\n",
    "# fig.text(0.15, 0.93,'r square for confirmed cases: '+str(r_square_cc)+'%', fontsize=15)"
   ]
  },
  {
   "cell_type": "code",
   "execution_count": null,
   "metadata": {},
   "outputs": [],
   "source": []
  },
  {
   "cell_type": "markdown",
   "metadata": {},
   "source": [
    "### fatalities"
   ]
  },
  {
   "cell_type": "code",
   "execution_count": 51,
   "metadata": {},
   "outputs": [
    {
     "name": "stdout",
     "output_type": "stream",
     "text": [
      "Collecting plotly\n",
      "\u001b[?25l  Downloading https://files.pythonhosted.org/packages/15/90/918bccb0ca60dc6d126d921e2c67126d75949f5da777e6b18c51fb12603d/plotly-4.6.0-py2.py3-none-any.whl (7.1MB)\n",
      "\u001b[K    100% |████████████████████████████████| 7.2MB 2.3MB/s ta 0:00:011\n",
      "\u001b[?25hRequirement already satisfied: six in /Users/z001t72/anaconda3/lib/python3.6/site-packages (from plotly) (1.11.0)\n",
      "Collecting retrying>=1.3.3 (from plotly)\n",
      "  Downloading https://files.pythonhosted.org/packages/44/ef/beae4b4ef80902f22e3af073397f079c96969c69b2c7d52a57ea9ae61c9d/retrying-1.3.3.tar.gz\n",
      "Building wheels for collected packages: retrying\n",
      "  Running setup.py bdist_wheel for retrying ... \u001b[?25ldone\n",
      "\u001b[?25h  Stored in directory: /Users/z001t72/Library/Caches/pip/wheels/d7/a9/33/acc7b709e2a35caa7d4cae442f6fe6fbf2c43f80823d46460c\n",
      "Successfully built retrying\n",
      "Installing collected packages: retrying, plotly\n",
      "Successfully installed plotly-4.6.0 retrying-1.3.3\n"
     ]
    }
   ],
   "source": [
    "!pip install plotly"
   ]
  },
  {
   "cell_type": "code",
   "execution_count": 74,
   "metadata": {},
   "outputs": [],
   "source": [
    "import plotly.express as px\n",
    "import plotly.graph_objects as go\n",
    "from plotly.subplots import make_subplots"
   ]
  },
  {
   "cell_type": "code",
   "execution_count": 76,
   "metadata": {},
   "outputs": [
    {
     "data": {
      "application/vnd.plotly.v1+json": {
       "config": {
        "plotlyServerURL": "https://plot.ly"
       },
       "data": [
        {
         "mode": "lines",
         "name": "Confirmed Cases",
         "type": "scatter",
         "x": [
          "2020-01-22",
          "2020-01-23",
          "2020-01-24",
          "2020-01-25",
          "2020-01-26",
          "2020-01-27",
          "2020-01-28",
          "2020-01-29",
          "2020-01-30",
          "2020-01-31",
          "2020-02-01",
          "2020-02-02",
          "2020-02-03",
          "2020-02-04",
          "2020-02-05",
          "2020-02-06",
          "2020-02-07",
          "2020-02-08",
          "2020-02-09",
          "2020-02-10",
          "2020-02-11",
          "2020-02-12",
          "2020-02-13",
          "2020-02-14",
          "2020-02-15",
          "2020-02-16",
          "2020-02-17",
          "2020-02-18",
          "2020-02-19",
          "2020-02-20",
          "2020-02-21",
          "2020-02-22",
          "2020-02-23",
          "2020-02-24",
          "2020-02-25",
          "2020-02-26",
          "2020-02-27",
          "2020-02-28",
          "2020-02-29",
          "2020-03-01",
          "2020-03-02",
          "2020-03-03",
          "2020-03-04",
          "2020-03-05",
          "2020-03-06",
          "2020-03-07",
          "2020-03-08",
          "2020-03-09",
          "2020-03-10",
          "2020-03-11",
          "2020-03-12",
          "2020-03-13",
          "2020-03-14",
          "2020-03-15",
          "2020-03-16",
          "2020-03-17",
          "2020-03-18",
          "2020-03-19",
          "2020-03-20",
          "2020-03-21",
          "2020-03-22",
          "2020-03-23",
          "2020-03-24",
          "2020-03-25",
          "2020-03-26",
          "2020-03-27",
          "2020-03-28",
          "2020-03-29",
          "2020-03-30",
          "2020-03-31",
          "2020-04-01",
          "2020-04-02"
         ],
         "y": [
          444,
          444,
          549,
          761,
          1058,
          1423,
          3554,
          3554,
          4903,
          5806,
          7153,
          11177,
          13522,
          16678,
          19665,
          22112,
          24953,
          27100,
          29631,
          31728,
          33366,
          33366,
          48206,
          54406,
          56249,
          58182,
          59989,
          61682,
          62031,
          62442,
          62662,
          64084,
          64084,
          64287,
          64786,
          65187,
          65596,
          65914,
          66337,
          66907,
          67103,
          67217,
          67332,
          67466,
          67592,
          67666,
          67707,
          67743,
          67760,
          67773,
          67781,
          67786,
          67790,
          67794,
          67798,
          67799,
          67800,
          67800,
          67800,
          67800,
          67800,
          67800,
          67801,
          67801,
          67801,
          67801,
          67801,
          67801,
          67801,
          67801,
          67802,
          67802
         ]
        },
        {
         "mode": "lines",
         "name": "Fatalities",
         "type": "scatter",
         "x": [
          "2020-01-22",
          "2020-01-23",
          "2020-01-24",
          "2020-01-25",
          "2020-01-26",
          "2020-01-27",
          "2020-01-28",
          "2020-01-29",
          "2020-01-30",
          "2020-01-31",
          "2020-02-01",
          "2020-02-02",
          "2020-02-03",
          "2020-02-04",
          "2020-02-05",
          "2020-02-06",
          "2020-02-07",
          "2020-02-08",
          "2020-02-09",
          "2020-02-10",
          "2020-02-11",
          "2020-02-12",
          "2020-02-13",
          "2020-02-14",
          "2020-02-15",
          "2020-02-16",
          "2020-02-17",
          "2020-02-18",
          "2020-02-19",
          "2020-02-20",
          "2020-02-21",
          "2020-02-22",
          "2020-02-23",
          "2020-02-24",
          "2020-02-25",
          "2020-02-26",
          "2020-02-27",
          "2020-02-28",
          "2020-02-29",
          "2020-03-01",
          "2020-03-02",
          "2020-03-03",
          "2020-03-04",
          "2020-03-05",
          "2020-03-06",
          "2020-03-07",
          "2020-03-08",
          "2020-03-09",
          "2020-03-10",
          "2020-03-11",
          "2020-03-12",
          "2020-03-13",
          "2020-03-14",
          "2020-03-15",
          "2020-03-16",
          "2020-03-17",
          "2020-03-18",
          "2020-03-19",
          "2020-03-20",
          "2020-03-21",
          "2020-03-22",
          "2020-03-23",
          "2020-03-24",
          "2020-03-25",
          "2020-03-26",
          "2020-03-27",
          "2020-03-28",
          "2020-03-29",
          "2020-03-30",
          "2020-03-31",
          "2020-04-01",
          "2020-04-02"
         ],
         "xaxis": "x",
         "y": [
          17,
          17,
          24,
          40,
          52,
          76,
          125,
          125,
          162,
          204,
          249,
          350,
          414,
          479,
          549,
          618,
          699,
          780,
          871,
          974,
          1068,
          1068,
          1310,
          1457,
          1596,
          1696,
          1789,
          1921,
          2029,
          2144,
          2144,
          2346,
          2346,
          2495,
          2563,
          2615,
          2641,
          2682,
          2727,
          2761,
          2803,
          2835,
          2871,
          2902,
          2931,
          2959,
          2986,
          3008,
          3024,
          3046,
          3056,
          3062,
          3075,
          3085,
          3099,
          3111,
          3122,
          3130,
          3133,
          3139,
          3153,
          3153,
          3160,
          3163,
          3169,
          3174,
          3177,
          3182,
          3186,
          3187,
          3193,
          3199
         ],
         "yaxis": "y2"
        }
       ],
       "layout": {
        "template": {
         "data": {
          "bar": [
           {
            "error_x": {
             "color": "#2a3f5f"
            },
            "error_y": {
             "color": "#2a3f5f"
            },
            "marker": {
             "line": {
              "color": "#E5ECF6",
              "width": 0.5
             }
            },
            "type": "bar"
           }
          ],
          "barpolar": [
           {
            "marker": {
             "line": {
              "color": "#E5ECF6",
              "width": 0.5
             }
            },
            "type": "barpolar"
           }
          ],
          "carpet": [
           {
            "aaxis": {
             "endlinecolor": "#2a3f5f",
             "gridcolor": "white",
             "linecolor": "white",
             "minorgridcolor": "white",
             "startlinecolor": "#2a3f5f"
            },
            "baxis": {
             "endlinecolor": "#2a3f5f",
             "gridcolor": "white",
             "linecolor": "white",
             "minorgridcolor": "white",
             "startlinecolor": "#2a3f5f"
            },
            "type": "carpet"
           }
          ],
          "choropleth": [
           {
            "colorbar": {
             "outlinewidth": 0,
             "ticks": ""
            },
            "type": "choropleth"
           }
          ],
          "contour": [
           {
            "colorbar": {
             "outlinewidth": 0,
             "ticks": ""
            },
            "colorscale": [
             [
              0,
              "#0d0887"
             ],
             [
              0.1111111111111111,
              "#46039f"
             ],
             [
              0.2222222222222222,
              "#7201a8"
             ],
             [
              0.3333333333333333,
              "#9c179e"
             ],
             [
              0.4444444444444444,
              "#bd3786"
             ],
             [
              0.5555555555555556,
              "#d8576b"
             ],
             [
              0.6666666666666666,
              "#ed7953"
             ],
             [
              0.7777777777777778,
              "#fb9f3a"
             ],
             [
              0.8888888888888888,
              "#fdca26"
             ],
             [
              1,
              "#f0f921"
             ]
            ],
            "type": "contour"
           }
          ],
          "contourcarpet": [
           {
            "colorbar": {
             "outlinewidth": 0,
             "ticks": ""
            },
            "type": "contourcarpet"
           }
          ],
          "heatmap": [
           {
            "colorbar": {
             "outlinewidth": 0,
             "ticks": ""
            },
            "colorscale": [
             [
              0,
              "#0d0887"
             ],
             [
              0.1111111111111111,
              "#46039f"
             ],
             [
              0.2222222222222222,
              "#7201a8"
             ],
             [
              0.3333333333333333,
              "#9c179e"
             ],
             [
              0.4444444444444444,
              "#bd3786"
             ],
             [
              0.5555555555555556,
              "#d8576b"
             ],
             [
              0.6666666666666666,
              "#ed7953"
             ],
             [
              0.7777777777777778,
              "#fb9f3a"
             ],
             [
              0.8888888888888888,
              "#fdca26"
             ],
             [
              1,
              "#f0f921"
             ]
            ],
            "type": "heatmap"
           }
          ],
          "heatmapgl": [
           {
            "colorbar": {
             "outlinewidth": 0,
             "ticks": ""
            },
            "colorscale": [
             [
              0,
              "#0d0887"
             ],
             [
              0.1111111111111111,
              "#46039f"
             ],
             [
              0.2222222222222222,
              "#7201a8"
             ],
             [
              0.3333333333333333,
              "#9c179e"
             ],
             [
              0.4444444444444444,
              "#bd3786"
             ],
             [
              0.5555555555555556,
              "#d8576b"
             ],
             [
              0.6666666666666666,
              "#ed7953"
             ],
             [
              0.7777777777777778,
              "#fb9f3a"
             ],
             [
              0.8888888888888888,
              "#fdca26"
             ],
             [
              1,
              "#f0f921"
             ]
            ],
            "type": "heatmapgl"
           }
          ],
          "histogram": [
           {
            "marker": {
             "colorbar": {
              "outlinewidth": 0,
              "ticks": ""
             }
            },
            "type": "histogram"
           }
          ],
          "histogram2d": [
           {
            "colorbar": {
             "outlinewidth": 0,
             "ticks": ""
            },
            "colorscale": [
             [
              0,
              "#0d0887"
             ],
             [
              0.1111111111111111,
              "#46039f"
             ],
             [
              0.2222222222222222,
              "#7201a8"
             ],
             [
              0.3333333333333333,
              "#9c179e"
             ],
             [
              0.4444444444444444,
              "#bd3786"
             ],
             [
              0.5555555555555556,
              "#d8576b"
             ],
             [
              0.6666666666666666,
              "#ed7953"
             ],
             [
              0.7777777777777778,
              "#fb9f3a"
             ],
             [
              0.8888888888888888,
              "#fdca26"
             ],
             [
              1,
              "#f0f921"
             ]
            ],
            "type": "histogram2d"
           }
          ],
          "histogram2dcontour": [
           {
            "colorbar": {
             "outlinewidth": 0,
             "ticks": ""
            },
            "colorscale": [
             [
              0,
              "#0d0887"
             ],
             [
              0.1111111111111111,
              "#46039f"
             ],
             [
              0.2222222222222222,
              "#7201a8"
             ],
             [
              0.3333333333333333,
              "#9c179e"
             ],
             [
              0.4444444444444444,
              "#bd3786"
             ],
             [
              0.5555555555555556,
              "#d8576b"
             ],
             [
              0.6666666666666666,
              "#ed7953"
             ],
             [
              0.7777777777777778,
              "#fb9f3a"
             ],
             [
              0.8888888888888888,
              "#fdca26"
             ],
             [
              1,
              "#f0f921"
             ]
            ],
            "type": "histogram2dcontour"
           }
          ],
          "mesh3d": [
           {
            "colorbar": {
             "outlinewidth": 0,
             "ticks": ""
            },
            "type": "mesh3d"
           }
          ],
          "parcoords": [
           {
            "line": {
             "colorbar": {
              "outlinewidth": 0,
              "ticks": ""
             }
            },
            "type": "parcoords"
           }
          ],
          "pie": [
           {
            "automargin": true,
            "type": "pie"
           }
          ],
          "scatter": [
           {
            "marker": {
             "colorbar": {
              "outlinewidth": 0,
              "ticks": ""
             }
            },
            "type": "scatter"
           }
          ],
          "scatter3d": [
           {
            "line": {
             "colorbar": {
              "outlinewidth": 0,
              "ticks": ""
             }
            },
            "marker": {
             "colorbar": {
              "outlinewidth": 0,
              "ticks": ""
             }
            },
            "type": "scatter3d"
           }
          ],
          "scattercarpet": [
           {
            "marker": {
             "colorbar": {
              "outlinewidth": 0,
              "ticks": ""
             }
            },
            "type": "scattercarpet"
           }
          ],
          "scattergeo": [
           {
            "marker": {
             "colorbar": {
              "outlinewidth": 0,
              "ticks": ""
             }
            },
            "type": "scattergeo"
           }
          ],
          "scattergl": [
           {
            "marker": {
             "colorbar": {
              "outlinewidth": 0,
              "ticks": ""
             }
            },
            "type": "scattergl"
           }
          ],
          "scattermapbox": [
           {
            "marker": {
             "colorbar": {
              "outlinewidth": 0,
              "ticks": ""
             }
            },
            "type": "scattermapbox"
           }
          ],
          "scatterpolar": [
           {
            "marker": {
             "colorbar": {
              "outlinewidth": 0,
              "ticks": ""
             }
            },
            "type": "scatterpolar"
           }
          ],
          "scatterpolargl": [
           {
            "marker": {
             "colorbar": {
              "outlinewidth": 0,
              "ticks": ""
             }
            },
            "type": "scatterpolargl"
           }
          ],
          "scatterternary": [
           {
            "marker": {
             "colorbar": {
              "outlinewidth": 0,
              "ticks": ""
             }
            },
            "type": "scatterternary"
           }
          ],
          "surface": [
           {
            "colorbar": {
             "outlinewidth": 0,
             "ticks": ""
            },
            "colorscale": [
             [
              0,
              "#0d0887"
             ],
             [
              0.1111111111111111,
              "#46039f"
             ],
             [
              0.2222222222222222,
              "#7201a8"
             ],
             [
              0.3333333333333333,
              "#9c179e"
             ],
             [
              0.4444444444444444,
              "#bd3786"
             ],
             [
              0.5555555555555556,
              "#d8576b"
             ],
             [
              0.6666666666666666,
              "#ed7953"
             ],
             [
              0.7777777777777778,
              "#fb9f3a"
             ],
             [
              0.8888888888888888,
              "#fdca26"
             ],
             [
              1,
              "#f0f921"
             ]
            ],
            "type": "surface"
           }
          ],
          "table": [
           {
            "cells": {
             "fill": {
              "color": "#EBF0F8"
             },
             "line": {
              "color": "white"
             }
            },
            "header": {
             "fill": {
              "color": "#C8D4E3"
             },
             "line": {
              "color": "white"
             }
            },
            "type": "table"
           }
          ]
         },
         "layout": {
          "annotationdefaults": {
           "arrowcolor": "#2a3f5f",
           "arrowhead": 0,
           "arrowwidth": 1
          },
          "coloraxis": {
           "colorbar": {
            "outlinewidth": 0,
            "ticks": ""
           }
          },
          "colorscale": {
           "diverging": [
            [
             0,
             "#8e0152"
            ],
            [
             0.1,
             "#c51b7d"
            ],
            [
             0.2,
             "#de77ae"
            ],
            [
             0.3,
             "#f1b6da"
            ],
            [
             0.4,
             "#fde0ef"
            ],
            [
             0.5,
             "#f7f7f7"
            ],
            [
             0.6,
             "#e6f5d0"
            ],
            [
             0.7,
             "#b8e186"
            ],
            [
             0.8,
             "#7fbc41"
            ],
            [
             0.9,
             "#4d9221"
            ],
            [
             1,
             "#276419"
            ]
           ],
           "sequential": [
            [
             0,
             "#0d0887"
            ],
            [
             0.1111111111111111,
             "#46039f"
            ],
            [
             0.2222222222222222,
             "#7201a8"
            ],
            [
             0.3333333333333333,
             "#9c179e"
            ],
            [
             0.4444444444444444,
             "#bd3786"
            ],
            [
             0.5555555555555556,
             "#d8576b"
            ],
            [
             0.6666666666666666,
             "#ed7953"
            ],
            [
             0.7777777777777778,
             "#fb9f3a"
            ],
            [
             0.8888888888888888,
             "#fdca26"
            ],
            [
             1,
             "#f0f921"
            ]
           ],
           "sequentialminus": [
            [
             0,
             "#0d0887"
            ],
            [
             0.1111111111111111,
             "#46039f"
            ],
            [
             0.2222222222222222,
             "#7201a8"
            ],
            [
             0.3333333333333333,
             "#9c179e"
            ],
            [
             0.4444444444444444,
             "#bd3786"
            ],
            [
             0.5555555555555556,
             "#d8576b"
            ],
            [
             0.6666666666666666,
             "#ed7953"
            ],
            [
             0.7777777777777778,
             "#fb9f3a"
            ],
            [
             0.8888888888888888,
             "#fdca26"
            ],
            [
             1,
             "#f0f921"
            ]
           ]
          },
          "colorway": [
           "#636efa",
           "#EF553B",
           "#00cc96",
           "#ab63fa",
           "#FFA15A",
           "#19d3f3",
           "#FF6692",
           "#B6E880",
           "#FF97FF",
           "#FECB52"
          ],
          "font": {
           "color": "#2a3f5f"
          },
          "geo": {
           "bgcolor": "white",
           "lakecolor": "white",
           "landcolor": "#E5ECF6",
           "showlakes": true,
           "showland": true,
           "subunitcolor": "white"
          },
          "hoverlabel": {
           "align": "left"
          },
          "hovermode": "closest",
          "mapbox": {
           "style": "light"
          },
          "paper_bgcolor": "white",
          "plot_bgcolor": "#E5ECF6",
          "polar": {
           "angularaxis": {
            "gridcolor": "white",
            "linecolor": "white",
            "ticks": ""
           },
           "bgcolor": "#E5ECF6",
           "radialaxis": {
            "gridcolor": "white",
            "linecolor": "white",
            "ticks": ""
           }
          },
          "scene": {
           "xaxis": {
            "backgroundcolor": "#E5ECF6",
            "gridcolor": "white",
            "gridwidth": 2,
            "linecolor": "white",
            "showbackground": true,
            "ticks": "",
            "zerolinecolor": "white"
           },
           "yaxis": {
            "backgroundcolor": "#E5ECF6",
            "gridcolor": "white",
            "gridwidth": 2,
            "linecolor": "white",
            "showbackground": true,
            "ticks": "",
            "zerolinecolor": "white"
           },
           "zaxis": {
            "backgroundcolor": "#E5ECF6",
            "gridcolor": "white",
            "gridwidth": 2,
            "linecolor": "white",
            "showbackground": true,
            "ticks": "",
            "zerolinecolor": "white"
           }
          },
          "shapedefaults": {
           "line": {
            "color": "#2a3f5f"
           }
          },
          "ternary": {
           "aaxis": {
            "gridcolor": "white",
            "linecolor": "white",
            "ticks": ""
           },
           "baxis": {
            "gridcolor": "white",
            "linecolor": "white",
            "ticks": ""
           },
           "bgcolor": "#E5ECF6",
           "caxis": {
            "gridcolor": "white",
            "linecolor": "white",
            "ticks": ""
           }
          },
          "title": {
           "x": 0.05
          },
          "xaxis": {
           "automargin": true,
           "gridcolor": "white",
           "linecolor": "white",
           "ticks": "",
           "title": {
            "standoff": 15
           },
           "zerolinecolor": "white",
           "zerolinewidth": 2
          },
          "yaxis": {
           "automargin": true,
           "gridcolor": "white",
           "linecolor": "white",
           "ticks": "",
           "title": {
            "standoff": 15
           },
           "zerolinecolor": "white",
           "zerolinewidth": 2
          }
         }
        },
        "xaxis": {
         "anchor": "y",
         "domain": [
          0,
          0.94
         ]
        },
        "yaxis": {
         "anchor": "x",
         "domain": [
          0,
          1
         ]
        },
        "yaxis2": {
         "anchor": "x",
         "overlaying": "y",
         "side": "right"
        }
       }
      },
      "text/html": [
       "<div>\n",
       "        \n",
       "        \n",
       "            <div id=\"8fc9640b-8fe9-4bd9-b278-eacffdd8ee5a\" class=\"plotly-graph-div\" style=\"height:525px; width:100%;\"></div>\n",
       "            <script type=\"text/javascript\">\n",
       "                require([\"plotly\"], function(Plotly) {\n",
       "                    window.PLOTLYENV=window.PLOTLYENV || {};\n",
       "                    \n",
       "                if (document.getElementById(\"8fc9640b-8fe9-4bd9-b278-eacffdd8ee5a\")) {\n",
       "                    Plotly.newPlot(\n",
       "                        '8fc9640b-8fe9-4bd9-b278-eacffdd8ee5a',\n",
       "                        [{\"mode\": \"lines\", \"name\": \"Confirmed Cases\", \"type\": \"scatter\", \"x\": [\"2020-01-22\", \"2020-01-23\", \"2020-01-24\", \"2020-01-25\", \"2020-01-26\", \"2020-01-27\", \"2020-01-28\", \"2020-01-29\", \"2020-01-30\", \"2020-01-31\", \"2020-02-01\", \"2020-02-02\", \"2020-02-03\", \"2020-02-04\", \"2020-02-05\", \"2020-02-06\", \"2020-02-07\", \"2020-02-08\", \"2020-02-09\", \"2020-02-10\", \"2020-02-11\", \"2020-02-12\", \"2020-02-13\", \"2020-02-14\", \"2020-02-15\", \"2020-02-16\", \"2020-02-17\", \"2020-02-18\", \"2020-02-19\", \"2020-02-20\", \"2020-02-21\", \"2020-02-22\", \"2020-02-23\", \"2020-02-24\", \"2020-02-25\", \"2020-02-26\", \"2020-02-27\", \"2020-02-28\", \"2020-02-29\", \"2020-03-01\", \"2020-03-02\", \"2020-03-03\", \"2020-03-04\", \"2020-03-05\", \"2020-03-06\", \"2020-03-07\", \"2020-03-08\", \"2020-03-09\", \"2020-03-10\", \"2020-03-11\", \"2020-03-12\", \"2020-03-13\", \"2020-03-14\", \"2020-03-15\", \"2020-03-16\", \"2020-03-17\", \"2020-03-18\", \"2020-03-19\", \"2020-03-20\", \"2020-03-21\", \"2020-03-22\", \"2020-03-23\", \"2020-03-24\", \"2020-03-25\", \"2020-03-26\", \"2020-03-27\", \"2020-03-28\", \"2020-03-29\", \"2020-03-30\", \"2020-03-31\", \"2020-04-01\", \"2020-04-02\"], \"y\": [444.0, 444.0, 549.0, 761.0, 1058.0, 1423.0, 3554.0, 3554.0, 4903.0, 5806.0, 7153.0, 11177.0, 13522.0, 16678.0, 19665.0, 22112.0, 24953.0, 27100.0, 29631.0, 31728.0, 33366.0, 33366.0, 48206.0, 54406.0, 56249.0, 58182.0, 59989.0, 61682.0, 62031.0, 62442.0, 62662.0, 64084.0, 64084.0, 64287.0, 64786.0, 65187.0, 65596.0, 65914.0, 66337.0, 66907.0, 67103.0, 67217.0, 67332.0, 67466.0, 67592.0, 67666.0, 67707.0, 67743.0, 67760.0, 67773.0, 67781.0, 67786.0, 67790.0, 67794.0, 67798.0, 67799.0, 67800.0, 67800.0, 67800.0, 67800.0, 67800.0, 67800.0, 67801.0, 67801.0, 67801.0, 67801.0, 67801.0, 67801.0, 67801.0, 67801.0, 67802.0, 67802.0]}, {\"mode\": \"lines\", \"name\": \"Fatalities\", \"type\": \"scatter\", \"x\": [\"2020-01-22\", \"2020-01-23\", \"2020-01-24\", \"2020-01-25\", \"2020-01-26\", \"2020-01-27\", \"2020-01-28\", \"2020-01-29\", \"2020-01-30\", \"2020-01-31\", \"2020-02-01\", \"2020-02-02\", \"2020-02-03\", \"2020-02-04\", \"2020-02-05\", \"2020-02-06\", \"2020-02-07\", \"2020-02-08\", \"2020-02-09\", \"2020-02-10\", \"2020-02-11\", \"2020-02-12\", \"2020-02-13\", \"2020-02-14\", \"2020-02-15\", \"2020-02-16\", \"2020-02-17\", \"2020-02-18\", \"2020-02-19\", \"2020-02-20\", \"2020-02-21\", \"2020-02-22\", \"2020-02-23\", \"2020-02-24\", \"2020-02-25\", \"2020-02-26\", \"2020-02-27\", \"2020-02-28\", \"2020-02-29\", \"2020-03-01\", \"2020-03-02\", \"2020-03-03\", \"2020-03-04\", \"2020-03-05\", \"2020-03-06\", \"2020-03-07\", \"2020-03-08\", \"2020-03-09\", \"2020-03-10\", \"2020-03-11\", \"2020-03-12\", \"2020-03-13\", \"2020-03-14\", \"2020-03-15\", \"2020-03-16\", \"2020-03-17\", \"2020-03-18\", \"2020-03-19\", \"2020-03-20\", \"2020-03-21\", \"2020-03-22\", \"2020-03-23\", \"2020-03-24\", \"2020-03-25\", \"2020-03-26\", \"2020-03-27\", \"2020-03-28\", \"2020-03-29\", \"2020-03-30\", \"2020-03-31\", \"2020-04-01\", \"2020-04-02\"], \"xaxis\": \"x\", \"y\": [17.0, 17.0, 24.0, 40.0, 52.0, 76.0, 125.0, 125.0, 162.0, 204.0, 249.0, 350.0, 414.0, 479.0, 549.0, 618.0, 699.0, 780.0, 871.0, 974.0, 1068.0, 1068.0, 1310.0, 1457.0, 1596.0, 1696.0, 1789.0, 1921.0, 2029.0, 2144.0, 2144.0, 2346.0, 2346.0, 2495.0, 2563.0, 2615.0, 2641.0, 2682.0, 2727.0, 2761.0, 2803.0, 2835.0, 2871.0, 2902.0, 2931.0, 2959.0, 2986.0, 3008.0, 3024.0, 3046.0, 3056.0, 3062.0, 3075.0, 3085.0, 3099.0, 3111.0, 3122.0, 3130.0, 3133.0, 3139.0, 3153.0, 3153.0, 3160.0, 3163.0, 3169.0, 3174.0, 3177.0, 3182.0, 3186.0, 3187.0, 3193.0, 3199.0], \"yaxis\": \"y2\"}],\n",
       "                        {\"template\": {\"data\": {\"bar\": [{\"error_x\": {\"color\": \"#2a3f5f\"}, \"error_y\": {\"color\": \"#2a3f5f\"}, \"marker\": {\"line\": {\"color\": \"#E5ECF6\", \"width\": 0.5}}, \"type\": \"bar\"}], \"barpolar\": [{\"marker\": {\"line\": {\"color\": \"#E5ECF6\", \"width\": 0.5}}, \"type\": \"barpolar\"}], \"carpet\": [{\"aaxis\": {\"endlinecolor\": \"#2a3f5f\", \"gridcolor\": \"white\", \"linecolor\": \"white\", \"minorgridcolor\": \"white\", \"startlinecolor\": \"#2a3f5f\"}, \"baxis\": {\"endlinecolor\": \"#2a3f5f\", \"gridcolor\": \"white\", \"linecolor\": \"white\", \"minorgridcolor\": \"white\", \"startlinecolor\": \"#2a3f5f\"}, \"type\": \"carpet\"}], \"choropleth\": [{\"colorbar\": {\"outlinewidth\": 0, \"ticks\": \"\"}, \"type\": \"choropleth\"}], \"contour\": [{\"colorbar\": {\"outlinewidth\": 0, \"ticks\": \"\"}, \"colorscale\": [[0.0, \"#0d0887\"], [0.1111111111111111, \"#46039f\"], [0.2222222222222222, \"#7201a8\"], [0.3333333333333333, \"#9c179e\"], [0.4444444444444444, \"#bd3786\"], [0.5555555555555556, \"#d8576b\"], [0.6666666666666666, \"#ed7953\"], [0.7777777777777778, \"#fb9f3a\"], [0.8888888888888888, \"#fdca26\"], [1.0, \"#f0f921\"]], \"type\": \"contour\"}], \"contourcarpet\": [{\"colorbar\": {\"outlinewidth\": 0, \"ticks\": \"\"}, \"type\": \"contourcarpet\"}], \"heatmap\": [{\"colorbar\": {\"outlinewidth\": 0, \"ticks\": \"\"}, \"colorscale\": [[0.0, \"#0d0887\"], [0.1111111111111111, \"#46039f\"], [0.2222222222222222, \"#7201a8\"], [0.3333333333333333, \"#9c179e\"], [0.4444444444444444, \"#bd3786\"], [0.5555555555555556, \"#d8576b\"], [0.6666666666666666, \"#ed7953\"], [0.7777777777777778, \"#fb9f3a\"], [0.8888888888888888, \"#fdca26\"], [1.0, \"#f0f921\"]], \"type\": \"heatmap\"}], \"heatmapgl\": [{\"colorbar\": {\"outlinewidth\": 0, \"ticks\": \"\"}, \"colorscale\": [[0.0, \"#0d0887\"], [0.1111111111111111, \"#46039f\"], [0.2222222222222222, \"#7201a8\"], [0.3333333333333333, \"#9c179e\"], [0.4444444444444444, \"#bd3786\"], [0.5555555555555556, \"#d8576b\"], [0.6666666666666666, \"#ed7953\"], [0.7777777777777778, \"#fb9f3a\"], [0.8888888888888888, \"#fdca26\"], [1.0, \"#f0f921\"]], \"type\": \"heatmapgl\"}], \"histogram\": [{\"marker\": {\"colorbar\": {\"outlinewidth\": 0, \"ticks\": \"\"}}, \"type\": \"histogram\"}], \"histogram2d\": [{\"colorbar\": {\"outlinewidth\": 0, \"ticks\": \"\"}, \"colorscale\": [[0.0, \"#0d0887\"], [0.1111111111111111, \"#46039f\"], [0.2222222222222222, \"#7201a8\"], [0.3333333333333333, \"#9c179e\"], [0.4444444444444444, \"#bd3786\"], [0.5555555555555556, \"#d8576b\"], [0.6666666666666666, \"#ed7953\"], [0.7777777777777778, \"#fb9f3a\"], [0.8888888888888888, \"#fdca26\"], [1.0, \"#f0f921\"]], \"type\": \"histogram2d\"}], \"histogram2dcontour\": [{\"colorbar\": {\"outlinewidth\": 0, \"ticks\": \"\"}, \"colorscale\": [[0.0, \"#0d0887\"], [0.1111111111111111, \"#46039f\"], [0.2222222222222222, \"#7201a8\"], [0.3333333333333333, \"#9c179e\"], [0.4444444444444444, \"#bd3786\"], [0.5555555555555556, \"#d8576b\"], [0.6666666666666666, \"#ed7953\"], [0.7777777777777778, \"#fb9f3a\"], [0.8888888888888888, \"#fdca26\"], [1.0, \"#f0f921\"]], \"type\": \"histogram2dcontour\"}], \"mesh3d\": [{\"colorbar\": {\"outlinewidth\": 0, \"ticks\": \"\"}, \"type\": \"mesh3d\"}], \"parcoords\": [{\"line\": {\"colorbar\": {\"outlinewidth\": 0, \"ticks\": \"\"}}, \"type\": \"parcoords\"}], \"pie\": [{\"automargin\": true, \"type\": \"pie\"}], \"scatter\": [{\"marker\": {\"colorbar\": {\"outlinewidth\": 0, \"ticks\": \"\"}}, \"type\": \"scatter\"}], \"scatter3d\": [{\"line\": {\"colorbar\": {\"outlinewidth\": 0, \"ticks\": \"\"}}, \"marker\": {\"colorbar\": {\"outlinewidth\": 0, \"ticks\": \"\"}}, \"type\": \"scatter3d\"}], \"scattercarpet\": [{\"marker\": {\"colorbar\": {\"outlinewidth\": 0, \"ticks\": \"\"}}, \"type\": \"scattercarpet\"}], \"scattergeo\": [{\"marker\": {\"colorbar\": {\"outlinewidth\": 0, \"ticks\": \"\"}}, \"type\": \"scattergeo\"}], \"scattergl\": [{\"marker\": {\"colorbar\": {\"outlinewidth\": 0, \"ticks\": \"\"}}, \"type\": \"scattergl\"}], \"scattermapbox\": [{\"marker\": {\"colorbar\": {\"outlinewidth\": 0, \"ticks\": \"\"}}, \"type\": \"scattermapbox\"}], \"scatterpolar\": [{\"marker\": {\"colorbar\": {\"outlinewidth\": 0, \"ticks\": \"\"}}, \"type\": \"scatterpolar\"}], \"scatterpolargl\": [{\"marker\": {\"colorbar\": {\"outlinewidth\": 0, \"ticks\": \"\"}}, \"type\": \"scatterpolargl\"}], \"scatterternary\": [{\"marker\": {\"colorbar\": {\"outlinewidth\": 0, \"ticks\": \"\"}}, \"type\": \"scatterternary\"}], \"surface\": [{\"colorbar\": {\"outlinewidth\": 0, \"ticks\": \"\"}, \"colorscale\": [[0.0, \"#0d0887\"], [0.1111111111111111, \"#46039f\"], [0.2222222222222222, \"#7201a8\"], [0.3333333333333333, \"#9c179e\"], [0.4444444444444444, \"#bd3786\"], [0.5555555555555556, \"#d8576b\"], [0.6666666666666666, \"#ed7953\"], [0.7777777777777778, \"#fb9f3a\"], [0.8888888888888888, \"#fdca26\"], [1.0, \"#f0f921\"]], \"type\": \"surface\"}], \"table\": [{\"cells\": {\"fill\": {\"color\": \"#EBF0F8\"}, \"line\": {\"color\": \"white\"}}, \"header\": {\"fill\": {\"color\": \"#C8D4E3\"}, \"line\": {\"color\": \"white\"}}, \"type\": \"table\"}]}, \"layout\": {\"annotationdefaults\": {\"arrowcolor\": \"#2a3f5f\", \"arrowhead\": 0, \"arrowwidth\": 1}, \"coloraxis\": {\"colorbar\": {\"outlinewidth\": 0, \"ticks\": \"\"}}, \"colorscale\": {\"diverging\": [[0, \"#8e0152\"], [0.1, \"#c51b7d\"], [0.2, \"#de77ae\"], [0.3, \"#f1b6da\"], [0.4, \"#fde0ef\"], [0.5, \"#f7f7f7\"], [0.6, \"#e6f5d0\"], [0.7, \"#b8e186\"], [0.8, \"#7fbc41\"], [0.9, \"#4d9221\"], [1, \"#276419\"]], \"sequential\": [[0.0, \"#0d0887\"], [0.1111111111111111, \"#46039f\"], [0.2222222222222222, \"#7201a8\"], [0.3333333333333333, \"#9c179e\"], [0.4444444444444444, \"#bd3786\"], [0.5555555555555556, \"#d8576b\"], [0.6666666666666666, \"#ed7953\"], [0.7777777777777778, \"#fb9f3a\"], [0.8888888888888888, \"#fdca26\"], [1.0, \"#f0f921\"]], \"sequentialminus\": [[0.0, \"#0d0887\"], [0.1111111111111111, \"#46039f\"], [0.2222222222222222, \"#7201a8\"], [0.3333333333333333, \"#9c179e\"], [0.4444444444444444, \"#bd3786\"], [0.5555555555555556, \"#d8576b\"], [0.6666666666666666, \"#ed7953\"], [0.7777777777777778, \"#fb9f3a\"], [0.8888888888888888, \"#fdca26\"], [1.0, \"#f0f921\"]]}, \"colorway\": [\"#636efa\", \"#EF553B\", \"#00cc96\", \"#ab63fa\", \"#FFA15A\", \"#19d3f3\", \"#FF6692\", \"#B6E880\", \"#FF97FF\", \"#FECB52\"], \"font\": {\"color\": \"#2a3f5f\"}, \"geo\": {\"bgcolor\": \"white\", \"lakecolor\": \"white\", \"landcolor\": \"#E5ECF6\", \"showlakes\": true, \"showland\": true, \"subunitcolor\": \"white\"}, \"hoverlabel\": {\"align\": \"left\"}, \"hovermode\": \"closest\", \"mapbox\": {\"style\": \"light\"}, \"paper_bgcolor\": \"white\", \"plot_bgcolor\": \"#E5ECF6\", \"polar\": {\"angularaxis\": {\"gridcolor\": \"white\", \"linecolor\": \"white\", \"ticks\": \"\"}, \"bgcolor\": \"#E5ECF6\", \"radialaxis\": {\"gridcolor\": \"white\", \"linecolor\": \"white\", \"ticks\": \"\"}}, \"scene\": {\"xaxis\": {\"backgroundcolor\": \"#E5ECF6\", \"gridcolor\": \"white\", \"gridwidth\": 2, \"linecolor\": \"white\", \"showbackground\": true, \"ticks\": \"\", \"zerolinecolor\": \"white\"}, \"yaxis\": {\"backgroundcolor\": \"#E5ECF6\", \"gridcolor\": \"white\", \"gridwidth\": 2, \"linecolor\": \"white\", \"showbackground\": true, \"ticks\": \"\", \"zerolinecolor\": \"white\"}, \"zaxis\": {\"backgroundcolor\": \"#E5ECF6\", \"gridcolor\": \"white\", \"gridwidth\": 2, \"linecolor\": \"white\", \"showbackground\": true, \"ticks\": \"\", \"zerolinecolor\": \"white\"}}, \"shapedefaults\": {\"line\": {\"color\": \"#2a3f5f\"}}, \"ternary\": {\"aaxis\": {\"gridcolor\": \"white\", \"linecolor\": \"white\", \"ticks\": \"\"}, \"baxis\": {\"gridcolor\": \"white\", \"linecolor\": \"white\", \"ticks\": \"\"}, \"bgcolor\": \"#E5ECF6\", \"caxis\": {\"gridcolor\": \"white\", \"linecolor\": \"white\", \"ticks\": \"\"}}, \"title\": {\"x\": 0.05}, \"xaxis\": {\"automargin\": true, \"gridcolor\": \"white\", \"linecolor\": \"white\", \"ticks\": \"\", \"title\": {\"standoff\": 15}, \"zerolinecolor\": \"white\", \"zerolinewidth\": 2}, \"yaxis\": {\"automargin\": true, \"gridcolor\": \"white\", \"linecolor\": \"white\", \"ticks\": \"\", \"title\": {\"standoff\": 15}, \"zerolinecolor\": \"white\", \"zerolinewidth\": 2}}}, \"xaxis\": {\"anchor\": \"y\", \"domain\": [0.0, 0.94]}, \"yaxis\": {\"anchor\": \"x\", \"domain\": [0.0, 1.0]}, \"yaxis2\": {\"anchor\": \"x\", \"overlaying\": \"y\", \"side\": \"right\"}},\n",
       "                        {\"responsive\": true}\n",
       "                    ).then(function(){\n",
       "                            \n",
       "var gd = document.getElementById('8fc9640b-8fe9-4bd9-b278-eacffdd8ee5a');\n",
       "var x = new MutationObserver(function (mutations, observer) {{\n",
       "        var display = window.getComputedStyle(gd).display;\n",
       "        if (!display || display === 'none') {{\n",
       "            console.log([gd, 'removed!']);\n",
       "            Plotly.purge(gd);\n",
       "            observer.disconnect();\n",
       "        }}\n",
       "}});\n",
       "\n",
       "// Listen for the removal of the full notebook cells\n",
       "var notebookContainer = gd.closest('#notebook-container');\n",
       "if (notebookContainer) {{\n",
       "    x.observe(notebookContainer, {childList: true});\n",
       "}}\n",
       "\n",
       "// Listen for the clearing of the current output cell\n",
       "var outputEl = gd.closest('.output');\n",
       "if (outputEl) {{\n",
       "    x.observe(outputEl, {childList: true});\n",
       "}}\n",
       "\n",
       "                        })\n",
       "                };\n",
       "                });\n",
       "            </script>\n",
       "        </div>"
      ]
     },
     "metadata": {},
     "output_type": "display_data"
    }
   ],
   "source": [
    "fig = go.Figure()\n",
    "fig = make_subplots(specs=[[{\"secondary_y\": True}]])\n",
    "fig.add_trace(go.Scatter(x=train_use['Date'], y=train_use['ConfirmedCases'],\n",
    "                    mode='lines',\n",
    "                    name='Confirmed Cases'))\n",
    "fig.add_trace(go.Scatter(x=train_use['Date'], y=train_use['Fatalities'],\n",
    "                    mode='lines',\n",
    "                    name='Fatalities'),\n",
    "             secondary_y=True)\n",
    "fig.show()"
   ]
  },
  {
   "cell_type": "code",
   "execution_count": 94,
   "metadata": {},
   "outputs": [
    {
     "data": {
      "application/vnd.plotly.v1+json": {
       "config": {
        "plotlyServerURL": "https://plot.ly"
       },
       "data": [
        {
         "hovertemplate": "x=%{x}<br>y=%{y}<extra></extra>",
         "legendgroup": "",
         "marker": {
          "color": "#636efa",
          "symbol": "circle"
         },
         "mode": "markers",
         "name": "",
         "showlegend": false,
         "type": "scatter",
         "x": [
          444,
          444,
          549,
          761,
          1058,
          1423,
          3554,
          3554,
          4903,
          5806,
          7153,
          11177,
          13522,
          16678,
          19665,
          22112,
          24953,
          27100,
          29631,
          31728,
          33366,
          33366,
          48206,
          54406,
          56249,
          58182,
          59989,
          61682,
          62031,
          62442,
          62662,
          64084,
          64084,
          64287,
          64786,
          65187,
          65596,
          65914,
          66337,
          66907,
          67103,
          67217,
          67332,
          67466,
          67592,
          67666,
          67707,
          67743,
          67760,
          67773,
          67781,
          67786,
          67790,
          67794,
          67798,
          67799,
          67800,
          67800,
          67800,
          67800,
          67800,
          67800,
          67801,
          67801,
          67801,
          67801,
          67801,
          67801,
          67801,
          67801,
          67802,
          67802
         ],
         "xaxis": "x",
         "y": [
          17,
          17,
          24,
          40,
          52,
          76,
          125,
          125,
          162,
          204,
          249,
          350,
          414,
          479,
          549,
          618,
          699,
          780,
          871,
          974,
          1068,
          1068,
          1310,
          1457,
          1596,
          1696,
          1789,
          1921,
          2029,
          2144,
          2144,
          2346,
          2346,
          2495,
          2563,
          2615,
          2641,
          2682,
          2727,
          2761,
          2803,
          2835,
          2871,
          2902,
          2931,
          2959,
          2986,
          3008,
          3024,
          3046,
          3056,
          3062,
          3075,
          3085,
          3099,
          3111,
          3122,
          3130,
          3133,
          3139,
          3153,
          3153,
          3160,
          3163,
          3169,
          3174,
          3177,
          3182,
          3186,
          3187,
          3193,
          3199
         ],
         "yaxis": "y"
        },
        {
         "hovertemplate": "<b>OLS trendline</b><br>y = 0.0451888 * x + -204.984<br>R<sup>2</sup>=0.930797<br><br>x=%{x}<br>y=%{y} <b>(trend)</b><extra></extra>",
         "legendgroup": "",
         "marker": {
          "color": "#636efa",
          "symbol": "circle"
         },
         "mode": "lines",
         "name": "",
         "showlegend": false,
         "type": "scatter",
         "x": [
          444,
          444,
          549,
          761,
          1058,
          1423,
          3554,
          3554,
          4903,
          5806,
          7153,
          11177,
          13522,
          16678,
          19665,
          22112,
          24953,
          27100,
          29631,
          31728,
          33366,
          33366,
          48206,
          54406,
          56249,
          58182,
          59989,
          61682,
          62031,
          62442,
          62662,
          64084,
          64084,
          64287,
          64786,
          65187,
          65596,
          65914,
          66337,
          66907,
          67103,
          67217,
          67332,
          67466,
          67592,
          67666,
          67707,
          67743,
          67760,
          67773,
          67781,
          67786,
          67790,
          67794,
          67798,
          67799,
          67800,
          67800,
          67800,
          67800,
          67800,
          67800,
          67801,
          67801,
          67801,
          67801,
          67801,
          67801,
          67801,
          67801,
          67802,
          67802
         ],
         "xaxis": "x",
         "y": [
          -184.91982516851644,
          -184.91982516851644,
          -180.175004281604,
          -170.59498496707602,
          -157.17392017266656,
          -140.68001899435188,
          -44.382749375205066,
          -44.382749375205066,
          16.576901829031954,
          57.38236145647895,
          118.25163512001288,
          300.09124701463827,
          406.05891348901616,
          548.6746727184986,
          683.6535297585698,
          794.2304508088055,
          922.6117473775507,
          1019.6320373223223,
          1134.0048150820878,
          1228.765666509282,
          1302.7848723451161,
          1302.7848723451161,
          1973.386224362075,
          2253.5566005416667,
          2336.839504299568,
          2424.1893973891088,
          2505.845505414354,
          2582.3500936195232,
          2598.120974472213,
          2616.693559086699,
          2626.6350885640395,
          2690.8935200039396,
          2690.8935200039396,
          2700.0668403853033,
          2722.6160367907255,
          2740.736733701696,
          2759.2189407754786,
          2773.5889697472708,
          2792.703819605975,
          2818.4614187063567,
          2827.31841769526,
          2832.4699375153364,
          2837.6666461057644,
          2843.7219413328717,
          2849.4157263971665,
          2852.759695403181,
          2854.6124349875945,
          2856.2392307202504,
          2857.0074398162265,
          2857.5948938307965,
          2857.956403993609,
          2858.1823478453666,
          2858.363102926773,
          2858.543858008179,
          2858.724613089585,
          2858.7698018599367,
          2858.8149906302883,
          2858.8149906302883,
          2858.8149906302883,
          2858.8149906302883,
          2858.8149906302883,
          2858.8149906302883,
          2858.86017940064,
          2858.86017940064,
          2858.86017940064,
          2858.86017940064,
          2858.86017940064,
          2858.86017940064,
          2858.86017940064,
          2858.86017940064,
          2858.9053681709916,
          2858.9053681709916
         ],
         "yaxis": "y"
        }
       ],
       "layout": {
        "legend": {
         "tracegroupgap": 0
        },
        "margin": {
         "t": 60
        },
        "template": {
         "data": {
          "bar": [
           {
            "error_x": {
             "color": "#2a3f5f"
            },
            "error_y": {
             "color": "#2a3f5f"
            },
            "marker": {
             "line": {
              "color": "#E5ECF6",
              "width": 0.5
             }
            },
            "type": "bar"
           }
          ],
          "barpolar": [
           {
            "marker": {
             "line": {
              "color": "#E5ECF6",
              "width": 0.5
             }
            },
            "type": "barpolar"
           }
          ],
          "carpet": [
           {
            "aaxis": {
             "endlinecolor": "#2a3f5f",
             "gridcolor": "white",
             "linecolor": "white",
             "minorgridcolor": "white",
             "startlinecolor": "#2a3f5f"
            },
            "baxis": {
             "endlinecolor": "#2a3f5f",
             "gridcolor": "white",
             "linecolor": "white",
             "minorgridcolor": "white",
             "startlinecolor": "#2a3f5f"
            },
            "type": "carpet"
           }
          ],
          "choropleth": [
           {
            "colorbar": {
             "outlinewidth": 0,
             "ticks": ""
            },
            "type": "choropleth"
           }
          ],
          "contour": [
           {
            "colorbar": {
             "outlinewidth": 0,
             "ticks": ""
            },
            "colorscale": [
             [
              0,
              "#0d0887"
             ],
             [
              0.1111111111111111,
              "#46039f"
             ],
             [
              0.2222222222222222,
              "#7201a8"
             ],
             [
              0.3333333333333333,
              "#9c179e"
             ],
             [
              0.4444444444444444,
              "#bd3786"
             ],
             [
              0.5555555555555556,
              "#d8576b"
             ],
             [
              0.6666666666666666,
              "#ed7953"
             ],
             [
              0.7777777777777778,
              "#fb9f3a"
             ],
             [
              0.8888888888888888,
              "#fdca26"
             ],
             [
              1,
              "#f0f921"
             ]
            ],
            "type": "contour"
           }
          ],
          "contourcarpet": [
           {
            "colorbar": {
             "outlinewidth": 0,
             "ticks": ""
            },
            "type": "contourcarpet"
           }
          ],
          "heatmap": [
           {
            "colorbar": {
             "outlinewidth": 0,
             "ticks": ""
            },
            "colorscale": [
             [
              0,
              "#0d0887"
             ],
             [
              0.1111111111111111,
              "#46039f"
             ],
             [
              0.2222222222222222,
              "#7201a8"
             ],
             [
              0.3333333333333333,
              "#9c179e"
             ],
             [
              0.4444444444444444,
              "#bd3786"
             ],
             [
              0.5555555555555556,
              "#d8576b"
             ],
             [
              0.6666666666666666,
              "#ed7953"
             ],
             [
              0.7777777777777778,
              "#fb9f3a"
             ],
             [
              0.8888888888888888,
              "#fdca26"
             ],
             [
              1,
              "#f0f921"
             ]
            ],
            "type": "heatmap"
           }
          ],
          "heatmapgl": [
           {
            "colorbar": {
             "outlinewidth": 0,
             "ticks": ""
            },
            "colorscale": [
             [
              0,
              "#0d0887"
             ],
             [
              0.1111111111111111,
              "#46039f"
             ],
             [
              0.2222222222222222,
              "#7201a8"
             ],
             [
              0.3333333333333333,
              "#9c179e"
             ],
             [
              0.4444444444444444,
              "#bd3786"
             ],
             [
              0.5555555555555556,
              "#d8576b"
             ],
             [
              0.6666666666666666,
              "#ed7953"
             ],
             [
              0.7777777777777778,
              "#fb9f3a"
             ],
             [
              0.8888888888888888,
              "#fdca26"
             ],
             [
              1,
              "#f0f921"
             ]
            ],
            "type": "heatmapgl"
           }
          ],
          "histogram": [
           {
            "marker": {
             "colorbar": {
              "outlinewidth": 0,
              "ticks": ""
             }
            },
            "type": "histogram"
           }
          ],
          "histogram2d": [
           {
            "colorbar": {
             "outlinewidth": 0,
             "ticks": ""
            },
            "colorscale": [
             [
              0,
              "#0d0887"
             ],
             [
              0.1111111111111111,
              "#46039f"
             ],
             [
              0.2222222222222222,
              "#7201a8"
             ],
             [
              0.3333333333333333,
              "#9c179e"
             ],
             [
              0.4444444444444444,
              "#bd3786"
             ],
             [
              0.5555555555555556,
              "#d8576b"
             ],
             [
              0.6666666666666666,
              "#ed7953"
             ],
             [
              0.7777777777777778,
              "#fb9f3a"
             ],
             [
              0.8888888888888888,
              "#fdca26"
             ],
             [
              1,
              "#f0f921"
             ]
            ],
            "type": "histogram2d"
           }
          ],
          "histogram2dcontour": [
           {
            "colorbar": {
             "outlinewidth": 0,
             "ticks": ""
            },
            "colorscale": [
             [
              0,
              "#0d0887"
             ],
             [
              0.1111111111111111,
              "#46039f"
             ],
             [
              0.2222222222222222,
              "#7201a8"
             ],
             [
              0.3333333333333333,
              "#9c179e"
             ],
             [
              0.4444444444444444,
              "#bd3786"
             ],
             [
              0.5555555555555556,
              "#d8576b"
             ],
             [
              0.6666666666666666,
              "#ed7953"
             ],
             [
              0.7777777777777778,
              "#fb9f3a"
             ],
             [
              0.8888888888888888,
              "#fdca26"
             ],
             [
              1,
              "#f0f921"
             ]
            ],
            "type": "histogram2dcontour"
           }
          ],
          "mesh3d": [
           {
            "colorbar": {
             "outlinewidth": 0,
             "ticks": ""
            },
            "type": "mesh3d"
           }
          ],
          "parcoords": [
           {
            "line": {
             "colorbar": {
              "outlinewidth": 0,
              "ticks": ""
             }
            },
            "type": "parcoords"
           }
          ],
          "pie": [
           {
            "automargin": true,
            "type": "pie"
           }
          ],
          "scatter": [
           {
            "marker": {
             "colorbar": {
              "outlinewidth": 0,
              "ticks": ""
             }
            },
            "type": "scatter"
           }
          ],
          "scatter3d": [
           {
            "line": {
             "colorbar": {
              "outlinewidth": 0,
              "ticks": ""
             }
            },
            "marker": {
             "colorbar": {
              "outlinewidth": 0,
              "ticks": ""
             }
            },
            "type": "scatter3d"
           }
          ],
          "scattercarpet": [
           {
            "marker": {
             "colorbar": {
              "outlinewidth": 0,
              "ticks": ""
             }
            },
            "type": "scattercarpet"
           }
          ],
          "scattergeo": [
           {
            "marker": {
             "colorbar": {
              "outlinewidth": 0,
              "ticks": ""
             }
            },
            "type": "scattergeo"
           }
          ],
          "scattergl": [
           {
            "marker": {
             "colorbar": {
              "outlinewidth": 0,
              "ticks": ""
             }
            },
            "type": "scattergl"
           }
          ],
          "scattermapbox": [
           {
            "marker": {
             "colorbar": {
              "outlinewidth": 0,
              "ticks": ""
             }
            },
            "type": "scattermapbox"
           }
          ],
          "scatterpolar": [
           {
            "marker": {
             "colorbar": {
              "outlinewidth": 0,
              "ticks": ""
             }
            },
            "type": "scatterpolar"
           }
          ],
          "scatterpolargl": [
           {
            "marker": {
             "colorbar": {
              "outlinewidth": 0,
              "ticks": ""
             }
            },
            "type": "scatterpolargl"
           }
          ],
          "scatterternary": [
           {
            "marker": {
             "colorbar": {
              "outlinewidth": 0,
              "ticks": ""
             }
            },
            "type": "scatterternary"
           }
          ],
          "surface": [
           {
            "colorbar": {
             "outlinewidth": 0,
             "ticks": ""
            },
            "colorscale": [
             [
              0,
              "#0d0887"
             ],
             [
              0.1111111111111111,
              "#46039f"
             ],
             [
              0.2222222222222222,
              "#7201a8"
             ],
             [
              0.3333333333333333,
              "#9c179e"
             ],
             [
              0.4444444444444444,
              "#bd3786"
             ],
             [
              0.5555555555555556,
              "#d8576b"
             ],
             [
              0.6666666666666666,
              "#ed7953"
             ],
             [
              0.7777777777777778,
              "#fb9f3a"
             ],
             [
              0.8888888888888888,
              "#fdca26"
             ],
             [
              1,
              "#f0f921"
             ]
            ],
            "type": "surface"
           }
          ],
          "table": [
           {
            "cells": {
             "fill": {
              "color": "#EBF0F8"
             },
             "line": {
              "color": "white"
             }
            },
            "header": {
             "fill": {
              "color": "#C8D4E3"
             },
             "line": {
              "color": "white"
             }
            },
            "type": "table"
           }
          ]
         },
         "layout": {
          "annotationdefaults": {
           "arrowcolor": "#2a3f5f",
           "arrowhead": 0,
           "arrowwidth": 1
          },
          "coloraxis": {
           "colorbar": {
            "outlinewidth": 0,
            "ticks": ""
           }
          },
          "colorscale": {
           "diverging": [
            [
             0,
             "#8e0152"
            ],
            [
             0.1,
             "#c51b7d"
            ],
            [
             0.2,
             "#de77ae"
            ],
            [
             0.3,
             "#f1b6da"
            ],
            [
             0.4,
             "#fde0ef"
            ],
            [
             0.5,
             "#f7f7f7"
            ],
            [
             0.6,
             "#e6f5d0"
            ],
            [
             0.7,
             "#b8e186"
            ],
            [
             0.8,
             "#7fbc41"
            ],
            [
             0.9,
             "#4d9221"
            ],
            [
             1,
             "#276419"
            ]
           ],
           "sequential": [
            [
             0,
             "#0d0887"
            ],
            [
             0.1111111111111111,
             "#46039f"
            ],
            [
             0.2222222222222222,
             "#7201a8"
            ],
            [
             0.3333333333333333,
             "#9c179e"
            ],
            [
             0.4444444444444444,
             "#bd3786"
            ],
            [
             0.5555555555555556,
             "#d8576b"
            ],
            [
             0.6666666666666666,
             "#ed7953"
            ],
            [
             0.7777777777777778,
             "#fb9f3a"
            ],
            [
             0.8888888888888888,
             "#fdca26"
            ],
            [
             1,
             "#f0f921"
            ]
           ],
           "sequentialminus": [
            [
             0,
             "#0d0887"
            ],
            [
             0.1111111111111111,
             "#46039f"
            ],
            [
             0.2222222222222222,
             "#7201a8"
            ],
            [
             0.3333333333333333,
             "#9c179e"
            ],
            [
             0.4444444444444444,
             "#bd3786"
            ],
            [
             0.5555555555555556,
             "#d8576b"
            ],
            [
             0.6666666666666666,
             "#ed7953"
            ],
            [
             0.7777777777777778,
             "#fb9f3a"
            ],
            [
             0.8888888888888888,
             "#fdca26"
            ],
            [
             1,
             "#f0f921"
            ]
           ]
          },
          "colorway": [
           "#636efa",
           "#EF553B",
           "#00cc96",
           "#ab63fa",
           "#FFA15A",
           "#19d3f3",
           "#FF6692",
           "#B6E880",
           "#FF97FF",
           "#FECB52"
          ],
          "font": {
           "color": "#2a3f5f"
          },
          "geo": {
           "bgcolor": "white",
           "lakecolor": "white",
           "landcolor": "#E5ECF6",
           "showlakes": true,
           "showland": true,
           "subunitcolor": "white"
          },
          "hoverlabel": {
           "align": "left"
          },
          "hovermode": "closest",
          "mapbox": {
           "style": "light"
          },
          "paper_bgcolor": "white",
          "plot_bgcolor": "#E5ECF6",
          "polar": {
           "angularaxis": {
            "gridcolor": "white",
            "linecolor": "white",
            "ticks": ""
           },
           "bgcolor": "#E5ECF6",
           "radialaxis": {
            "gridcolor": "white",
            "linecolor": "white",
            "ticks": ""
           }
          },
          "scene": {
           "xaxis": {
            "backgroundcolor": "#E5ECF6",
            "gridcolor": "white",
            "gridwidth": 2,
            "linecolor": "white",
            "showbackground": true,
            "ticks": "",
            "zerolinecolor": "white"
           },
           "yaxis": {
            "backgroundcolor": "#E5ECF6",
            "gridcolor": "white",
            "gridwidth": 2,
            "linecolor": "white",
            "showbackground": true,
            "ticks": "",
            "zerolinecolor": "white"
           },
           "zaxis": {
            "backgroundcolor": "#E5ECF6",
            "gridcolor": "white",
            "gridwidth": 2,
            "linecolor": "white",
            "showbackground": true,
            "ticks": "",
            "zerolinecolor": "white"
           }
          },
          "shapedefaults": {
           "line": {
            "color": "#2a3f5f"
           }
          },
          "ternary": {
           "aaxis": {
            "gridcolor": "white",
            "linecolor": "white",
            "ticks": ""
           },
           "baxis": {
            "gridcolor": "white",
            "linecolor": "white",
            "ticks": ""
           },
           "bgcolor": "#E5ECF6",
           "caxis": {
            "gridcolor": "white",
            "linecolor": "white",
            "ticks": ""
           }
          },
          "title": {
           "x": 0.05
          },
          "xaxis": {
           "automargin": true,
           "gridcolor": "white",
           "linecolor": "white",
           "ticks": "",
           "title": {
            "standoff": 15
           },
           "zerolinecolor": "white",
           "zerolinewidth": 2
          },
          "yaxis": {
           "automargin": true,
           "gridcolor": "white",
           "linecolor": "white",
           "ticks": "",
           "title": {
            "standoff": 15
           },
           "zerolinecolor": "white",
           "zerolinewidth": 2
          }
         }
        },
        "xaxis": {
         "anchor": "y",
         "domain": [
          0,
          1
         ],
         "title": {
          "text": "x"
         }
        },
        "yaxis": {
         "anchor": "x",
         "domain": [
          0,
          1
         ],
         "title": {
          "text": "y"
         }
        }
       }
      },
      "text/html": [
       "<div>\n",
       "        \n",
       "        \n",
       "            <div id=\"13878350-02e9-444f-93eb-e5105a1e1e7f\" class=\"plotly-graph-div\" style=\"height:525px; width:100%;\"></div>\n",
       "            <script type=\"text/javascript\">\n",
       "                require([\"plotly\"], function(Plotly) {\n",
       "                    window.PLOTLYENV=window.PLOTLYENV || {};\n",
       "                    \n",
       "                if (document.getElementById(\"13878350-02e9-444f-93eb-e5105a1e1e7f\")) {\n",
       "                    Plotly.newPlot(\n",
       "                        '13878350-02e9-444f-93eb-e5105a1e1e7f',\n",
       "                        [{\"hovertemplate\": \"x=%{x}<br>y=%{y}<extra></extra>\", \"legendgroup\": \"\", \"marker\": {\"color\": \"#636efa\", \"symbol\": \"circle\"}, \"mode\": \"markers\", \"name\": \"\", \"showlegend\": false, \"type\": \"scatter\", \"x\": [444.0, 444.0, 549.0, 761.0, 1058.0, 1423.0, 3554.0, 3554.0, 4903.0, 5806.0, 7153.0, 11177.0, 13522.0, 16678.0, 19665.0, 22112.0, 24953.0, 27100.0, 29631.0, 31728.0, 33366.0, 33366.0, 48206.0, 54406.0, 56249.0, 58182.0, 59989.0, 61682.0, 62031.0, 62442.0, 62662.0, 64084.0, 64084.0, 64287.0, 64786.0, 65187.0, 65596.0, 65914.0, 66337.0, 66907.0, 67103.0, 67217.0, 67332.0, 67466.0, 67592.0, 67666.0, 67707.0, 67743.0, 67760.0, 67773.0, 67781.0, 67786.0, 67790.0, 67794.0, 67798.0, 67799.0, 67800.0, 67800.0, 67800.0, 67800.0, 67800.0, 67800.0, 67801.0, 67801.0, 67801.0, 67801.0, 67801.0, 67801.0, 67801.0, 67801.0, 67802.0, 67802.0], \"xaxis\": \"x\", \"y\": [17.0, 17.0, 24.0, 40.0, 52.0, 76.0, 125.0, 125.0, 162.0, 204.0, 249.0, 350.0, 414.0, 479.0, 549.0, 618.0, 699.0, 780.0, 871.0, 974.0, 1068.0, 1068.0, 1310.0, 1457.0, 1596.0, 1696.0, 1789.0, 1921.0, 2029.0, 2144.0, 2144.0, 2346.0, 2346.0, 2495.0, 2563.0, 2615.0, 2641.0, 2682.0, 2727.0, 2761.0, 2803.0, 2835.0, 2871.0, 2902.0, 2931.0, 2959.0, 2986.0, 3008.0, 3024.0, 3046.0, 3056.0, 3062.0, 3075.0, 3085.0, 3099.0, 3111.0, 3122.0, 3130.0, 3133.0, 3139.0, 3153.0, 3153.0, 3160.0, 3163.0, 3169.0, 3174.0, 3177.0, 3182.0, 3186.0, 3187.0, 3193.0, 3199.0], \"yaxis\": \"y\"}, {\"hovertemplate\": \"<b>OLS trendline</b><br>y = 0.0451888 * x + -204.984<br>R<sup>2</sup>=0.930797<br><br>x=%{x}<br>y=%{y} <b>(trend)</b><extra></extra>\", \"legendgroup\": \"\", \"marker\": {\"color\": \"#636efa\", \"symbol\": \"circle\"}, \"mode\": \"lines\", \"name\": \"\", \"showlegend\": false, \"type\": \"scatter\", \"x\": [444.0, 444.0, 549.0, 761.0, 1058.0, 1423.0, 3554.0, 3554.0, 4903.0, 5806.0, 7153.0, 11177.0, 13522.0, 16678.0, 19665.0, 22112.0, 24953.0, 27100.0, 29631.0, 31728.0, 33366.0, 33366.0, 48206.0, 54406.0, 56249.0, 58182.0, 59989.0, 61682.0, 62031.0, 62442.0, 62662.0, 64084.0, 64084.0, 64287.0, 64786.0, 65187.0, 65596.0, 65914.0, 66337.0, 66907.0, 67103.0, 67217.0, 67332.0, 67466.0, 67592.0, 67666.0, 67707.0, 67743.0, 67760.0, 67773.0, 67781.0, 67786.0, 67790.0, 67794.0, 67798.0, 67799.0, 67800.0, 67800.0, 67800.0, 67800.0, 67800.0, 67800.0, 67801.0, 67801.0, 67801.0, 67801.0, 67801.0, 67801.0, 67801.0, 67801.0, 67802.0, 67802.0], \"xaxis\": \"x\", \"y\": [-184.91982516851644, -184.91982516851644, -180.175004281604, -170.59498496707602, -157.17392017266656, -140.68001899435188, -44.382749375205066, -44.382749375205066, 16.576901829031954, 57.38236145647895, 118.25163512001288, 300.09124701463827, 406.05891348901616, 548.6746727184986, 683.6535297585698, 794.2304508088055, 922.6117473775507, 1019.6320373223223, 1134.0048150820878, 1228.765666509282, 1302.7848723451161, 1302.7848723451161, 1973.386224362075, 2253.5566005416667, 2336.839504299568, 2424.1893973891088, 2505.845505414354, 2582.3500936195232, 2598.120974472213, 2616.693559086699, 2626.6350885640395, 2690.8935200039396, 2690.8935200039396, 2700.0668403853033, 2722.6160367907255, 2740.736733701696, 2759.2189407754786, 2773.5889697472708, 2792.703819605975, 2818.4614187063567, 2827.31841769526, 2832.4699375153364, 2837.6666461057644, 2843.7219413328717, 2849.4157263971665, 2852.759695403181, 2854.6124349875945, 2856.2392307202504, 2857.0074398162265, 2857.5948938307965, 2857.956403993609, 2858.1823478453666, 2858.363102926773, 2858.543858008179, 2858.724613089585, 2858.7698018599367, 2858.8149906302883, 2858.8149906302883, 2858.8149906302883, 2858.8149906302883, 2858.8149906302883, 2858.8149906302883, 2858.86017940064, 2858.86017940064, 2858.86017940064, 2858.86017940064, 2858.86017940064, 2858.86017940064, 2858.86017940064, 2858.86017940064, 2858.9053681709916, 2858.9053681709916], \"yaxis\": \"y\"}],\n",
       "                        {\"legend\": {\"tracegroupgap\": 0}, \"margin\": {\"t\": 60}, \"template\": {\"data\": {\"bar\": [{\"error_x\": {\"color\": \"#2a3f5f\"}, \"error_y\": {\"color\": \"#2a3f5f\"}, \"marker\": {\"line\": {\"color\": \"#E5ECF6\", \"width\": 0.5}}, \"type\": \"bar\"}], \"barpolar\": [{\"marker\": {\"line\": {\"color\": \"#E5ECF6\", \"width\": 0.5}}, \"type\": \"barpolar\"}], \"carpet\": [{\"aaxis\": {\"endlinecolor\": \"#2a3f5f\", \"gridcolor\": \"white\", \"linecolor\": \"white\", \"minorgridcolor\": \"white\", \"startlinecolor\": \"#2a3f5f\"}, \"baxis\": {\"endlinecolor\": \"#2a3f5f\", \"gridcolor\": \"white\", \"linecolor\": \"white\", \"minorgridcolor\": \"white\", \"startlinecolor\": \"#2a3f5f\"}, \"type\": \"carpet\"}], \"choropleth\": [{\"colorbar\": {\"outlinewidth\": 0, \"ticks\": \"\"}, \"type\": \"choropleth\"}], \"contour\": [{\"colorbar\": {\"outlinewidth\": 0, \"ticks\": \"\"}, \"colorscale\": [[0.0, \"#0d0887\"], [0.1111111111111111, \"#46039f\"], [0.2222222222222222, \"#7201a8\"], [0.3333333333333333, \"#9c179e\"], [0.4444444444444444, \"#bd3786\"], [0.5555555555555556, \"#d8576b\"], [0.6666666666666666, \"#ed7953\"], [0.7777777777777778, \"#fb9f3a\"], [0.8888888888888888, \"#fdca26\"], [1.0, \"#f0f921\"]], \"type\": \"contour\"}], \"contourcarpet\": [{\"colorbar\": {\"outlinewidth\": 0, \"ticks\": \"\"}, \"type\": \"contourcarpet\"}], \"heatmap\": [{\"colorbar\": {\"outlinewidth\": 0, \"ticks\": \"\"}, \"colorscale\": [[0.0, \"#0d0887\"], [0.1111111111111111, \"#46039f\"], [0.2222222222222222, \"#7201a8\"], [0.3333333333333333, \"#9c179e\"], [0.4444444444444444, \"#bd3786\"], [0.5555555555555556, \"#d8576b\"], [0.6666666666666666, \"#ed7953\"], [0.7777777777777778, \"#fb9f3a\"], [0.8888888888888888, \"#fdca26\"], [1.0, \"#f0f921\"]], \"type\": \"heatmap\"}], \"heatmapgl\": [{\"colorbar\": {\"outlinewidth\": 0, \"ticks\": \"\"}, \"colorscale\": [[0.0, \"#0d0887\"], [0.1111111111111111, \"#46039f\"], [0.2222222222222222, \"#7201a8\"], [0.3333333333333333, \"#9c179e\"], [0.4444444444444444, \"#bd3786\"], [0.5555555555555556, \"#d8576b\"], [0.6666666666666666, \"#ed7953\"], [0.7777777777777778, \"#fb9f3a\"], [0.8888888888888888, \"#fdca26\"], [1.0, \"#f0f921\"]], \"type\": \"heatmapgl\"}], \"histogram\": [{\"marker\": {\"colorbar\": {\"outlinewidth\": 0, \"ticks\": \"\"}}, \"type\": \"histogram\"}], \"histogram2d\": [{\"colorbar\": {\"outlinewidth\": 0, \"ticks\": \"\"}, \"colorscale\": [[0.0, \"#0d0887\"], [0.1111111111111111, \"#46039f\"], [0.2222222222222222, \"#7201a8\"], [0.3333333333333333, \"#9c179e\"], [0.4444444444444444, \"#bd3786\"], [0.5555555555555556, \"#d8576b\"], [0.6666666666666666, \"#ed7953\"], [0.7777777777777778, \"#fb9f3a\"], [0.8888888888888888, \"#fdca26\"], [1.0, \"#f0f921\"]], \"type\": \"histogram2d\"}], \"histogram2dcontour\": [{\"colorbar\": {\"outlinewidth\": 0, \"ticks\": \"\"}, \"colorscale\": [[0.0, \"#0d0887\"], [0.1111111111111111, \"#46039f\"], [0.2222222222222222, \"#7201a8\"], [0.3333333333333333, \"#9c179e\"], [0.4444444444444444, \"#bd3786\"], [0.5555555555555556, \"#d8576b\"], [0.6666666666666666, \"#ed7953\"], [0.7777777777777778, \"#fb9f3a\"], [0.8888888888888888, \"#fdca26\"], [1.0, \"#f0f921\"]], \"type\": \"histogram2dcontour\"}], \"mesh3d\": [{\"colorbar\": {\"outlinewidth\": 0, \"ticks\": \"\"}, \"type\": \"mesh3d\"}], \"parcoords\": [{\"line\": {\"colorbar\": {\"outlinewidth\": 0, \"ticks\": \"\"}}, \"type\": \"parcoords\"}], \"pie\": [{\"automargin\": true, \"type\": \"pie\"}], \"scatter\": [{\"marker\": {\"colorbar\": {\"outlinewidth\": 0, \"ticks\": \"\"}}, \"type\": \"scatter\"}], \"scatter3d\": [{\"line\": {\"colorbar\": {\"outlinewidth\": 0, \"ticks\": \"\"}}, \"marker\": {\"colorbar\": {\"outlinewidth\": 0, \"ticks\": \"\"}}, \"type\": \"scatter3d\"}], \"scattercarpet\": [{\"marker\": {\"colorbar\": {\"outlinewidth\": 0, \"ticks\": \"\"}}, \"type\": \"scattercarpet\"}], \"scattergeo\": [{\"marker\": {\"colorbar\": {\"outlinewidth\": 0, \"ticks\": \"\"}}, \"type\": \"scattergeo\"}], \"scattergl\": [{\"marker\": {\"colorbar\": {\"outlinewidth\": 0, \"ticks\": \"\"}}, \"type\": \"scattergl\"}], \"scattermapbox\": [{\"marker\": {\"colorbar\": {\"outlinewidth\": 0, \"ticks\": \"\"}}, \"type\": \"scattermapbox\"}], \"scatterpolar\": [{\"marker\": {\"colorbar\": {\"outlinewidth\": 0, \"ticks\": \"\"}}, \"type\": \"scatterpolar\"}], \"scatterpolargl\": [{\"marker\": {\"colorbar\": {\"outlinewidth\": 0, \"ticks\": \"\"}}, \"type\": \"scatterpolargl\"}], \"scatterternary\": [{\"marker\": {\"colorbar\": {\"outlinewidth\": 0, \"ticks\": \"\"}}, \"type\": \"scatterternary\"}], \"surface\": [{\"colorbar\": {\"outlinewidth\": 0, \"ticks\": \"\"}, \"colorscale\": [[0.0, \"#0d0887\"], [0.1111111111111111, \"#46039f\"], [0.2222222222222222, \"#7201a8\"], [0.3333333333333333, \"#9c179e\"], [0.4444444444444444, \"#bd3786\"], [0.5555555555555556, \"#d8576b\"], [0.6666666666666666, \"#ed7953\"], [0.7777777777777778, \"#fb9f3a\"], [0.8888888888888888, \"#fdca26\"], [1.0, \"#f0f921\"]], \"type\": \"surface\"}], \"table\": [{\"cells\": {\"fill\": {\"color\": \"#EBF0F8\"}, \"line\": {\"color\": \"white\"}}, \"header\": {\"fill\": {\"color\": \"#C8D4E3\"}, \"line\": {\"color\": \"white\"}}, \"type\": \"table\"}]}, \"layout\": {\"annotationdefaults\": {\"arrowcolor\": \"#2a3f5f\", \"arrowhead\": 0, \"arrowwidth\": 1}, \"coloraxis\": {\"colorbar\": {\"outlinewidth\": 0, \"ticks\": \"\"}}, \"colorscale\": {\"diverging\": [[0, \"#8e0152\"], [0.1, \"#c51b7d\"], [0.2, \"#de77ae\"], [0.3, \"#f1b6da\"], [0.4, \"#fde0ef\"], [0.5, \"#f7f7f7\"], [0.6, \"#e6f5d0\"], [0.7, \"#b8e186\"], [0.8, \"#7fbc41\"], [0.9, \"#4d9221\"], [1, \"#276419\"]], \"sequential\": [[0.0, \"#0d0887\"], [0.1111111111111111, \"#46039f\"], [0.2222222222222222, \"#7201a8\"], [0.3333333333333333, \"#9c179e\"], [0.4444444444444444, \"#bd3786\"], [0.5555555555555556, \"#d8576b\"], [0.6666666666666666, \"#ed7953\"], [0.7777777777777778, \"#fb9f3a\"], [0.8888888888888888, \"#fdca26\"], [1.0, \"#f0f921\"]], \"sequentialminus\": [[0.0, \"#0d0887\"], [0.1111111111111111, \"#46039f\"], [0.2222222222222222, \"#7201a8\"], [0.3333333333333333, \"#9c179e\"], [0.4444444444444444, \"#bd3786\"], [0.5555555555555556, \"#d8576b\"], [0.6666666666666666, \"#ed7953\"], [0.7777777777777778, \"#fb9f3a\"], [0.8888888888888888, \"#fdca26\"], [1.0, \"#f0f921\"]]}, \"colorway\": [\"#636efa\", \"#EF553B\", \"#00cc96\", \"#ab63fa\", \"#FFA15A\", \"#19d3f3\", \"#FF6692\", \"#B6E880\", \"#FF97FF\", \"#FECB52\"], \"font\": {\"color\": \"#2a3f5f\"}, \"geo\": {\"bgcolor\": \"white\", \"lakecolor\": \"white\", \"landcolor\": \"#E5ECF6\", \"showlakes\": true, \"showland\": true, \"subunitcolor\": \"white\"}, \"hoverlabel\": {\"align\": \"left\"}, \"hovermode\": \"closest\", \"mapbox\": {\"style\": \"light\"}, \"paper_bgcolor\": \"white\", \"plot_bgcolor\": \"#E5ECF6\", \"polar\": {\"angularaxis\": {\"gridcolor\": \"white\", \"linecolor\": \"white\", \"ticks\": \"\"}, \"bgcolor\": \"#E5ECF6\", \"radialaxis\": {\"gridcolor\": \"white\", \"linecolor\": \"white\", \"ticks\": \"\"}}, \"scene\": {\"xaxis\": {\"backgroundcolor\": \"#E5ECF6\", \"gridcolor\": \"white\", \"gridwidth\": 2, \"linecolor\": \"white\", \"showbackground\": true, \"ticks\": \"\", \"zerolinecolor\": \"white\"}, \"yaxis\": {\"backgroundcolor\": \"#E5ECF6\", \"gridcolor\": \"white\", \"gridwidth\": 2, \"linecolor\": \"white\", \"showbackground\": true, \"ticks\": \"\", \"zerolinecolor\": \"white\"}, \"zaxis\": {\"backgroundcolor\": \"#E5ECF6\", \"gridcolor\": \"white\", \"gridwidth\": 2, \"linecolor\": \"white\", \"showbackground\": true, \"ticks\": \"\", \"zerolinecolor\": \"white\"}}, \"shapedefaults\": {\"line\": {\"color\": \"#2a3f5f\"}}, \"ternary\": {\"aaxis\": {\"gridcolor\": \"white\", \"linecolor\": \"white\", \"ticks\": \"\"}, \"baxis\": {\"gridcolor\": \"white\", \"linecolor\": \"white\", \"ticks\": \"\"}, \"bgcolor\": \"#E5ECF6\", \"caxis\": {\"gridcolor\": \"white\", \"linecolor\": \"white\", \"ticks\": \"\"}}, \"title\": {\"x\": 0.05}, \"xaxis\": {\"automargin\": true, \"gridcolor\": \"white\", \"linecolor\": \"white\", \"ticks\": \"\", \"title\": {\"standoff\": 15}, \"zerolinecolor\": \"white\", \"zerolinewidth\": 2}, \"yaxis\": {\"automargin\": true, \"gridcolor\": \"white\", \"linecolor\": \"white\", \"ticks\": \"\", \"title\": {\"standoff\": 15}, \"zerolinecolor\": \"white\", \"zerolinewidth\": 2}}}, \"xaxis\": {\"anchor\": \"y\", \"domain\": [0.0, 1.0], \"title\": {\"text\": \"x\"}}, \"yaxis\": {\"anchor\": \"x\", \"domain\": [0.0, 1.0], \"title\": {\"text\": \"y\"}}},\n",
       "                        {\"responsive\": true}\n",
       "                    ).then(function(){\n",
       "                            \n",
       "var gd = document.getElementById('13878350-02e9-444f-93eb-e5105a1e1e7f');\n",
       "var x = new MutationObserver(function (mutations, observer) {{\n",
       "        var display = window.getComputedStyle(gd).display;\n",
       "        if (!display || display === 'none') {{\n",
       "            console.log([gd, 'removed!']);\n",
       "            Plotly.purge(gd);\n",
       "            observer.disconnect();\n",
       "        }}\n",
       "}});\n",
       "\n",
       "// Listen for the removal of the full notebook cells\n",
       "var notebookContainer = gd.closest('#notebook-container');\n",
       "if (notebookContainer) {{\n",
       "    x.observe(notebookContainer, {childList: true});\n",
       "}}\n",
       "\n",
       "// Listen for the clearing of the current output cell\n",
       "var outputEl = gd.closest('.output');\n",
       "if (outputEl) {{\n",
       "    x.observe(outputEl, {childList: true});\n",
       "}}\n",
       "\n",
       "                        })\n",
       "                };\n",
       "                });\n",
       "            </script>\n",
       "        </div>"
      ]
     },
     "metadata": {},
     "output_type": "display_data"
    }
   ],
   "source": [
    "fig = px.scatter(x=train_use['ConfirmedCases'], y=train_use['Fatalities'], trendline=\"ols\")\n",
    "fig.show()"
   ]
  },
  {
   "cell_type": "markdown",
   "metadata": {},
   "source": [
    "average days to death from the Virus is 18.5 days\n",
    "\n",
    "https://www.telegraph.co.uk/news/2020/03/12/coronavirus-kills-average-185-days/"
   ]
  },
  {
   "cell_type": "code",
   "execution_count": 131,
   "metadata": {},
   "outputs": [],
   "source": [
    "train_use['Fatalities_inc'] = train_use['Fatalities'] - train_use['Fatalities'].shift(periods=1).fillna(0)"
   ]
  },
  {
   "cell_type": "code",
   "execution_count": 142,
   "metadata": {},
   "outputs": [],
   "source": [
    "train_use['ConfirmedCases_inc_lfd'] = train_use['ConfirmedCases'].shift(periods=10) - train_use['ConfirmedCases'].shift(periods=30)"
   ]
  },
  {
   "cell_type": "code",
   "execution_count": 143,
   "metadata": {},
   "outputs": [
    {
     "data": {
      "text/html": [
       "<div>\n",
       "<style scoped>\n",
       "    .dataframe tbody tr th:only-of-type {\n",
       "        vertical-align: middle;\n",
       "    }\n",
       "\n",
       "    .dataframe tbody tr th {\n",
       "        vertical-align: top;\n",
       "    }\n",
       "\n",
       "    .dataframe thead th {\n",
       "        text-align: right;\n",
       "    }\n",
       "</style>\n",
       "<table border=\"1\" class=\"dataframe\">\n",
       "  <thead>\n",
       "    <tr style=\"text-align: right;\">\n",
       "      <th></th>\n",
       "      <th>Date</th>\n",
       "      <th>Fatalities</th>\n",
       "      <th>ConfirmedCases</th>\n",
       "      <th>ConfirmedCases_lagn</th>\n",
       "      <th>ConfirmedCases_inc</th>\n",
       "      <th>ConfirmedCases_inc_lfd</th>\n",
       "      <th>Fatalities_inc</th>\n",
       "    </tr>\n",
       "  </thead>\n",
       "  <tbody>\n",
       "    <tr>\n",
       "      <th>4824</th>\n",
       "      <td>2020-01-22</td>\n",
       "      <td>17.0</td>\n",
       "      <td>444.0</td>\n",
       "      <td>NaN</td>\n",
       "      <td>444.0</td>\n",
       "      <td>NaN</td>\n",
       "      <td>17.0</td>\n",
       "    </tr>\n",
       "    <tr>\n",
       "      <th>4825</th>\n",
       "      <td>2020-01-23</td>\n",
       "      <td>17.0</td>\n",
       "      <td>444.0</td>\n",
       "      <td>NaN</td>\n",
       "      <td>0.0</td>\n",
       "      <td>NaN</td>\n",
       "      <td>0.0</td>\n",
       "    </tr>\n",
       "    <tr>\n",
       "      <th>4826</th>\n",
       "      <td>2020-01-24</td>\n",
       "      <td>24.0</td>\n",
       "      <td>549.0</td>\n",
       "      <td>NaN</td>\n",
       "      <td>105.0</td>\n",
       "      <td>NaN</td>\n",
       "      <td>7.0</td>\n",
       "    </tr>\n",
       "    <tr>\n",
       "      <th>4827</th>\n",
       "      <td>2020-01-25</td>\n",
       "      <td>40.0</td>\n",
       "      <td>761.0</td>\n",
       "      <td>NaN</td>\n",
       "      <td>212.0</td>\n",
       "      <td>NaN</td>\n",
       "      <td>16.0</td>\n",
       "    </tr>\n",
       "    <tr>\n",
       "      <th>4828</th>\n",
       "      <td>2020-01-26</td>\n",
       "      <td>52.0</td>\n",
       "      <td>1058.0</td>\n",
       "      <td>NaN</td>\n",
       "      <td>297.0</td>\n",
       "      <td>NaN</td>\n",
       "      <td>12.0</td>\n",
       "    </tr>\n",
       "    <tr>\n",
       "      <th>4829</th>\n",
       "      <td>2020-01-27</td>\n",
       "      <td>76.0</td>\n",
       "      <td>1423.0</td>\n",
       "      <td>444.0</td>\n",
       "      <td>365.0</td>\n",
       "      <td>NaN</td>\n",
       "      <td>24.0</td>\n",
       "    </tr>\n",
       "    <tr>\n",
       "      <th>4830</th>\n",
       "      <td>2020-01-28</td>\n",
       "      <td>125.0</td>\n",
       "      <td>3554.0</td>\n",
       "      <td>444.0</td>\n",
       "      <td>2131.0</td>\n",
       "      <td>NaN</td>\n",
       "      <td>49.0</td>\n",
       "    </tr>\n",
       "    <tr>\n",
       "      <th>4831</th>\n",
       "      <td>2020-01-29</td>\n",
       "      <td>125.0</td>\n",
       "      <td>3554.0</td>\n",
       "      <td>549.0</td>\n",
       "      <td>0.0</td>\n",
       "      <td>NaN</td>\n",
       "      <td>0.0</td>\n",
       "    </tr>\n",
       "    <tr>\n",
       "      <th>4832</th>\n",
       "      <td>2020-01-30</td>\n",
       "      <td>162.0</td>\n",
       "      <td>4903.0</td>\n",
       "      <td>761.0</td>\n",
       "      <td>1349.0</td>\n",
       "      <td>NaN</td>\n",
       "      <td>37.0</td>\n",
       "    </tr>\n",
       "    <tr>\n",
       "      <th>4833</th>\n",
       "      <td>2020-01-31</td>\n",
       "      <td>204.0</td>\n",
       "      <td>5806.0</td>\n",
       "      <td>1058.0</td>\n",
       "      <td>903.0</td>\n",
       "      <td>NaN</td>\n",
       "      <td>42.0</td>\n",
       "    </tr>\n",
       "    <tr>\n",
       "      <th>4834</th>\n",
       "      <td>2020-02-01</td>\n",
       "      <td>249.0</td>\n",
       "      <td>7153.0</td>\n",
       "      <td>1423.0</td>\n",
       "      <td>1347.0</td>\n",
       "      <td>NaN</td>\n",
       "      <td>45.0</td>\n",
       "    </tr>\n",
       "    <tr>\n",
       "      <th>4835</th>\n",
       "      <td>2020-02-02</td>\n",
       "      <td>350.0</td>\n",
       "      <td>11177.0</td>\n",
       "      <td>3554.0</td>\n",
       "      <td>4024.0</td>\n",
       "      <td>NaN</td>\n",
       "      <td>101.0</td>\n",
       "    </tr>\n",
       "    <tr>\n",
       "      <th>4836</th>\n",
       "      <td>2020-02-03</td>\n",
       "      <td>414.0</td>\n",
       "      <td>13522.0</td>\n",
       "      <td>3554.0</td>\n",
       "      <td>2345.0</td>\n",
       "      <td>NaN</td>\n",
       "      <td>64.0</td>\n",
       "    </tr>\n",
       "    <tr>\n",
       "      <th>4837</th>\n",
       "      <td>2020-02-04</td>\n",
       "      <td>479.0</td>\n",
       "      <td>16678.0</td>\n",
       "      <td>4903.0</td>\n",
       "      <td>3156.0</td>\n",
       "      <td>NaN</td>\n",
       "      <td>65.0</td>\n",
       "    </tr>\n",
       "    <tr>\n",
       "      <th>4838</th>\n",
       "      <td>2020-02-05</td>\n",
       "      <td>549.0</td>\n",
       "      <td>19665.0</td>\n",
       "      <td>5806.0</td>\n",
       "      <td>2987.0</td>\n",
       "      <td>NaN</td>\n",
       "      <td>70.0</td>\n",
       "    </tr>\n",
       "    <tr>\n",
       "      <th>4839</th>\n",
       "      <td>2020-02-06</td>\n",
       "      <td>618.0</td>\n",
       "      <td>22112.0</td>\n",
       "      <td>7153.0</td>\n",
       "      <td>2447.0</td>\n",
       "      <td>NaN</td>\n",
       "      <td>69.0</td>\n",
       "    </tr>\n",
       "    <tr>\n",
       "      <th>4840</th>\n",
       "      <td>2020-02-07</td>\n",
       "      <td>699.0</td>\n",
       "      <td>24953.0</td>\n",
       "      <td>11177.0</td>\n",
       "      <td>2841.0</td>\n",
       "      <td>NaN</td>\n",
       "      <td>81.0</td>\n",
       "    </tr>\n",
       "    <tr>\n",
       "      <th>4841</th>\n",
       "      <td>2020-02-08</td>\n",
       "      <td>780.0</td>\n",
       "      <td>27100.0</td>\n",
       "      <td>13522.0</td>\n",
       "      <td>2147.0</td>\n",
       "      <td>NaN</td>\n",
       "      <td>81.0</td>\n",
       "    </tr>\n",
       "    <tr>\n",
       "      <th>4842</th>\n",
       "      <td>2020-02-09</td>\n",
       "      <td>871.0</td>\n",
       "      <td>29631.0</td>\n",
       "      <td>16678.0</td>\n",
       "      <td>2531.0</td>\n",
       "      <td>NaN</td>\n",
       "      <td>91.0</td>\n",
       "    </tr>\n",
       "    <tr>\n",
       "      <th>4843</th>\n",
       "      <td>2020-02-10</td>\n",
       "      <td>974.0</td>\n",
       "      <td>31728.0</td>\n",
       "      <td>19665.0</td>\n",
       "      <td>2097.0</td>\n",
       "      <td>NaN</td>\n",
       "      <td>103.0</td>\n",
       "    </tr>\n",
       "    <tr>\n",
       "      <th>4844</th>\n",
       "      <td>2020-02-11</td>\n",
       "      <td>1068.0</td>\n",
       "      <td>33366.0</td>\n",
       "      <td>22112.0</td>\n",
       "      <td>1638.0</td>\n",
       "      <td>NaN</td>\n",
       "      <td>94.0</td>\n",
       "    </tr>\n",
       "    <tr>\n",
       "      <th>4845</th>\n",
       "      <td>2020-02-12</td>\n",
       "      <td>1068.0</td>\n",
       "      <td>33366.0</td>\n",
       "      <td>24953.0</td>\n",
       "      <td>0.0</td>\n",
       "      <td>NaN</td>\n",
       "      <td>0.0</td>\n",
       "    </tr>\n",
       "    <tr>\n",
       "      <th>4846</th>\n",
       "      <td>2020-02-13</td>\n",
       "      <td>1310.0</td>\n",
       "      <td>48206.0</td>\n",
       "      <td>27100.0</td>\n",
       "      <td>14840.0</td>\n",
       "      <td>NaN</td>\n",
       "      <td>242.0</td>\n",
       "    </tr>\n",
       "    <tr>\n",
       "      <th>4847</th>\n",
       "      <td>2020-02-14</td>\n",
       "      <td>1457.0</td>\n",
       "      <td>54406.0</td>\n",
       "      <td>29631.0</td>\n",
       "      <td>6200.0</td>\n",
       "      <td>NaN</td>\n",
       "      <td>147.0</td>\n",
       "    </tr>\n",
       "    <tr>\n",
       "      <th>4848</th>\n",
       "      <td>2020-02-15</td>\n",
       "      <td>1596.0</td>\n",
       "      <td>56249.0</td>\n",
       "      <td>31728.0</td>\n",
       "      <td>1843.0</td>\n",
       "      <td>NaN</td>\n",
       "      <td>139.0</td>\n",
       "    </tr>\n",
       "    <tr>\n",
       "      <th>4849</th>\n",
       "      <td>2020-02-16</td>\n",
       "      <td>1696.0</td>\n",
       "      <td>58182.0</td>\n",
       "      <td>33366.0</td>\n",
       "      <td>1933.0</td>\n",
       "      <td>NaN</td>\n",
       "      <td>100.0</td>\n",
       "    </tr>\n",
       "    <tr>\n",
       "      <th>4850</th>\n",
       "      <td>2020-02-17</td>\n",
       "      <td>1789.0</td>\n",
       "      <td>59989.0</td>\n",
       "      <td>33366.0</td>\n",
       "      <td>1807.0</td>\n",
       "      <td>NaN</td>\n",
       "      <td>93.0</td>\n",
       "    </tr>\n",
       "    <tr>\n",
       "      <th>4851</th>\n",
       "      <td>2020-02-18</td>\n",
       "      <td>1921.0</td>\n",
       "      <td>61682.0</td>\n",
       "      <td>48206.0</td>\n",
       "      <td>1693.0</td>\n",
       "      <td>NaN</td>\n",
       "      <td>132.0</td>\n",
       "    </tr>\n",
       "    <tr>\n",
       "      <th>4852</th>\n",
       "      <td>2020-02-19</td>\n",
       "      <td>2029.0</td>\n",
       "      <td>62031.0</td>\n",
       "      <td>54406.0</td>\n",
       "      <td>349.0</td>\n",
       "      <td>NaN</td>\n",
       "      <td>108.0</td>\n",
       "    </tr>\n",
       "    <tr>\n",
       "      <th>4853</th>\n",
       "      <td>2020-02-20</td>\n",
       "      <td>2144.0</td>\n",
       "      <td>62442.0</td>\n",
       "      <td>56249.0</td>\n",
       "      <td>411.0</td>\n",
       "      <td>NaN</td>\n",
       "      <td>115.0</td>\n",
       "    </tr>\n",
       "    <tr>\n",
       "      <th>4854</th>\n",
       "      <td>2020-02-21</td>\n",
       "      <td>2144.0</td>\n",
       "      <td>62662.0</td>\n",
       "      <td>58182.0</td>\n",
       "      <td>220.0</td>\n",
       "      <td>32922.0</td>\n",
       "      <td>0.0</td>\n",
       "    </tr>\n",
       "    <tr>\n",
       "      <th>4855</th>\n",
       "      <td>2020-02-22</td>\n",
       "      <td>2346.0</td>\n",
       "      <td>64084.0</td>\n",
       "      <td>59989.0</td>\n",
       "      <td>1422.0</td>\n",
       "      <td>32922.0</td>\n",
       "      <td>202.0</td>\n",
       "    </tr>\n",
       "    <tr>\n",
       "      <th>4856</th>\n",
       "      <td>2020-02-23</td>\n",
       "      <td>2346.0</td>\n",
       "      <td>64084.0</td>\n",
       "      <td>61682.0</td>\n",
       "      <td>0.0</td>\n",
       "      <td>47657.0</td>\n",
       "      <td>0.0</td>\n",
       "    </tr>\n",
       "    <tr>\n",
       "      <th>4857</th>\n",
       "      <td>2020-02-24</td>\n",
       "      <td>2495.0</td>\n",
       "      <td>64287.0</td>\n",
       "      <td>62031.0</td>\n",
       "      <td>203.0</td>\n",
       "      <td>53645.0</td>\n",
       "      <td>149.0</td>\n",
       "    </tr>\n",
       "    <tr>\n",
       "      <th>4858</th>\n",
       "      <td>2020-02-25</td>\n",
       "      <td>2563.0</td>\n",
       "      <td>64786.0</td>\n",
       "      <td>62442.0</td>\n",
       "      <td>499.0</td>\n",
       "      <td>55191.0</td>\n",
       "      <td>68.0</td>\n",
       "    </tr>\n",
       "    <tr>\n",
       "      <th>4859</th>\n",
       "      <td>2020-02-26</td>\n",
       "      <td>2615.0</td>\n",
       "      <td>65187.0</td>\n",
       "      <td>62662.0</td>\n",
       "      <td>401.0</td>\n",
       "      <td>56759.0</td>\n",
       "      <td>52.0</td>\n",
       "    </tr>\n",
       "    <tr>\n",
       "      <th>4860</th>\n",
       "      <td>2020-02-27</td>\n",
       "      <td>2641.0</td>\n",
       "      <td>65596.0</td>\n",
       "      <td>64084.0</td>\n",
       "      <td>409.0</td>\n",
       "      <td>56435.0</td>\n",
       "      <td>26.0</td>\n",
       "    </tr>\n",
       "    <tr>\n",
       "      <th>4861</th>\n",
       "      <td>2020-02-28</td>\n",
       "      <td>2682.0</td>\n",
       "      <td>65914.0</td>\n",
       "      <td>64084.0</td>\n",
       "      <td>318.0</td>\n",
       "      <td>58128.0</td>\n",
       "      <td>41.0</td>\n",
       "    </tr>\n",
       "    <tr>\n",
       "      <th>4862</th>\n",
       "      <td>2020-02-29</td>\n",
       "      <td>2727.0</td>\n",
       "      <td>66337.0</td>\n",
       "      <td>64287.0</td>\n",
       "      <td>423.0</td>\n",
       "      <td>57128.0</td>\n",
       "      <td>45.0</td>\n",
       "    </tr>\n",
       "    <tr>\n",
       "      <th>4863</th>\n",
       "      <td>2020-03-01</td>\n",
       "      <td>2761.0</td>\n",
       "      <td>66907.0</td>\n",
       "      <td>64786.0</td>\n",
       "      <td>570.0</td>\n",
       "      <td>56636.0</td>\n",
       "      <td>34.0</td>\n",
       "    </tr>\n",
       "  </tbody>\n",
       "</table>\n",
       "</div>"
      ],
      "text/plain": [
       "            Date  Fatalities  ConfirmedCases  ConfirmedCases_lagn  \\\n",
       "4824  2020-01-22        17.0           444.0                  NaN   \n",
       "4825  2020-01-23        17.0           444.0                  NaN   \n",
       "4826  2020-01-24        24.0           549.0                  NaN   \n",
       "4827  2020-01-25        40.0           761.0                  NaN   \n",
       "4828  2020-01-26        52.0          1058.0                  NaN   \n",
       "4829  2020-01-27        76.0          1423.0                444.0   \n",
       "4830  2020-01-28       125.0          3554.0                444.0   \n",
       "4831  2020-01-29       125.0          3554.0                549.0   \n",
       "4832  2020-01-30       162.0          4903.0                761.0   \n",
       "4833  2020-01-31       204.0          5806.0               1058.0   \n",
       "4834  2020-02-01       249.0          7153.0               1423.0   \n",
       "4835  2020-02-02       350.0         11177.0               3554.0   \n",
       "4836  2020-02-03       414.0         13522.0               3554.0   \n",
       "4837  2020-02-04       479.0         16678.0               4903.0   \n",
       "4838  2020-02-05       549.0         19665.0               5806.0   \n",
       "4839  2020-02-06       618.0         22112.0               7153.0   \n",
       "4840  2020-02-07       699.0         24953.0              11177.0   \n",
       "4841  2020-02-08       780.0         27100.0              13522.0   \n",
       "4842  2020-02-09       871.0         29631.0              16678.0   \n",
       "4843  2020-02-10       974.0         31728.0              19665.0   \n",
       "4844  2020-02-11      1068.0         33366.0              22112.0   \n",
       "4845  2020-02-12      1068.0         33366.0              24953.0   \n",
       "4846  2020-02-13      1310.0         48206.0              27100.0   \n",
       "4847  2020-02-14      1457.0         54406.0              29631.0   \n",
       "4848  2020-02-15      1596.0         56249.0              31728.0   \n",
       "4849  2020-02-16      1696.0         58182.0              33366.0   \n",
       "4850  2020-02-17      1789.0         59989.0              33366.0   \n",
       "4851  2020-02-18      1921.0         61682.0              48206.0   \n",
       "4852  2020-02-19      2029.0         62031.0              54406.0   \n",
       "4853  2020-02-20      2144.0         62442.0              56249.0   \n",
       "4854  2020-02-21      2144.0         62662.0              58182.0   \n",
       "4855  2020-02-22      2346.0         64084.0              59989.0   \n",
       "4856  2020-02-23      2346.0         64084.0              61682.0   \n",
       "4857  2020-02-24      2495.0         64287.0              62031.0   \n",
       "4858  2020-02-25      2563.0         64786.0              62442.0   \n",
       "4859  2020-02-26      2615.0         65187.0              62662.0   \n",
       "4860  2020-02-27      2641.0         65596.0              64084.0   \n",
       "4861  2020-02-28      2682.0         65914.0              64084.0   \n",
       "4862  2020-02-29      2727.0         66337.0              64287.0   \n",
       "4863  2020-03-01      2761.0         66907.0              64786.0   \n",
       "\n",
       "      ConfirmedCases_inc  ConfirmedCases_inc_lfd  Fatalities_inc  \n",
       "4824               444.0                     NaN            17.0  \n",
       "4825                 0.0                     NaN             0.0  \n",
       "4826               105.0                     NaN             7.0  \n",
       "4827               212.0                     NaN            16.0  \n",
       "4828               297.0                     NaN            12.0  \n",
       "4829               365.0                     NaN            24.0  \n",
       "4830              2131.0                     NaN            49.0  \n",
       "4831                 0.0                     NaN             0.0  \n",
       "4832              1349.0                     NaN            37.0  \n",
       "4833               903.0                     NaN            42.0  \n",
       "4834              1347.0                     NaN            45.0  \n",
       "4835              4024.0                     NaN           101.0  \n",
       "4836              2345.0                     NaN            64.0  \n",
       "4837              3156.0                     NaN            65.0  \n",
       "4838              2987.0                     NaN            70.0  \n",
       "4839              2447.0                     NaN            69.0  \n",
       "4840              2841.0                     NaN            81.0  \n",
       "4841              2147.0                     NaN            81.0  \n",
       "4842              2531.0                     NaN            91.0  \n",
       "4843              2097.0                     NaN           103.0  \n",
       "4844              1638.0                     NaN            94.0  \n",
       "4845                 0.0                     NaN             0.0  \n",
       "4846             14840.0                     NaN           242.0  \n",
       "4847              6200.0                     NaN           147.0  \n",
       "4848              1843.0                     NaN           139.0  \n",
       "4849              1933.0                     NaN           100.0  \n",
       "4850              1807.0                     NaN            93.0  \n",
       "4851              1693.0                     NaN           132.0  \n",
       "4852               349.0                     NaN           108.0  \n",
       "4853               411.0                     NaN           115.0  \n",
       "4854               220.0                 32922.0             0.0  \n",
       "4855              1422.0                 32922.0           202.0  \n",
       "4856                 0.0                 47657.0             0.0  \n",
       "4857               203.0                 53645.0           149.0  \n",
       "4858               499.0                 55191.0            68.0  \n",
       "4859               401.0                 56759.0            52.0  \n",
       "4860               409.0                 56435.0            26.0  \n",
       "4861               318.0                 58128.0            41.0  \n",
       "4862               423.0                 57128.0            45.0  \n",
       "4863               570.0                 56636.0            34.0  "
      ]
     },
     "execution_count": 143,
     "metadata": {},
     "output_type": "execute_result"
    }
   ],
   "source": [
    "train_use[['Date','Fatalities','ConfirmedCases','ConfirmedCases_lagn','ConfirmedCases_inc','ConfirmedCases_inc_lfd','Fatalities_inc']].head(40)"
   ]
  },
  {
   "cell_type": "code",
   "execution_count": 144,
   "metadata": {},
   "outputs": [
    {
     "data": {
      "application/vnd.plotly.v1+json": {
       "config": {
        "plotlyServerURL": "https://plot.ly"
       },
       "data": [
        {
         "hovertemplate": "x=%{x}<br>y=%{y}<extra></extra>",
         "legendgroup": "",
         "marker": {
          "color": "#636efa",
          "symbol": "circle"
         },
         "mode": "markers",
         "name": "",
         "showlegend": false,
         "type": "scatter",
         "x": [
          32922,
          32922,
          47657,
          53645,
          55191,
          56759,
          56435,
          58128,
          57128,
          56636,
          55509,
          52907,
          50562,
          47609,
          45121,
          43075,
          40643,
          38814,
          36706,
          35179,
          33737,
          33851,
          19126,
          13060,
          11343,
          9484,
          7718,
          6061,
          5729,
          5331,
          5119,
          3702,
          3706,
          3507,
          3012,
          2612,
          2204,
          1886,
          1463,
          893,
          697,
          583
         ],
         "xaxis": "x",
         "y": [
          0,
          202,
          0,
          149,
          68,
          52,
          26,
          41,
          45,
          34,
          42,
          32,
          36,
          31,
          29,
          28,
          27,
          22,
          16,
          22,
          10,
          6,
          13,
          10,
          14,
          12,
          11,
          8,
          3,
          6,
          14,
          0,
          7,
          3,
          6,
          5,
          3,
          5,
          4,
          1,
          6,
          6
         ],
         "yaxis": "y"
        },
        {
         "hovertemplate": "<b>OLS trendline</b><br>y = 0.000804853 * x + 3.49587<br>R<sup>2</sup>=0.217359<br><br>x=%{x}<br>y=%{y} <b>(trend)</b><extra></extra>",
         "legendgroup": "",
         "marker": {
          "color": "#636efa",
          "symbol": "circle"
         },
         "mode": "lines",
         "name": "",
         "showlegend": false,
         "type": "scatter",
         "x": [
          583,
          697,
          893,
          1463,
          1886,
          2204,
          2612,
          3012,
          3507,
          3702,
          3706,
          5119,
          5331,
          5729,
          6061,
          7718,
          9484,
          11343,
          13060,
          19126,
          32922,
          32922,
          33737,
          33851,
          35179,
          36706,
          38814,
          40643,
          43075,
          45121,
          47609,
          47657,
          50562,
          52907,
          53645,
          55191,
          55509,
          56435,
          56636,
          56759,
          57128,
          58128
         ],
         "xaxis": "x",
         "y": [
          3.965101742172112,
          4.056854960220425,
          4.214606107040331,
          4.673372197281896,
          5.01382492740853,
          5.26976811459593,
          5.598148052874102,
          5.920089168833094,
          6.318491299832348,
          6.475437593862357,
          6.478657005021947,
          7.615913997147088,
          7.786542788605354,
          8.106874198984553,
          8.374085325230515,
          9.707726398090642,
          11.129096425049596,
          12.625317761469013,
          14.007250001722989,
          18.88948702524111,
          29.993236114666768,
          29.993236114666768,
          30.649191138433213,
          30.740944356481528,
          31.809788861465382,
          33.038799071638834,
          34.73542875274273,
          36.207504505465224,
          38.164906490495895,
          39.81163529862614,
          41.81410903989108,
          41.85274197380616,
          44.19083932845834,
          46.07821912076794,
          46.672200479712274,
          47.91650289289379,
          48.17244608008119,
          48.91773976352626,
          49.079515174295636,
          49.17851206745303,
          49.4755027469252,
          50.28035553682268
         ],
         "yaxis": "y"
        }
       ],
       "layout": {
        "legend": {
         "tracegroupgap": 0
        },
        "margin": {
         "t": 60
        },
        "template": {
         "data": {
          "bar": [
           {
            "error_x": {
             "color": "#2a3f5f"
            },
            "error_y": {
             "color": "#2a3f5f"
            },
            "marker": {
             "line": {
              "color": "#E5ECF6",
              "width": 0.5
             }
            },
            "type": "bar"
           }
          ],
          "barpolar": [
           {
            "marker": {
             "line": {
              "color": "#E5ECF6",
              "width": 0.5
             }
            },
            "type": "barpolar"
           }
          ],
          "carpet": [
           {
            "aaxis": {
             "endlinecolor": "#2a3f5f",
             "gridcolor": "white",
             "linecolor": "white",
             "minorgridcolor": "white",
             "startlinecolor": "#2a3f5f"
            },
            "baxis": {
             "endlinecolor": "#2a3f5f",
             "gridcolor": "white",
             "linecolor": "white",
             "minorgridcolor": "white",
             "startlinecolor": "#2a3f5f"
            },
            "type": "carpet"
           }
          ],
          "choropleth": [
           {
            "colorbar": {
             "outlinewidth": 0,
             "ticks": ""
            },
            "type": "choropleth"
           }
          ],
          "contour": [
           {
            "colorbar": {
             "outlinewidth": 0,
             "ticks": ""
            },
            "colorscale": [
             [
              0,
              "#0d0887"
             ],
             [
              0.1111111111111111,
              "#46039f"
             ],
             [
              0.2222222222222222,
              "#7201a8"
             ],
             [
              0.3333333333333333,
              "#9c179e"
             ],
             [
              0.4444444444444444,
              "#bd3786"
             ],
             [
              0.5555555555555556,
              "#d8576b"
             ],
             [
              0.6666666666666666,
              "#ed7953"
             ],
             [
              0.7777777777777778,
              "#fb9f3a"
             ],
             [
              0.8888888888888888,
              "#fdca26"
             ],
             [
              1,
              "#f0f921"
             ]
            ],
            "type": "contour"
           }
          ],
          "contourcarpet": [
           {
            "colorbar": {
             "outlinewidth": 0,
             "ticks": ""
            },
            "type": "contourcarpet"
           }
          ],
          "heatmap": [
           {
            "colorbar": {
             "outlinewidth": 0,
             "ticks": ""
            },
            "colorscale": [
             [
              0,
              "#0d0887"
             ],
             [
              0.1111111111111111,
              "#46039f"
             ],
             [
              0.2222222222222222,
              "#7201a8"
             ],
             [
              0.3333333333333333,
              "#9c179e"
             ],
             [
              0.4444444444444444,
              "#bd3786"
             ],
             [
              0.5555555555555556,
              "#d8576b"
             ],
             [
              0.6666666666666666,
              "#ed7953"
             ],
             [
              0.7777777777777778,
              "#fb9f3a"
             ],
             [
              0.8888888888888888,
              "#fdca26"
             ],
             [
              1,
              "#f0f921"
             ]
            ],
            "type": "heatmap"
           }
          ],
          "heatmapgl": [
           {
            "colorbar": {
             "outlinewidth": 0,
             "ticks": ""
            },
            "colorscale": [
             [
              0,
              "#0d0887"
             ],
             [
              0.1111111111111111,
              "#46039f"
             ],
             [
              0.2222222222222222,
              "#7201a8"
             ],
             [
              0.3333333333333333,
              "#9c179e"
             ],
             [
              0.4444444444444444,
              "#bd3786"
             ],
             [
              0.5555555555555556,
              "#d8576b"
             ],
             [
              0.6666666666666666,
              "#ed7953"
             ],
             [
              0.7777777777777778,
              "#fb9f3a"
             ],
             [
              0.8888888888888888,
              "#fdca26"
             ],
             [
              1,
              "#f0f921"
             ]
            ],
            "type": "heatmapgl"
           }
          ],
          "histogram": [
           {
            "marker": {
             "colorbar": {
              "outlinewidth": 0,
              "ticks": ""
             }
            },
            "type": "histogram"
           }
          ],
          "histogram2d": [
           {
            "colorbar": {
             "outlinewidth": 0,
             "ticks": ""
            },
            "colorscale": [
             [
              0,
              "#0d0887"
             ],
             [
              0.1111111111111111,
              "#46039f"
             ],
             [
              0.2222222222222222,
              "#7201a8"
             ],
             [
              0.3333333333333333,
              "#9c179e"
             ],
             [
              0.4444444444444444,
              "#bd3786"
             ],
             [
              0.5555555555555556,
              "#d8576b"
             ],
             [
              0.6666666666666666,
              "#ed7953"
             ],
             [
              0.7777777777777778,
              "#fb9f3a"
             ],
             [
              0.8888888888888888,
              "#fdca26"
             ],
             [
              1,
              "#f0f921"
             ]
            ],
            "type": "histogram2d"
           }
          ],
          "histogram2dcontour": [
           {
            "colorbar": {
             "outlinewidth": 0,
             "ticks": ""
            },
            "colorscale": [
             [
              0,
              "#0d0887"
             ],
             [
              0.1111111111111111,
              "#46039f"
             ],
             [
              0.2222222222222222,
              "#7201a8"
             ],
             [
              0.3333333333333333,
              "#9c179e"
             ],
             [
              0.4444444444444444,
              "#bd3786"
             ],
             [
              0.5555555555555556,
              "#d8576b"
             ],
             [
              0.6666666666666666,
              "#ed7953"
             ],
             [
              0.7777777777777778,
              "#fb9f3a"
             ],
             [
              0.8888888888888888,
              "#fdca26"
             ],
             [
              1,
              "#f0f921"
             ]
            ],
            "type": "histogram2dcontour"
           }
          ],
          "mesh3d": [
           {
            "colorbar": {
             "outlinewidth": 0,
             "ticks": ""
            },
            "type": "mesh3d"
           }
          ],
          "parcoords": [
           {
            "line": {
             "colorbar": {
              "outlinewidth": 0,
              "ticks": ""
             }
            },
            "type": "parcoords"
           }
          ],
          "pie": [
           {
            "automargin": true,
            "type": "pie"
           }
          ],
          "scatter": [
           {
            "marker": {
             "colorbar": {
              "outlinewidth": 0,
              "ticks": ""
             }
            },
            "type": "scatter"
           }
          ],
          "scatter3d": [
           {
            "line": {
             "colorbar": {
              "outlinewidth": 0,
              "ticks": ""
             }
            },
            "marker": {
             "colorbar": {
              "outlinewidth": 0,
              "ticks": ""
             }
            },
            "type": "scatter3d"
           }
          ],
          "scattercarpet": [
           {
            "marker": {
             "colorbar": {
              "outlinewidth": 0,
              "ticks": ""
             }
            },
            "type": "scattercarpet"
           }
          ],
          "scattergeo": [
           {
            "marker": {
             "colorbar": {
              "outlinewidth": 0,
              "ticks": ""
             }
            },
            "type": "scattergeo"
           }
          ],
          "scattergl": [
           {
            "marker": {
             "colorbar": {
              "outlinewidth": 0,
              "ticks": ""
             }
            },
            "type": "scattergl"
           }
          ],
          "scattermapbox": [
           {
            "marker": {
             "colorbar": {
              "outlinewidth": 0,
              "ticks": ""
             }
            },
            "type": "scattermapbox"
           }
          ],
          "scatterpolar": [
           {
            "marker": {
             "colorbar": {
              "outlinewidth": 0,
              "ticks": ""
             }
            },
            "type": "scatterpolar"
           }
          ],
          "scatterpolargl": [
           {
            "marker": {
             "colorbar": {
              "outlinewidth": 0,
              "ticks": ""
             }
            },
            "type": "scatterpolargl"
           }
          ],
          "scatterternary": [
           {
            "marker": {
             "colorbar": {
              "outlinewidth": 0,
              "ticks": ""
             }
            },
            "type": "scatterternary"
           }
          ],
          "surface": [
           {
            "colorbar": {
             "outlinewidth": 0,
             "ticks": ""
            },
            "colorscale": [
             [
              0,
              "#0d0887"
             ],
             [
              0.1111111111111111,
              "#46039f"
             ],
             [
              0.2222222222222222,
              "#7201a8"
             ],
             [
              0.3333333333333333,
              "#9c179e"
             ],
             [
              0.4444444444444444,
              "#bd3786"
             ],
             [
              0.5555555555555556,
              "#d8576b"
             ],
             [
              0.6666666666666666,
              "#ed7953"
             ],
             [
              0.7777777777777778,
              "#fb9f3a"
             ],
             [
              0.8888888888888888,
              "#fdca26"
             ],
             [
              1,
              "#f0f921"
             ]
            ],
            "type": "surface"
           }
          ],
          "table": [
           {
            "cells": {
             "fill": {
              "color": "#EBF0F8"
             },
             "line": {
              "color": "white"
             }
            },
            "header": {
             "fill": {
              "color": "#C8D4E3"
             },
             "line": {
              "color": "white"
             }
            },
            "type": "table"
           }
          ]
         },
         "layout": {
          "annotationdefaults": {
           "arrowcolor": "#2a3f5f",
           "arrowhead": 0,
           "arrowwidth": 1
          },
          "coloraxis": {
           "colorbar": {
            "outlinewidth": 0,
            "ticks": ""
           }
          },
          "colorscale": {
           "diverging": [
            [
             0,
             "#8e0152"
            ],
            [
             0.1,
             "#c51b7d"
            ],
            [
             0.2,
             "#de77ae"
            ],
            [
             0.3,
             "#f1b6da"
            ],
            [
             0.4,
             "#fde0ef"
            ],
            [
             0.5,
             "#f7f7f7"
            ],
            [
             0.6,
             "#e6f5d0"
            ],
            [
             0.7,
             "#b8e186"
            ],
            [
             0.8,
             "#7fbc41"
            ],
            [
             0.9,
             "#4d9221"
            ],
            [
             1,
             "#276419"
            ]
           ],
           "sequential": [
            [
             0,
             "#0d0887"
            ],
            [
             0.1111111111111111,
             "#46039f"
            ],
            [
             0.2222222222222222,
             "#7201a8"
            ],
            [
             0.3333333333333333,
             "#9c179e"
            ],
            [
             0.4444444444444444,
             "#bd3786"
            ],
            [
             0.5555555555555556,
             "#d8576b"
            ],
            [
             0.6666666666666666,
             "#ed7953"
            ],
            [
             0.7777777777777778,
             "#fb9f3a"
            ],
            [
             0.8888888888888888,
             "#fdca26"
            ],
            [
             1,
             "#f0f921"
            ]
           ],
           "sequentialminus": [
            [
             0,
             "#0d0887"
            ],
            [
             0.1111111111111111,
             "#46039f"
            ],
            [
             0.2222222222222222,
             "#7201a8"
            ],
            [
             0.3333333333333333,
             "#9c179e"
            ],
            [
             0.4444444444444444,
             "#bd3786"
            ],
            [
             0.5555555555555556,
             "#d8576b"
            ],
            [
             0.6666666666666666,
             "#ed7953"
            ],
            [
             0.7777777777777778,
             "#fb9f3a"
            ],
            [
             0.8888888888888888,
             "#fdca26"
            ],
            [
             1,
             "#f0f921"
            ]
           ]
          },
          "colorway": [
           "#636efa",
           "#EF553B",
           "#00cc96",
           "#ab63fa",
           "#FFA15A",
           "#19d3f3",
           "#FF6692",
           "#B6E880",
           "#FF97FF",
           "#FECB52"
          ],
          "font": {
           "color": "#2a3f5f"
          },
          "geo": {
           "bgcolor": "white",
           "lakecolor": "white",
           "landcolor": "#E5ECF6",
           "showlakes": true,
           "showland": true,
           "subunitcolor": "white"
          },
          "hoverlabel": {
           "align": "left"
          },
          "hovermode": "closest",
          "mapbox": {
           "style": "light"
          },
          "paper_bgcolor": "white",
          "plot_bgcolor": "#E5ECF6",
          "polar": {
           "angularaxis": {
            "gridcolor": "white",
            "linecolor": "white",
            "ticks": ""
           },
           "bgcolor": "#E5ECF6",
           "radialaxis": {
            "gridcolor": "white",
            "linecolor": "white",
            "ticks": ""
           }
          },
          "scene": {
           "xaxis": {
            "backgroundcolor": "#E5ECF6",
            "gridcolor": "white",
            "gridwidth": 2,
            "linecolor": "white",
            "showbackground": true,
            "ticks": "",
            "zerolinecolor": "white"
           },
           "yaxis": {
            "backgroundcolor": "#E5ECF6",
            "gridcolor": "white",
            "gridwidth": 2,
            "linecolor": "white",
            "showbackground": true,
            "ticks": "",
            "zerolinecolor": "white"
           },
           "zaxis": {
            "backgroundcolor": "#E5ECF6",
            "gridcolor": "white",
            "gridwidth": 2,
            "linecolor": "white",
            "showbackground": true,
            "ticks": "",
            "zerolinecolor": "white"
           }
          },
          "shapedefaults": {
           "line": {
            "color": "#2a3f5f"
           }
          },
          "ternary": {
           "aaxis": {
            "gridcolor": "white",
            "linecolor": "white",
            "ticks": ""
           },
           "baxis": {
            "gridcolor": "white",
            "linecolor": "white",
            "ticks": ""
           },
           "bgcolor": "#E5ECF6",
           "caxis": {
            "gridcolor": "white",
            "linecolor": "white",
            "ticks": ""
           }
          },
          "title": {
           "x": 0.05
          },
          "xaxis": {
           "automargin": true,
           "gridcolor": "white",
           "linecolor": "white",
           "ticks": "",
           "title": {
            "standoff": 15
           },
           "zerolinecolor": "white",
           "zerolinewidth": 2
          },
          "yaxis": {
           "automargin": true,
           "gridcolor": "white",
           "linecolor": "white",
           "ticks": "",
           "title": {
            "standoff": 15
           },
           "zerolinecolor": "white",
           "zerolinewidth": 2
          }
         }
        },
        "xaxis": {
         "anchor": "y",
         "domain": [
          0,
          1
         ],
         "title": {
          "text": "x"
         }
        },
        "yaxis": {
         "anchor": "x",
         "domain": [
          0,
          1
         ],
         "title": {
          "text": "y"
         }
        }
       }
      },
      "text/html": [
       "<div>\n",
       "        \n",
       "        \n",
       "            <div id=\"fd9e590d-4643-4313-a7a6-1ab22bc70edb\" class=\"plotly-graph-div\" style=\"height:525px; width:100%;\"></div>\n",
       "            <script type=\"text/javascript\">\n",
       "                require([\"plotly\"], function(Plotly) {\n",
       "                    window.PLOTLYENV=window.PLOTLYENV || {};\n",
       "                    \n",
       "                if (document.getElementById(\"fd9e590d-4643-4313-a7a6-1ab22bc70edb\")) {\n",
       "                    Plotly.newPlot(\n",
       "                        'fd9e590d-4643-4313-a7a6-1ab22bc70edb',\n",
       "                        [{\"hovertemplate\": \"x=%{x}<br>y=%{y}<extra></extra>\", \"legendgroup\": \"\", \"marker\": {\"color\": \"#636efa\", \"symbol\": \"circle\"}, \"mode\": \"markers\", \"name\": \"\", \"showlegend\": false, \"type\": \"scatter\", \"x\": [32922.0, 32922.0, 47657.0, 53645.0, 55191.0, 56759.0, 56435.0, 58128.0, 57128.0, 56636.0, 55509.0, 52907.0, 50562.0, 47609.0, 45121.0, 43075.0, 40643.0, 38814.0, 36706.0, 35179.0, 33737.0, 33851.0, 19126.0, 13060.0, 11343.0, 9484.0, 7718.0, 6061.0, 5729.0, 5331.0, 5119.0, 3702.0, 3706.0, 3507.0, 3012.0, 2612.0, 2204.0, 1886.0, 1463.0, 893.0, 697.0, 583.0], \"xaxis\": \"x\", \"y\": [0.0, 202.0, 0.0, 149.0, 68.0, 52.0, 26.0, 41.0, 45.0, 34.0, 42.0, 32.0, 36.0, 31.0, 29.0, 28.0, 27.0, 22.0, 16.0, 22.0, 10.0, 6.0, 13.0, 10.0, 14.0, 12.0, 11.0, 8.0, 3.0, 6.0, 14.0, 0.0, 7.0, 3.0, 6.0, 5.0, 3.0, 5.0, 4.0, 1.0, 6.0, 6.0], \"yaxis\": \"y\"}, {\"hovertemplate\": \"<b>OLS trendline</b><br>y = 0.000804853 * x + 3.49587<br>R<sup>2</sup>=0.217359<br><br>x=%{x}<br>y=%{y} <b>(trend)</b><extra></extra>\", \"legendgroup\": \"\", \"marker\": {\"color\": \"#636efa\", \"symbol\": \"circle\"}, \"mode\": \"lines\", \"name\": \"\", \"showlegend\": false, \"type\": \"scatter\", \"x\": [583.0, 697.0, 893.0, 1463.0, 1886.0, 2204.0, 2612.0, 3012.0, 3507.0, 3702.0, 3706.0, 5119.0, 5331.0, 5729.0, 6061.0, 7718.0, 9484.0, 11343.0, 13060.0, 19126.0, 32922.0, 32922.0, 33737.0, 33851.0, 35179.0, 36706.0, 38814.0, 40643.0, 43075.0, 45121.0, 47609.0, 47657.0, 50562.0, 52907.0, 53645.0, 55191.0, 55509.0, 56435.0, 56636.0, 56759.0, 57128.0, 58128.0], \"xaxis\": \"x\", \"y\": [3.965101742172112, 4.056854960220425, 4.214606107040331, 4.673372197281896, 5.01382492740853, 5.26976811459593, 5.598148052874102, 5.920089168833094, 6.318491299832348, 6.475437593862357, 6.478657005021947, 7.615913997147088, 7.786542788605354, 8.106874198984553, 8.374085325230515, 9.707726398090642, 11.129096425049596, 12.625317761469013, 14.007250001722989, 18.88948702524111, 29.993236114666768, 29.993236114666768, 30.649191138433213, 30.740944356481528, 31.809788861465382, 33.038799071638834, 34.73542875274273, 36.207504505465224, 38.164906490495895, 39.81163529862614, 41.81410903989108, 41.85274197380616, 44.19083932845834, 46.07821912076794, 46.672200479712274, 47.91650289289379, 48.17244608008119, 48.91773976352626, 49.079515174295636, 49.17851206745303, 49.4755027469252, 50.28035553682268], \"yaxis\": \"y\"}],\n",
       "                        {\"legend\": {\"tracegroupgap\": 0}, \"margin\": {\"t\": 60}, \"template\": {\"data\": {\"bar\": [{\"error_x\": {\"color\": \"#2a3f5f\"}, \"error_y\": {\"color\": \"#2a3f5f\"}, \"marker\": {\"line\": {\"color\": \"#E5ECF6\", \"width\": 0.5}}, \"type\": \"bar\"}], \"barpolar\": [{\"marker\": {\"line\": {\"color\": \"#E5ECF6\", \"width\": 0.5}}, \"type\": \"barpolar\"}], \"carpet\": [{\"aaxis\": {\"endlinecolor\": \"#2a3f5f\", \"gridcolor\": \"white\", \"linecolor\": \"white\", \"minorgridcolor\": \"white\", \"startlinecolor\": \"#2a3f5f\"}, \"baxis\": {\"endlinecolor\": \"#2a3f5f\", \"gridcolor\": \"white\", \"linecolor\": \"white\", \"minorgridcolor\": \"white\", \"startlinecolor\": \"#2a3f5f\"}, \"type\": \"carpet\"}], \"choropleth\": [{\"colorbar\": {\"outlinewidth\": 0, \"ticks\": \"\"}, \"type\": \"choropleth\"}], \"contour\": [{\"colorbar\": {\"outlinewidth\": 0, \"ticks\": \"\"}, \"colorscale\": [[0.0, \"#0d0887\"], [0.1111111111111111, \"#46039f\"], [0.2222222222222222, \"#7201a8\"], [0.3333333333333333, \"#9c179e\"], [0.4444444444444444, \"#bd3786\"], [0.5555555555555556, \"#d8576b\"], [0.6666666666666666, \"#ed7953\"], [0.7777777777777778, \"#fb9f3a\"], [0.8888888888888888, \"#fdca26\"], [1.0, \"#f0f921\"]], \"type\": \"contour\"}], \"contourcarpet\": [{\"colorbar\": {\"outlinewidth\": 0, \"ticks\": \"\"}, \"type\": \"contourcarpet\"}], \"heatmap\": [{\"colorbar\": {\"outlinewidth\": 0, \"ticks\": \"\"}, \"colorscale\": [[0.0, \"#0d0887\"], [0.1111111111111111, \"#46039f\"], [0.2222222222222222, \"#7201a8\"], [0.3333333333333333, \"#9c179e\"], [0.4444444444444444, \"#bd3786\"], [0.5555555555555556, \"#d8576b\"], [0.6666666666666666, \"#ed7953\"], [0.7777777777777778, \"#fb9f3a\"], [0.8888888888888888, \"#fdca26\"], [1.0, \"#f0f921\"]], \"type\": \"heatmap\"}], \"heatmapgl\": [{\"colorbar\": {\"outlinewidth\": 0, \"ticks\": \"\"}, \"colorscale\": [[0.0, \"#0d0887\"], [0.1111111111111111, \"#46039f\"], [0.2222222222222222, \"#7201a8\"], [0.3333333333333333, \"#9c179e\"], [0.4444444444444444, \"#bd3786\"], [0.5555555555555556, \"#d8576b\"], [0.6666666666666666, \"#ed7953\"], [0.7777777777777778, \"#fb9f3a\"], [0.8888888888888888, \"#fdca26\"], [1.0, \"#f0f921\"]], \"type\": \"heatmapgl\"}], \"histogram\": [{\"marker\": {\"colorbar\": {\"outlinewidth\": 0, \"ticks\": \"\"}}, \"type\": \"histogram\"}], \"histogram2d\": [{\"colorbar\": {\"outlinewidth\": 0, \"ticks\": \"\"}, \"colorscale\": [[0.0, \"#0d0887\"], [0.1111111111111111, \"#46039f\"], [0.2222222222222222, \"#7201a8\"], [0.3333333333333333, \"#9c179e\"], [0.4444444444444444, \"#bd3786\"], [0.5555555555555556, \"#d8576b\"], [0.6666666666666666, \"#ed7953\"], [0.7777777777777778, \"#fb9f3a\"], [0.8888888888888888, \"#fdca26\"], [1.0, \"#f0f921\"]], \"type\": \"histogram2d\"}], \"histogram2dcontour\": [{\"colorbar\": {\"outlinewidth\": 0, \"ticks\": \"\"}, \"colorscale\": [[0.0, \"#0d0887\"], [0.1111111111111111, \"#46039f\"], [0.2222222222222222, \"#7201a8\"], [0.3333333333333333, \"#9c179e\"], [0.4444444444444444, \"#bd3786\"], [0.5555555555555556, \"#d8576b\"], [0.6666666666666666, \"#ed7953\"], [0.7777777777777778, \"#fb9f3a\"], [0.8888888888888888, \"#fdca26\"], [1.0, \"#f0f921\"]], \"type\": \"histogram2dcontour\"}], \"mesh3d\": [{\"colorbar\": {\"outlinewidth\": 0, \"ticks\": \"\"}, \"type\": \"mesh3d\"}], \"parcoords\": [{\"line\": {\"colorbar\": {\"outlinewidth\": 0, \"ticks\": \"\"}}, \"type\": \"parcoords\"}], \"pie\": [{\"automargin\": true, \"type\": \"pie\"}], \"scatter\": [{\"marker\": {\"colorbar\": {\"outlinewidth\": 0, \"ticks\": \"\"}}, \"type\": \"scatter\"}], \"scatter3d\": [{\"line\": {\"colorbar\": {\"outlinewidth\": 0, \"ticks\": \"\"}}, \"marker\": {\"colorbar\": {\"outlinewidth\": 0, \"ticks\": \"\"}}, \"type\": \"scatter3d\"}], \"scattercarpet\": [{\"marker\": {\"colorbar\": {\"outlinewidth\": 0, \"ticks\": \"\"}}, \"type\": \"scattercarpet\"}], \"scattergeo\": [{\"marker\": {\"colorbar\": {\"outlinewidth\": 0, \"ticks\": \"\"}}, \"type\": \"scattergeo\"}], \"scattergl\": [{\"marker\": {\"colorbar\": {\"outlinewidth\": 0, \"ticks\": \"\"}}, \"type\": \"scattergl\"}], \"scattermapbox\": [{\"marker\": {\"colorbar\": {\"outlinewidth\": 0, \"ticks\": \"\"}}, \"type\": \"scattermapbox\"}], \"scatterpolar\": [{\"marker\": {\"colorbar\": {\"outlinewidth\": 0, \"ticks\": \"\"}}, \"type\": \"scatterpolar\"}], \"scatterpolargl\": [{\"marker\": {\"colorbar\": {\"outlinewidth\": 0, \"ticks\": \"\"}}, \"type\": \"scatterpolargl\"}], \"scatterternary\": [{\"marker\": {\"colorbar\": {\"outlinewidth\": 0, \"ticks\": \"\"}}, \"type\": \"scatterternary\"}], \"surface\": [{\"colorbar\": {\"outlinewidth\": 0, \"ticks\": \"\"}, \"colorscale\": [[0.0, \"#0d0887\"], [0.1111111111111111, \"#46039f\"], [0.2222222222222222, \"#7201a8\"], [0.3333333333333333, \"#9c179e\"], [0.4444444444444444, \"#bd3786\"], [0.5555555555555556, \"#d8576b\"], [0.6666666666666666, \"#ed7953\"], [0.7777777777777778, \"#fb9f3a\"], [0.8888888888888888, \"#fdca26\"], [1.0, \"#f0f921\"]], \"type\": \"surface\"}], \"table\": [{\"cells\": {\"fill\": {\"color\": \"#EBF0F8\"}, \"line\": {\"color\": \"white\"}}, \"header\": {\"fill\": {\"color\": \"#C8D4E3\"}, \"line\": {\"color\": \"white\"}}, \"type\": \"table\"}]}, \"layout\": {\"annotationdefaults\": {\"arrowcolor\": \"#2a3f5f\", \"arrowhead\": 0, \"arrowwidth\": 1}, \"coloraxis\": {\"colorbar\": {\"outlinewidth\": 0, \"ticks\": \"\"}}, \"colorscale\": {\"diverging\": [[0, \"#8e0152\"], [0.1, \"#c51b7d\"], [0.2, \"#de77ae\"], [0.3, \"#f1b6da\"], [0.4, \"#fde0ef\"], [0.5, \"#f7f7f7\"], [0.6, \"#e6f5d0\"], [0.7, \"#b8e186\"], [0.8, \"#7fbc41\"], [0.9, \"#4d9221\"], [1, \"#276419\"]], \"sequential\": [[0.0, \"#0d0887\"], [0.1111111111111111, \"#46039f\"], [0.2222222222222222, \"#7201a8\"], [0.3333333333333333, \"#9c179e\"], [0.4444444444444444, \"#bd3786\"], [0.5555555555555556, \"#d8576b\"], [0.6666666666666666, \"#ed7953\"], [0.7777777777777778, \"#fb9f3a\"], [0.8888888888888888, \"#fdca26\"], [1.0, \"#f0f921\"]], \"sequentialminus\": [[0.0, \"#0d0887\"], [0.1111111111111111, \"#46039f\"], [0.2222222222222222, \"#7201a8\"], [0.3333333333333333, \"#9c179e\"], [0.4444444444444444, \"#bd3786\"], [0.5555555555555556, \"#d8576b\"], [0.6666666666666666, \"#ed7953\"], [0.7777777777777778, \"#fb9f3a\"], [0.8888888888888888, \"#fdca26\"], [1.0, \"#f0f921\"]]}, \"colorway\": [\"#636efa\", \"#EF553B\", \"#00cc96\", \"#ab63fa\", \"#FFA15A\", \"#19d3f3\", \"#FF6692\", \"#B6E880\", \"#FF97FF\", \"#FECB52\"], \"font\": {\"color\": \"#2a3f5f\"}, \"geo\": {\"bgcolor\": \"white\", \"lakecolor\": \"white\", \"landcolor\": \"#E5ECF6\", \"showlakes\": true, \"showland\": true, \"subunitcolor\": \"white\"}, \"hoverlabel\": {\"align\": \"left\"}, \"hovermode\": \"closest\", \"mapbox\": {\"style\": \"light\"}, \"paper_bgcolor\": \"white\", \"plot_bgcolor\": \"#E5ECF6\", \"polar\": {\"angularaxis\": {\"gridcolor\": \"white\", \"linecolor\": \"white\", \"ticks\": \"\"}, \"bgcolor\": \"#E5ECF6\", \"radialaxis\": {\"gridcolor\": \"white\", \"linecolor\": \"white\", \"ticks\": \"\"}}, \"scene\": {\"xaxis\": {\"backgroundcolor\": \"#E5ECF6\", \"gridcolor\": \"white\", \"gridwidth\": 2, \"linecolor\": \"white\", \"showbackground\": true, \"ticks\": \"\", \"zerolinecolor\": \"white\"}, \"yaxis\": {\"backgroundcolor\": \"#E5ECF6\", \"gridcolor\": \"white\", \"gridwidth\": 2, \"linecolor\": \"white\", \"showbackground\": true, \"ticks\": \"\", \"zerolinecolor\": \"white\"}, \"zaxis\": {\"backgroundcolor\": \"#E5ECF6\", \"gridcolor\": \"white\", \"gridwidth\": 2, \"linecolor\": \"white\", \"showbackground\": true, \"ticks\": \"\", \"zerolinecolor\": \"white\"}}, \"shapedefaults\": {\"line\": {\"color\": \"#2a3f5f\"}}, \"ternary\": {\"aaxis\": {\"gridcolor\": \"white\", \"linecolor\": \"white\", \"ticks\": \"\"}, \"baxis\": {\"gridcolor\": \"white\", \"linecolor\": \"white\", \"ticks\": \"\"}, \"bgcolor\": \"#E5ECF6\", \"caxis\": {\"gridcolor\": \"white\", \"linecolor\": \"white\", \"ticks\": \"\"}}, \"title\": {\"x\": 0.05}, \"xaxis\": {\"automargin\": true, \"gridcolor\": \"white\", \"linecolor\": \"white\", \"ticks\": \"\", \"title\": {\"standoff\": 15}, \"zerolinecolor\": \"white\", \"zerolinewidth\": 2}, \"yaxis\": {\"automargin\": true, \"gridcolor\": \"white\", \"linecolor\": \"white\", \"ticks\": \"\", \"title\": {\"standoff\": 15}, \"zerolinecolor\": \"white\", \"zerolinewidth\": 2}}}, \"xaxis\": {\"anchor\": \"y\", \"domain\": [0.0, 1.0], \"title\": {\"text\": \"x\"}}, \"yaxis\": {\"anchor\": \"x\", \"domain\": [0.0, 1.0], \"title\": {\"text\": \"y\"}}},\n",
       "                        {\"responsive\": true}\n",
       "                    ).then(function(){\n",
       "                            \n",
       "var gd = document.getElementById('fd9e590d-4643-4313-a7a6-1ab22bc70edb');\n",
       "var x = new MutationObserver(function (mutations, observer) {{\n",
       "        var display = window.getComputedStyle(gd).display;\n",
       "        if (!display || display === 'none') {{\n",
       "            console.log([gd, 'removed!']);\n",
       "            Plotly.purge(gd);\n",
       "            observer.disconnect();\n",
       "        }}\n",
       "}});\n",
       "\n",
       "// Listen for the removal of the full notebook cells\n",
       "var notebookContainer = gd.closest('#notebook-container');\n",
       "if (notebookContainer) {{\n",
       "    x.observe(notebookContainer, {childList: true});\n",
       "}}\n",
       "\n",
       "// Listen for the clearing of the current output cell\n",
       "var outputEl = gd.closest('.output');\n",
       "if (outputEl) {{\n",
       "    x.observe(outputEl, {childList: true});\n",
       "}}\n",
       "\n",
       "                        })\n",
       "                };\n",
       "                });\n",
       "            </script>\n",
       "        </div>"
      ]
     },
     "metadata": {},
     "output_type": "display_data"
    }
   ],
   "source": [
    "fig = px.scatter(x=train_use.dropna()['ConfirmedCases_inc_lfd'], y=train_use.dropna()['Fatalities_inc'], trendline=\"ols\")\n",
    "fig.show()"
   ]
  },
  {
   "cell_type": "code",
   "execution_count": 145,
   "metadata": {},
   "outputs": [],
   "source": [
    "train_use['ConfirmedCases_lagn'] = train_use['ConfirmedCases'].shift(periods=5)"
   ]
  },
  {
   "cell_type": "code",
   "execution_count": 148,
   "metadata": {},
   "outputs": [
    {
     "data": {
      "application/vnd.plotly.v1+json": {
       "config": {
        "plotlyServerURL": "https://plot.ly"
       },
       "data": [
        {
         "hovertemplate": "x=%{x}<br>y=%{y}<extra></extra>",
         "legendgroup": "",
         "marker": {
          "color": "#636efa",
          "symbol": "circle"
         },
         "mode": "markers",
         "name": "",
         "showlegend": false,
         "type": "scatter",
         "x": [
          444,
          444,
          549,
          761,
          1058,
          1423,
          3554,
          3554,
          4903,
          5806,
          7153,
          11177,
          13522,
          16678,
          19665,
          22112,
          24953,
          27100,
          29631,
          31728,
          33366,
          33366,
          48206,
          54406,
          56249,
          58182,
          59989,
          61682,
          62031,
          62442,
          62662,
          64084,
          64084,
          64287,
          64786,
          65187,
          65596,
          65914,
          66337,
          66907,
          67103,
          67217,
          67332,
          67466,
          67592,
          67666,
          67707,
          67743,
          67760,
          67773,
          67781,
          67786,
          67790,
          67794,
          67798,
          67799,
          67800,
          67800,
          67800,
          67800,
          67800,
          67800,
          67801,
          67801,
          67801,
          67801,
          67801,
          67801,
          67801,
          67801,
          67802,
          67802
         ],
         "xaxis": "x",
         "y": [
          17,
          0,
          7,
          16,
          12,
          24,
          49,
          0,
          37,
          42,
          45,
          101,
          64,
          65,
          70,
          69,
          81,
          81,
          91,
          103,
          94,
          0,
          242,
          147,
          139,
          100,
          93,
          132,
          108,
          115,
          0,
          202,
          0,
          149,
          68,
          52,
          26,
          41,
          45,
          34,
          42,
          32,
          36,
          31,
          29,
          28,
          27,
          22,
          16,
          22,
          10,
          6,
          13,
          10,
          14,
          12,
          11,
          8,
          3,
          6,
          14,
          0,
          7,
          3,
          6,
          5,
          3,
          5,
          4,
          1,
          6,
          6
         ],
         "yaxis": "y"
        }
       ],
       "layout": {
        "legend": {
         "tracegroupgap": 0
        },
        "margin": {
         "t": 60
        },
        "template": {
         "data": {
          "bar": [
           {
            "error_x": {
             "color": "#2a3f5f"
            },
            "error_y": {
             "color": "#2a3f5f"
            },
            "marker": {
             "line": {
              "color": "#E5ECF6",
              "width": 0.5
             }
            },
            "type": "bar"
           }
          ],
          "barpolar": [
           {
            "marker": {
             "line": {
              "color": "#E5ECF6",
              "width": 0.5
             }
            },
            "type": "barpolar"
           }
          ],
          "carpet": [
           {
            "aaxis": {
             "endlinecolor": "#2a3f5f",
             "gridcolor": "white",
             "linecolor": "white",
             "minorgridcolor": "white",
             "startlinecolor": "#2a3f5f"
            },
            "baxis": {
             "endlinecolor": "#2a3f5f",
             "gridcolor": "white",
             "linecolor": "white",
             "minorgridcolor": "white",
             "startlinecolor": "#2a3f5f"
            },
            "type": "carpet"
           }
          ],
          "choropleth": [
           {
            "colorbar": {
             "outlinewidth": 0,
             "ticks": ""
            },
            "type": "choropleth"
           }
          ],
          "contour": [
           {
            "colorbar": {
             "outlinewidth": 0,
             "ticks": ""
            },
            "colorscale": [
             [
              0,
              "#0d0887"
             ],
             [
              0.1111111111111111,
              "#46039f"
             ],
             [
              0.2222222222222222,
              "#7201a8"
             ],
             [
              0.3333333333333333,
              "#9c179e"
             ],
             [
              0.4444444444444444,
              "#bd3786"
             ],
             [
              0.5555555555555556,
              "#d8576b"
             ],
             [
              0.6666666666666666,
              "#ed7953"
             ],
             [
              0.7777777777777778,
              "#fb9f3a"
             ],
             [
              0.8888888888888888,
              "#fdca26"
             ],
             [
              1,
              "#f0f921"
             ]
            ],
            "type": "contour"
           }
          ],
          "contourcarpet": [
           {
            "colorbar": {
             "outlinewidth": 0,
             "ticks": ""
            },
            "type": "contourcarpet"
           }
          ],
          "heatmap": [
           {
            "colorbar": {
             "outlinewidth": 0,
             "ticks": ""
            },
            "colorscale": [
             [
              0,
              "#0d0887"
             ],
             [
              0.1111111111111111,
              "#46039f"
             ],
             [
              0.2222222222222222,
              "#7201a8"
             ],
             [
              0.3333333333333333,
              "#9c179e"
             ],
             [
              0.4444444444444444,
              "#bd3786"
             ],
             [
              0.5555555555555556,
              "#d8576b"
             ],
             [
              0.6666666666666666,
              "#ed7953"
             ],
             [
              0.7777777777777778,
              "#fb9f3a"
             ],
             [
              0.8888888888888888,
              "#fdca26"
             ],
             [
              1,
              "#f0f921"
             ]
            ],
            "type": "heatmap"
           }
          ],
          "heatmapgl": [
           {
            "colorbar": {
             "outlinewidth": 0,
             "ticks": ""
            },
            "colorscale": [
             [
              0,
              "#0d0887"
             ],
             [
              0.1111111111111111,
              "#46039f"
             ],
             [
              0.2222222222222222,
              "#7201a8"
             ],
             [
              0.3333333333333333,
              "#9c179e"
             ],
             [
              0.4444444444444444,
              "#bd3786"
             ],
             [
              0.5555555555555556,
              "#d8576b"
             ],
             [
              0.6666666666666666,
              "#ed7953"
             ],
             [
              0.7777777777777778,
              "#fb9f3a"
             ],
             [
              0.8888888888888888,
              "#fdca26"
             ],
             [
              1,
              "#f0f921"
             ]
            ],
            "type": "heatmapgl"
           }
          ],
          "histogram": [
           {
            "marker": {
             "colorbar": {
              "outlinewidth": 0,
              "ticks": ""
             }
            },
            "type": "histogram"
           }
          ],
          "histogram2d": [
           {
            "colorbar": {
             "outlinewidth": 0,
             "ticks": ""
            },
            "colorscale": [
             [
              0,
              "#0d0887"
             ],
             [
              0.1111111111111111,
              "#46039f"
             ],
             [
              0.2222222222222222,
              "#7201a8"
             ],
             [
              0.3333333333333333,
              "#9c179e"
             ],
             [
              0.4444444444444444,
              "#bd3786"
             ],
             [
              0.5555555555555556,
              "#d8576b"
             ],
             [
              0.6666666666666666,
              "#ed7953"
             ],
             [
              0.7777777777777778,
              "#fb9f3a"
             ],
             [
              0.8888888888888888,
              "#fdca26"
             ],
             [
              1,
              "#f0f921"
             ]
            ],
            "type": "histogram2d"
           }
          ],
          "histogram2dcontour": [
           {
            "colorbar": {
             "outlinewidth": 0,
             "ticks": ""
            },
            "colorscale": [
             [
              0,
              "#0d0887"
             ],
             [
              0.1111111111111111,
              "#46039f"
             ],
             [
              0.2222222222222222,
              "#7201a8"
             ],
             [
              0.3333333333333333,
              "#9c179e"
             ],
             [
              0.4444444444444444,
              "#bd3786"
             ],
             [
              0.5555555555555556,
              "#d8576b"
             ],
             [
              0.6666666666666666,
              "#ed7953"
             ],
             [
              0.7777777777777778,
              "#fb9f3a"
             ],
             [
              0.8888888888888888,
              "#fdca26"
             ],
             [
              1,
              "#f0f921"
             ]
            ],
            "type": "histogram2dcontour"
           }
          ],
          "mesh3d": [
           {
            "colorbar": {
             "outlinewidth": 0,
             "ticks": ""
            },
            "type": "mesh3d"
           }
          ],
          "parcoords": [
           {
            "line": {
             "colorbar": {
              "outlinewidth": 0,
              "ticks": ""
             }
            },
            "type": "parcoords"
           }
          ],
          "pie": [
           {
            "automargin": true,
            "type": "pie"
           }
          ],
          "scatter": [
           {
            "marker": {
             "colorbar": {
              "outlinewidth": 0,
              "ticks": ""
             }
            },
            "type": "scatter"
           }
          ],
          "scatter3d": [
           {
            "line": {
             "colorbar": {
              "outlinewidth": 0,
              "ticks": ""
             }
            },
            "marker": {
             "colorbar": {
              "outlinewidth": 0,
              "ticks": ""
             }
            },
            "type": "scatter3d"
           }
          ],
          "scattercarpet": [
           {
            "marker": {
             "colorbar": {
              "outlinewidth": 0,
              "ticks": ""
             }
            },
            "type": "scattercarpet"
           }
          ],
          "scattergeo": [
           {
            "marker": {
             "colorbar": {
              "outlinewidth": 0,
              "ticks": ""
             }
            },
            "type": "scattergeo"
           }
          ],
          "scattergl": [
           {
            "marker": {
             "colorbar": {
              "outlinewidth": 0,
              "ticks": ""
             }
            },
            "type": "scattergl"
           }
          ],
          "scattermapbox": [
           {
            "marker": {
             "colorbar": {
              "outlinewidth": 0,
              "ticks": ""
             }
            },
            "type": "scattermapbox"
           }
          ],
          "scatterpolar": [
           {
            "marker": {
             "colorbar": {
              "outlinewidth": 0,
              "ticks": ""
             }
            },
            "type": "scatterpolar"
           }
          ],
          "scatterpolargl": [
           {
            "marker": {
             "colorbar": {
              "outlinewidth": 0,
              "ticks": ""
             }
            },
            "type": "scatterpolargl"
           }
          ],
          "scatterternary": [
           {
            "marker": {
             "colorbar": {
              "outlinewidth": 0,
              "ticks": ""
             }
            },
            "type": "scatterternary"
           }
          ],
          "surface": [
           {
            "colorbar": {
             "outlinewidth": 0,
             "ticks": ""
            },
            "colorscale": [
             [
              0,
              "#0d0887"
             ],
             [
              0.1111111111111111,
              "#46039f"
             ],
             [
              0.2222222222222222,
              "#7201a8"
             ],
             [
              0.3333333333333333,
              "#9c179e"
             ],
             [
              0.4444444444444444,
              "#bd3786"
             ],
             [
              0.5555555555555556,
              "#d8576b"
             ],
             [
              0.6666666666666666,
              "#ed7953"
             ],
             [
              0.7777777777777778,
              "#fb9f3a"
             ],
             [
              0.8888888888888888,
              "#fdca26"
             ],
             [
              1,
              "#f0f921"
             ]
            ],
            "type": "surface"
           }
          ],
          "table": [
           {
            "cells": {
             "fill": {
              "color": "#EBF0F8"
             },
             "line": {
              "color": "white"
             }
            },
            "header": {
             "fill": {
              "color": "#C8D4E3"
             },
             "line": {
              "color": "white"
             }
            },
            "type": "table"
           }
          ]
         },
         "layout": {
          "annotationdefaults": {
           "arrowcolor": "#2a3f5f",
           "arrowhead": 0,
           "arrowwidth": 1
          },
          "coloraxis": {
           "colorbar": {
            "outlinewidth": 0,
            "ticks": ""
           }
          },
          "colorscale": {
           "diverging": [
            [
             0,
             "#8e0152"
            ],
            [
             0.1,
             "#c51b7d"
            ],
            [
             0.2,
             "#de77ae"
            ],
            [
             0.3,
             "#f1b6da"
            ],
            [
             0.4,
             "#fde0ef"
            ],
            [
             0.5,
             "#f7f7f7"
            ],
            [
             0.6,
             "#e6f5d0"
            ],
            [
             0.7,
             "#b8e186"
            ],
            [
             0.8,
             "#7fbc41"
            ],
            [
             0.9,
             "#4d9221"
            ],
            [
             1,
             "#276419"
            ]
           ],
           "sequential": [
            [
             0,
             "#0d0887"
            ],
            [
             0.1111111111111111,
             "#46039f"
            ],
            [
             0.2222222222222222,
             "#7201a8"
            ],
            [
             0.3333333333333333,
             "#9c179e"
            ],
            [
             0.4444444444444444,
             "#bd3786"
            ],
            [
             0.5555555555555556,
             "#d8576b"
            ],
            [
             0.6666666666666666,
             "#ed7953"
            ],
            [
             0.7777777777777778,
             "#fb9f3a"
            ],
            [
             0.8888888888888888,
             "#fdca26"
            ],
            [
             1,
             "#f0f921"
            ]
           ],
           "sequentialminus": [
            [
             0,
             "#0d0887"
            ],
            [
             0.1111111111111111,
             "#46039f"
            ],
            [
             0.2222222222222222,
             "#7201a8"
            ],
            [
             0.3333333333333333,
             "#9c179e"
            ],
            [
             0.4444444444444444,
             "#bd3786"
            ],
            [
             0.5555555555555556,
             "#d8576b"
            ],
            [
             0.6666666666666666,
             "#ed7953"
            ],
            [
             0.7777777777777778,
             "#fb9f3a"
            ],
            [
             0.8888888888888888,
             "#fdca26"
            ],
            [
             1,
             "#f0f921"
            ]
           ]
          },
          "colorway": [
           "#636efa",
           "#EF553B",
           "#00cc96",
           "#ab63fa",
           "#FFA15A",
           "#19d3f3",
           "#FF6692",
           "#B6E880",
           "#FF97FF",
           "#FECB52"
          ],
          "font": {
           "color": "#2a3f5f"
          },
          "geo": {
           "bgcolor": "white",
           "lakecolor": "white",
           "landcolor": "#E5ECF6",
           "showlakes": true,
           "showland": true,
           "subunitcolor": "white"
          },
          "hoverlabel": {
           "align": "left"
          },
          "hovermode": "closest",
          "mapbox": {
           "style": "light"
          },
          "paper_bgcolor": "white",
          "plot_bgcolor": "#E5ECF6",
          "polar": {
           "angularaxis": {
            "gridcolor": "white",
            "linecolor": "white",
            "ticks": ""
           },
           "bgcolor": "#E5ECF6",
           "radialaxis": {
            "gridcolor": "white",
            "linecolor": "white",
            "ticks": ""
           }
          },
          "scene": {
           "xaxis": {
            "backgroundcolor": "#E5ECF6",
            "gridcolor": "white",
            "gridwidth": 2,
            "linecolor": "white",
            "showbackground": true,
            "ticks": "",
            "zerolinecolor": "white"
           },
           "yaxis": {
            "backgroundcolor": "#E5ECF6",
            "gridcolor": "white",
            "gridwidth": 2,
            "linecolor": "white",
            "showbackground": true,
            "ticks": "",
            "zerolinecolor": "white"
           },
           "zaxis": {
            "backgroundcolor": "#E5ECF6",
            "gridcolor": "white",
            "gridwidth": 2,
            "linecolor": "white",
            "showbackground": true,
            "ticks": "",
            "zerolinecolor": "white"
           }
          },
          "shapedefaults": {
           "line": {
            "color": "#2a3f5f"
           }
          },
          "ternary": {
           "aaxis": {
            "gridcolor": "white",
            "linecolor": "white",
            "ticks": ""
           },
           "baxis": {
            "gridcolor": "white",
            "linecolor": "white",
            "ticks": ""
           },
           "bgcolor": "#E5ECF6",
           "caxis": {
            "gridcolor": "white",
            "linecolor": "white",
            "ticks": ""
           }
          },
          "title": {
           "x": 0.05
          },
          "xaxis": {
           "automargin": true,
           "gridcolor": "white",
           "linecolor": "white",
           "ticks": "",
           "title": {
            "standoff": 15
           },
           "zerolinecolor": "white",
           "zerolinewidth": 2
          },
          "yaxis": {
           "automargin": true,
           "gridcolor": "white",
           "linecolor": "white",
           "ticks": "",
           "title": {
            "standoff": 15
           },
           "zerolinecolor": "white",
           "zerolinewidth": 2
          }
         }
        },
        "xaxis": {
         "anchor": "y",
         "domain": [
          0,
          1
         ],
         "title": {
          "text": "x"
         }
        },
        "yaxis": {
         "anchor": "x",
         "domain": [
          0,
          1
         ],
         "title": {
          "text": "y"
         }
        }
       }
      },
      "text/html": [
       "<div>\n",
       "        \n",
       "        \n",
       "            <div id=\"3e6f4b03-eb53-4928-bab3-35948e6b6920\" class=\"plotly-graph-div\" style=\"height:525px; width:100%;\"></div>\n",
       "            <script type=\"text/javascript\">\n",
       "                require([\"plotly\"], function(Plotly) {\n",
       "                    window.PLOTLYENV=window.PLOTLYENV || {};\n",
       "                    \n",
       "                if (document.getElementById(\"3e6f4b03-eb53-4928-bab3-35948e6b6920\")) {\n",
       "                    Plotly.newPlot(\n",
       "                        '3e6f4b03-eb53-4928-bab3-35948e6b6920',\n",
       "                        [{\"hovertemplate\": \"x=%{x}<br>y=%{y}<extra></extra>\", \"legendgroup\": \"\", \"marker\": {\"color\": \"#636efa\", \"symbol\": \"circle\"}, \"mode\": \"markers\", \"name\": \"\", \"showlegend\": false, \"type\": \"scatter\", \"x\": [444.0, 444.0, 549.0, 761.0, 1058.0, 1423.0, 3554.0, 3554.0, 4903.0, 5806.0, 7153.0, 11177.0, 13522.0, 16678.0, 19665.0, 22112.0, 24953.0, 27100.0, 29631.0, 31728.0, 33366.0, 33366.0, 48206.0, 54406.0, 56249.0, 58182.0, 59989.0, 61682.0, 62031.0, 62442.0, 62662.0, 64084.0, 64084.0, 64287.0, 64786.0, 65187.0, 65596.0, 65914.0, 66337.0, 66907.0, 67103.0, 67217.0, 67332.0, 67466.0, 67592.0, 67666.0, 67707.0, 67743.0, 67760.0, 67773.0, 67781.0, 67786.0, 67790.0, 67794.0, 67798.0, 67799.0, 67800.0, 67800.0, 67800.0, 67800.0, 67800.0, 67800.0, 67801.0, 67801.0, 67801.0, 67801.0, 67801.0, 67801.0, 67801.0, 67801.0, 67802.0, 67802.0], \"xaxis\": \"x\", \"y\": [17.0, 0.0, 7.0, 16.0, 12.0, 24.0, 49.0, 0.0, 37.0, 42.0, 45.0, 101.0, 64.0, 65.0, 70.0, 69.0, 81.0, 81.0, 91.0, 103.0, 94.0, 0.0, 242.0, 147.0, 139.0, 100.0, 93.0, 132.0, 108.0, 115.0, 0.0, 202.0, 0.0, 149.0, 68.0, 52.0, 26.0, 41.0, 45.0, 34.0, 42.0, 32.0, 36.0, 31.0, 29.0, 28.0, 27.0, 22.0, 16.0, 22.0, 10.0, 6.0, 13.0, 10.0, 14.0, 12.0, 11.0, 8.0, 3.0, 6.0, 14.0, 0.0, 7.0, 3.0, 6.0, 5.0, 3.0, 5.0, 4.0, 1.0, 6.0, 6.0], \"yaxis\": \"y\"}],\n",
       "                        {\"legend\": {\"tracegroupgap\": 0}, \"margin\": {\"t\": 60}, \"template\": {\"data\": {\"bar\": [{\"error_x\": {\"color\": \"#2a3f5f\"}, \"error_y\": {\"color\": \"#2a3f5f\"}, \"marker\": {\"line\": {\"color\": \"#E5ECF6\", \"width\": 0.5}}, \"type\": \"bar\"}], \"barpolar\": [{\"marker\": {\"line\": {\"color\": \"#E5ECF6\", \"width\": 0.5}}, \"type\": \"barpolar\"}], \"carpet\": [{\"aaxis\": {\"endlinecolor\": \"#2a3f5f\", \"gridcolor\": \"white\", \"linecolor\": \"white\", \"minorgridcolor\": \"white\", \"startlinecolor\": \"#2a3f5f\"}, \"baxis\": {\"endlinecolor\": \"#2a3f5f\", \"gridcolor\": \"white\", \"linecolor\": \"white\", \"minorgridcolor\": \"white\", \"startlinecolor\": \"#2a3f5f\"}, \"type\": \"carpet\"}], \"choropleth\": [{\"colorbar\": {\"outlinewidth\": 0, \"ticks\": \"\"}, \"type\": \"choropleth\"}], \"contour\": [{\"colorbar\": {\"outlinewidth\": 0, \"ticks\": \"\"}, \"colorscale\": [[0.0, \"#0d0887\"], [0.1111111111111111, \"#46039f\"], [0.2222222222222222, \"#7201a8\"], [0.3333333333333333, \"#9c179e\"], [0.4444444444444444, \"#bd3786\"], [0.5555555555555556, \"#d8576b\"], [0.6666666666666666, \"#ed7953\"], [0.7777777777777778, \"#fb9f3a\"], [0.8888888888888888, \"#fdca26\"], [1.0, \"#f0f921\"]], \"type\": \"contour\"}], \"contourcarpet\": [{\"colorbar\": {\"outlinewidth\": 0, \"ticks\": \"\"}, \"type\": \"contourcarpet\"}], \"heatmap\": [{\"colorbar\": {\"outlinewidth\": 0, \"ticks\": \"\"}, \"colorscale\": [[0.0, \"#0d0887\"], [0.1111111111111111, \"#46039f\"], [0.2222222222222222, \"#7201a8\"], [0.3333333333333333, \"#9c179e\"], [0.4444444444444444, \"#bd3786\"], [0.5555555555555556, \"#d8576b\"], [0.6666666666666666, \"#ed7953\"], [0.7777777777777778, \"#fb9f3a\"], [0.8888888888888888, \"#fdca26\"], [1.0, \"#f0f921\"]], \"type\": \"heatmap\"}], \"heatmapgl\": [{\"colorbar\": {\"outlinewidth\": 0, \"ticks\": \"\"}, \"colorscale\": [[0.0, \"#0d0887\"], [0.1111111111111111, \"#46039f\"], [0.2222222222222222, \"#7201a8\"], [0.3333333333333333, \"#9c179e\"], [0.4444444444444444, \"#bd3786\"], [0.5555555555555556, \"#d8576b\"], [0.6666666666666666, \"#ed7953\"], [0.7777777777777778, \"#fb9f3a\"], [0.8888888888888888, \"#fdca26\"], [1.0, \"#f0f921\"]], \"type\": \"heatmapgl\"}], \"histogram\": [{\"marker\": {\"colorbar\": {\"outlinewidth\": 0, \"ticks\": \"\"}}, \"type\": \"histogram\"}], \"histogram2d\": [{\"colorbar\": {\"outlinewidth\": 0, \"ticks\": \"\"}, \"colorscale\": [[0.0, \"#0d0887\"], [0.1111111111111111, \"#46039f\"], [0.2222222222222222, \"#7201a8\"], [0.3333333333333333, \"#9c179e\"], [0.4444444444444444, \"#bd3786\"], [0.5555555555555556, \"#d8576b\"], [0.6666666666666666, \"#ed7953\"], [0.7777777777777778, \"#fb9f3a\"], [0.8888888888888888, \"#fdca26\"], [1.0, \"#f0f921\"]], \"type\": \"histogram2d\"}], \"histogram2dcontour\": [{\"colorbar\": {\"outlinewidth\": 0, \"ticks\": \"\"}, \"colorscale\": [[0.0, \"#0d0887\"], [0.1111111111111111, \"#46039f\"], [0.2222222222222222, \"#7201a8\"], [0.3333333333333333, \"#9c179e\"], [0.4444444444444444, \"#bd3786\"], [0.5555555555555556, \"#d8576b\"], [0.6666666666666666, \"#ed7953\"], [0.7777777777777778, \"#fb9f3a\"], [0.8888888888888888, \"#fdca26\"], [1.0, \"#f0f921\"]], \"type\": \"histogram2dcontour\"}], \"mesh3d\": [{\"colorbar\": {\"outlinewidth\": 0, \"ticks\": \"\"}, \"type\": \"mesh3d\"}], \"parcoords\": [{\"line\": {\"colorbar\": {\"outlinewidth\": 0, \"ticks\": \"\"}}, \"type\": \"parcoords\"}], \"pie\": [{\"automargin\": true, \"type\": \"pie\"}], \"scatter\": [{\"marker\": {\"colorbar\": {\"outlinewidth\": 0, \"ticks\": \"\"}}, \"type\": \"scatter\"}], \"scatter3d\": [{\"line\": {\"colorbar\": {\"outlinewidth\": 0, \"ticks\": \"\"}}, \"marker\": {\"colorbar\": {\"outlinewidth\": 0, \"ticks\": \"\"}}, \"type\": \"scatter3d\"}], \"scattercarpet\": [{\"marker\": {\"colorbar\": {\"outlinewidth\": 0, \"ticks\": \"\"}}, \"type\": \"scattercarpet\"}], \"scattergeo\": [{\"marker\": {\"colorbar\": {\"outlinewidth\": 0, \"ticks\": \"\"}}, \"type\": \"scattergeo\"}], \"scattergl\": [{\"marker\": {\"colorbar\": {\"outlinewidth\": 0, \"ticks\": \"\"}}, \"type\": \"scattergl\"}], \"scattermapbox\": [{\"marker\": {\"colorbar\": {\"outlinewidth\": 0, \"ticks\": \"\"}}, \"type\": \"scattermapbox\"}], \"scatterpolar\": [{\"marker\": {\"colorbar\": {\"outlinewidth\": 0, \"ticks\": \"\"}}, \"type\": \"scatterpolar\"}], \"scatterpolargl\": [{\"marker\": {\"colorbar\": {\"outlinewidth\": 0, \"ticks\": \"\"}}, \"type\": \"scatterpolargl\"}], \"scatterternary\": [{\"marker\": {\"colorbar\": {\"outlinewidth\": 0, \"ticks\": \"\"}}, \"type\": \"scatterternary\"}], \"surface\": [{\"colorbar\": {\"outlinewidth\": 0, \"ticks\": \"\"}, \"colorscale\": [[0.0, \"#0d0887\"], [0.1111111111111111, \"#46039f\"], [0.2222222222222222, \"#7201a8\"], [0.3333333333333333, \"#9c179e\"], [0.4444444444444444, \"#bd3786\"], [0.5555555555555556, \"#d8576b\"], [0.6666666666666666, \"#ed7953\"], [0.7777777777777778, \"#fb9f3a\"], [0.8888888888888888, \"#fdca26\"], [1.0, \"#f0f921\"]], \"type\": \"surface\"}], \"table\": [{\"cells\": {\"fill\": {\"color\": \"#EBF0F8\"}, \"line\": {\"color\": \"white\"}}, \"header\": {\"fill\": {\"color\": \"#C8D4E3\"}, \"line\": {\"color\": \"white\"}}, \"type\": \"table\"}]}, \"layout\": {\"annotationdefaults\": {\"arrowcolor\": \"#2a3f5f\", \"arrowhead\": 0, \"arrowwidth\": 1}, \"coloraxis\": {\"colorbar\": {\"outlinewidth\": 0, \"ticks\": \"\"}}, \"colorscale\": {\"diverging\": [[0, \"#8e0152\"], [0.1, \"#c51b7d\"], [0.2, \"#de77ae\"], [0.3, \"#f1b6da\"], [0.4, \"#fde0ef\"], [0.5, \"#f7f7f7\"], [0.6, \"#e6f5d0\"], [0.7, \"#b8e186\"], [0.8, \"#7fbc41\"], [0.9, \"#4d9221\"], [1, \"#276419\"]], \"sequential\": [[0.0, \"#0d0887\"], [0.1111111111111111, \"#46039f\"], [0.2222222222222222, \"#7201a8\"], [0.3333333333333333, \"#9c179e\"], [0.4444444444444444, \"#bd3786\"], [0.5555555555555556, \"#d8576b\"], [0.6666666666666666, \"#ed7953\"], [0.7777777777777778, \"#fb9f3a\"], [0.8888888888888888, \"#fdca26\"], [1.0, \"#f0f921\"]], \"sequentialminus\": [[0.0, \"#0d0887\"], [0.1111111111111111, \"#46039f\"], [0.2222222222222222, \"#7201a8\"], [0.3333333333333333, \"#9c179e\"], [0.4444444444444444, \"#bd3786\"], [0.5555555555555556, \"#d8576b\"], [0.6666666666666666, \"#ed7953\"], [0.7777777777777778, \"#fb9f3a\"], [0.8888888888888888, \"#fdca26\"], [1.0, \"#f0f921\"]]}, \"colorway\": [\"#636efa\", \"#EF553B\", \"#00cc96\", \"#ab63fa\", \"#FFA15A\", \"#19d3f3\", \"#FF6692\", \"#B6E880\", \"#FF97FF\", \"#FECB52\"], \"font\": {\"color\": \"#2a3f5f\"}, \"geo\": {\"bgcolor\": \"white\", \"lakecolor\": \"white\", \"landcolor\": \"#E5ECF6\", \"showlakes\": true, \"showland\": true, \"subunitcolor\": \"white\"}, \"hoverlabel\": {\"align\": \"left\"}, \"hovermode\": \"closest\", \"mapbox\": {\"style\": \"light\"}, \"paper_bgcolor\": \"white\", \"plot_bgcolor\": \"#E5ECF6\", \"polar\": {\"angularaxis\": {\"gridcolor\": \"white\", \"linecolor\": \"white\", \"ticks\": \"\"}, \"bgcolor\": \"#E5ECF6\", \"radialaxis\": {\"gridcolor\": \"white\", \"linecolor\": \"white\", \"ticks\": \"\"}}, \"scene\": {\"xaxis\": {\"backgroundcolor\": \"#E5ECF6\", \"gridcolor\": \"white\", \"gridwidth\": 2, \"linecolor\": \"white\", \"showbackground\": true, \"ticks\": \"\", \"zerolinecolor\": \"white\"}, \"yaxis\": {\"backgroundcolor\": \"#E5ECF6\", \"gridcolor\": \"white\", \"gridwidth\": 2, \"linecolor\": \"white\", \"showbackground\": true, \"ticks\": \"\", \"zerolinecolor\": \"white\"}, \"zaxis\": {\"backgroundcolor\": \"#E5ECF6\", \"gridcolor\": \"white\", \"gridwidth\": 2, \"linecolor\": \"white\", \"showbackground\": true, \"ticks\": \"\", \"zerolinecolor\": \"white\"}}, \"shapedefaults\": {\"line\": {\"color\": \"#2a3f5f\"}}, \"ternary\": {\"aaxis\": {\"gridcolor\": \"white\", \"linecolor\": \"white\", \"ticks\": \"\"}, \"baxis\": {\"gridcolor\": \"white\", \"linecolor\": \"white\", \"ticks\": \"\"}, \"bgcolor\": \"#E5ECF6\", \"caxis\": {\"gridcolor\": \"white\", \"linecolor\": \"white\", \"ticks\": \"\"}}, \"title\": {\"x\": 0.05}, \"xaxis\": {\"automargin\": true, \"gridcolor\": \"white\", \"linecolor\": \"white\", \"ticks\": \"\", \"title\": {\"standoff\": 15}, \"zerolinecolor\": \"white\", \"zerolinewidth\": 2}, \"yaxis\": {\"automargin\": true, \"gridcolor\": \"white\", \"linecolor\": \"white\", \"ticks\": \"\", \"title\": {\"standoff\": 15}, \"zerolinecolor\": \"white\", \"zerolinewidth\": 2}}}, \"xaxis\": {\"anchor\": \"y\", \"domain\": [0.0, 1.0], \"title\": {\"text\": \"x\"}}, \"yaxis\": {\"anchor\": \"x\", \"domain\": [0.0, 1.0], \"title\": {\"text\": \"y\"}}},\n",
       "                        {\"responsive\": true}\n",
       "                    ).then(function(){\n",
       "                            \n",
       "var gd = document.getElementById('3e6f4b03-eb53-4928-bab3-35948e6b6920');\n",
       "var x = new MutationObserver(function (mutations, observer) {{\n",
       "        var display = window.getComputedStyle(gd).display;\n",
       "        if (!display || display === 'none') {{\n",
       "            console.log([gd, 'removed!']);\n",
       "            Plotly.purge(gd);\n",
       "            observer.disconnect();\n",
       "        }}\n",
       "}});\n",
       "\n",
       "// Listen for the removal of the full notebook cells\n",
       "var notebookContainer = gd.closest('#notebook-container');\n",
       "if (notebookContainer) {{\n",
       "    x.observe(notebookContainer, {childList: true});\n",
       "}}\n",
       "\n",
       "// Listen for the clearing of the current output cell\n",
       "var outputEl = gd.closest('.output');\n",
       "if (outputEl) {{\n",
       "    x.observe(outputEl, {childList: true});\n",
       "}}\n",
       "\n",
       "                        })\n",
       "                };\n",
       "                });\n",
       "            </script>\n",
       "        </div>"
      ]
     },
     "metadata": {},
     "output_type": "display_data"
    }
   ],
   "source": [
    "fig = px.scatter(x=train_use['ConfirmedCases'], y=train_use['Fatalities_inc'])\n",
    "fig.show()"
   ]
  },
  {
   "cell_type": "code",
   "execution_count": null,
   "metadata": {},
   "outputs": [],
   "source": []
  }
 ],
 "metadata": {
  "kernelspec": {
   "display_name": "Python 3",
   "language": "python",
   "name": "python3"
  },
  "language_info": {
   "codemirror_mode": {
    "name": "ipython",
    "version": 3
   },
   "file_extension": ".py",
   "mimetype": "text/x-python",
   "name": "python",
   "nbconvert_exporter": "python",
   "pygments_lexer": "ipython3",
   "version": "3.6.2"
  }
 },
 "nbformat": 4,
 "nbformat_minor": 2
}
